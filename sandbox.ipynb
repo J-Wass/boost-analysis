{
 "cells": [
  {
   "cell_type": "code",
   "execution_count": 1,
   "metadata": {},
   "outputs": [],
   "source": [
    "import carball\n",
    "import os\n",
    "import gzip\n",
    "from carball.json_parser.game import Game\n",
    "from carball.analysis.analysis_manager import AnalysisManager\n",
    "import pandas as pd\n",
    "import os\n",
    "from carball.decompile_replays import analyze_replay_file\n",
    "import json\n",
    "\n",
    "class Player:\n",
    "    player_id = -1\n",
    "    boost_used = 0\n",
    "    shots = 0\n",
    "    attacking_time = 0\n",
    "    games = 0\n",
    "    name = \"\"\n",
    "    region = -1 # 0 = NA, 1 = EU\n",
    "    num_stolen_boosts = 0\n",
    "    wasted_boost = 0\n",
    "    ave_boost_level = 0\n",
    "    most_back_player = 0\n",
    "    \n",
    "    def __repr__(self):\n",
    "        return \"{0}-{5}\\n\\tBoost/Game: {1}\\n\\Shots/Game: {2}\\n\\tAttacking: {3}\\n\\Wasted Boost: {4}\".format(self.name,self.boost_used/self.games,self.shots/self.games,int(self.attacking_time/(self.games)*100),wasted_boost,region)\n",
    "    \n"
   ]
  },
  {
   "cell_type": "code",
   "execution_count": 13,
   "metadata": {
    "scrolled": false
   },
   "outputs": [],
   "source": [
    "# load path for all game replays\n",
    "\n",
    "games = []\n",
    "# r=root, d=directories, f = files\n",
    "for r, d, f in os.walk('replays'):\n",
    "    for file in f:\n",
    "        if file.endswith('.replay'):\n",
    "            games.append(os.path.join(r, file))\n"
   ]
  },
  {
   "cell_type": "code",
   "execution_count": 14,
   "metadata": {
    "scrolled": true
   },
   "outputs": [
    {
     "name": "stdout",
     "output_type": "stream",
     "text": [
      "replays/Week 4/M6 G2 vs NRG/M6G3.replay\n",
      "['rattletrap-6.3.1-osx', 'rattletrap-6.3.1-windows.exe', 'rattletrap-6.3.1-linux']\n"
     ]
    },
    {
     "name": "stderr",
     "output_type": "stream",
     "text": [
      "Player RLCS Admin as player has no MatchScore.\n",
      "Score is not found for player\n",
      "Ignoring player: RLCS Admin as player has no team.\n",
      "Player RLCS Observer 3 as player has no MatchScore.\n",
      "Score is not found for player\n",
      "Ignoring player: RLCS Observer 3 as player has no team.\n",
      "Player RLCS Observer 1 as player has no MatchScore.\n",
      "Score is not found for player\n",
      "Ignoring player: RLCS Observer 1 as player has no team.\n",
      "Player RLCS Observer 2 as player has no MatchScore.\n",
      "Score is not found for player\n",
      "Ignoring player: RLCS Observer 2 as player has no team.\n",
      "Dropping these columns[('game', 'is_overtime')]\n"
     ]
    },
    {
     "name": "stdout",
     "output_type": "stream",
     "text": [
      "replays/Week 4/M6 G2 vs NRG/M6G1.replay\n",
      "['rattletrap-6.3.1-osx', 'rattletrap-6.3.1-windows.exe', 'rattletrap-6.3.1-linux']\n"
     ]
    },
    {
     "name": "stderr",
     "output_type": "stream",
     "text": [
      "Player RLCS Observer 1 as player has no MatchScore.\n",
      "Score is not found for player\n",
      "Ignoring player: RLCS Observer 1 as player has no team.\n",
      "Player RLCS Admin as player has no MatchScore.\n",
      "Score is not found for player\n",
      "Ignoring player: RLCS Admin as player has no team.\n",
      "Player RLCS Observer 3 as player has no MatchScore.\n",
      "Score is not found for player\n",
      "Ignoring player: RLCS Observer 3 as player has no team.\n",
      "Player RLCS Observer 2 as player has no MatchScore.\n",
      "Score is not found for player\n",
      "Ignoring player: RLCS Observer 2 as player has no team.\n",
      "Dropping these columns[('game', 'is_overtime')]\n"
     ]
    },
    {
     "name": "stdout",
     "output_type": "stream",
     "text": [
      "replays/Week 4/M6 G2 vs NRG/M6G2.replay\n",
      "['rattletrap-6.3.1-osx', 'rattletrap-6.3.1-windows.exe', 'rattletrap-6.3.1-linux']\n"
     ]
    },
    {
     "name": "stderr",
     "output_type": "stream",
     "text": [
      "Player RLCS Admin as player has no MatchScore.\n",
      "Score is not found for player\n",
      "Ignoring player: RLCS Admin as player has no team.\n",
      "Player RLCS Observer 2 as player has no MatchScore.\n",
      "Score is not found for player\n",
      "Ignoring player: RLCS Observer 2 as player has no team.\n",
      "Player RLCS Observer 3 as player has no MatchScore.\n",
      "Score is not found for player\n",
      "Ignoring player: RLCS Observer 3 as player has no team.\n",
      "Player RLCS Observer 1 as player has no MatchScore.\n",
      "Score is not found for player\n",
      "Ignoring player: RLCS Observer 1 as player has no team.\n",
      "Dropping these columns[('game', 'is_overtime')]\n"
     ]
    },
    {
     "name": "stdout",
     "output_type": "stream",
     "text": [
      "replays/Week 4/M6 G2 vs NRG/M6G4.replay\n",
      "['rattletrap-6.3.1-osx', 'rattletrap-6.3.1-windows.exe', 'rattletrap-6.3.1-linux']\n"
     ]
    },
    {
     "name": "stderr",
     "output_type": "stream",
     "text": [
      "Player RLCS Admin as player has no MatchScore.\n",
      "Score is not found for player\n",
      "Ignoring player: RLCS Admin as player has no team.\n",
      "Player RLCS Observer 2 as player has no MatchScore.\n",
      "Score is not found for player\n",
      "Ignoring player: RLCS Observer 2 as player has no team.\n",
      "Player RLCS Observer 3 as player has no MatchScore.\n",
      "Score is not found for player\n",
      "Ignoring player: RLCS Observer 3 as player has no team.\n",
      "Player RLCS Observer 1 as player has no MatchScore.\n",
      "Score is not found for player\n",
      "Ignoring player: RLCS Observer 1 as player has no team.\n",
      "Dropping these columns[('game', 'is_overtime')]\n"
     ]
    },
    {
     "name": "stdout",
     "output_type": "stream",
     "text": [
      "replays/Week 4/M1 Ghost vs SSG/M1G1.replay\n",
      "['rattletrap-6.3.1-osx', 'rattletrap-6.3.1-windows.exe', 'rattletrap-6.3.1-linux']\n"
     ]
    },
    {
     "name": "stderr",
     "output_type": "stream",
     "text": [
      "Player RLCS Observer 2 as player has no MatchScore.\n",
      "Score is not found for player\n",
      "Ignoring player: RLCS Observer 2 as player has no team.\n",
      "Player RLCS Admin as player has no MatchScore.\n",
      "Score is not found for player\n",
      "Ignoring player: RLCS Admin as player has no team.\n",
      "Player RLCS Observer 3 as player has no MatchScore.\n",
      "Score is not found for player\n",
      "Ignoring player: RLCS Observer 3 as player has no team.\n",
      "Player RLCS Observer 1 as player has no MatchScore.\n",
      "Score is not found for player\n",
      "Ignoring player: RLCS Observer 1 as player has no team.\n",
      "Dropping these columns[('game', 'is_overtime')]\n"
     ]
    },
    {
     "name": "stdout",
     "output_type": "stream",
     "text": [
      "replays/Week 4/M1 Ghost vs SSG/M1G3.replay\n",
      "['rattletrap-6.3.1-osx', 'rattletrap-6.3.1-windows.exe', 'rattletrap-6.3.1-linux']\n"
     ]
    },
    {
     "name": "stderr",
     "output_type": "stream",
     "text": [
      "Player RLCS Admin as player has no MatchScore.\n",
      "Score is not found for player\n",
      "Ignoring player: RLCS Admin as player has no team.\n",
      "Player RLCS Observer 3 as player has no MatchScore.\n",
      "Score is not found for player\n",
      "Ignoring player: RLCS Observer 3 as player has no team.\n",
      "Player RLCS Observer 1 as player has no MatchScore.\n",
      "Score is not found for player\n",
      "Ignoring player: RLCS Observer 1 as player has no team.\n",
      "Player RLCS Observer 2 as player has no MatchScore.\n",
      "Score is not found for player\n",
      "Ignoring player: RLCS Observer 2 as player has no team.\n",
      "Dropping these columns[('game', 'is_overtime')]\n"
     ]
    },
    {
     "name": "stdout",
     "output_type": "stream",
     "text": [
      "replays/Week 4/M1 Ghost vs SSG/M1G5.replay\n",
      "['rattletrap-6.3.1-osx', 'rattletrap-6.3.1-windows.exe', 'rattletrap-6.3.1-linux']\n"
     ]
    },
    {
     "name": "stderr",
     "output_type": "stream",
     "text": [
      "Player RLCS Admin as player has no MatchScore.\n",
      "Score is not found for player\n",
      "Ignoring player: RLCS Admin as player has no team.\n",
      "Player RLCS Observer 1 as player has no MatchScore.\n",
      "Score is not found for player\n",
      "Ignoring player: RLCS Observer 1 as player has no team.\n",
      "Player RLCS Observer 3 as player has no MatchScore.\n",
      "Score is not found for player\n",
      "Ignoring player: RLCS Observer 3 as player has no team.\n",
      "Player RLCS Observer 2 as player has no MatchScore.\n",
      "Score is not found for player\n",
      "Ignoring player: RLCS Observer 2 as player has no team.\n",
      "Dropping these columns[('game', 'is_overtime')]\n"
     ]
    },
    {
     "name": "stdout",
     "output_type": "stream",
     "text": [
      "replays/Week 4/M1 Ghost vs SSG/M1G4.replay\n",
      "['rattletrap-6.3.1-osx', 'rattletrap-6.3.1-windows.exe', 'rattletrap-6.3.1-linux']\n"
     ]
    },
    {
     "name": "stderr",
     "output_type": "stream",
     "text": [
      "Player RLCS Admin as player has no MatchScore.\n",
      "Score is not found for player\n",
      "Ignoring player: RLCS Admin as player has no team.\n",
      "Player RLCS Observer 2 as player has no MatchScore.\n",
      "Score is not found for player\n",
      "Ignoring player: RLCS Observer 2 as player has no team.\n",
      "Player RLCS Observer 1 as player has no MatchScore.\n",
      "Score is not found for player\n",
      "Ignoring player: RLCS Observer 1 as player has no team.\n",
      "Player RLCS Observer 3 as player has no MatchScore.\n",
      "Score is not found for player\n",
      "Ignoring player: RLCS Observer 3 as player has no team.\n",
      "Dropping these columns[('game', 'is_overtime')]\n"
     ]
    },
    {
     "name": "stdout",
     "output_type": "stream",
     "text": [
      "replays/Week 4/M1 Ghost vs SSG/M1G2.replay\n",
      "['rattletrap-6.3.1-osx', 'rattletrap-6.3.1-windows.exe', 'rattletrap-6.3.1-linux']\n"
     ]
    },
    {
     "name": "stderr",
     "output_type": "stream",
     "text": [
      "Player RLCS Admin as player has no MatchScore.\n",
      "Score is not found for player\n",
      "Ignoring player: RLCS Admin as player has no team.\n",
      "Player RLCS Observer 2 as player has no MatchScore.\n",
      "Score is not found for player\n",
      "Ignoring player: RLCS Observer 2 as player has no team.\n",
      "Player RLCS Observer 1 as player has no MatchScore.\n",
      "Score is not found for player\n",
      "Ignoring player: RLCS Observer 1 as player has no team.\n",
      "Player RLCS Observer 3 as player has no MatchScore.\n",
      "Score is not found for player\n",
      "Ignoring player: RLCS Observer 3 as player has no team.\n",
      "Dropping these columns[('game', 'is_overtime')]\n"
     ]
    },
    {
     "name": "stdout",
     "output_type": "stream",
     "text": [
      "replays/Week 4/M3 PSG v Mouz/M3G3.replay\n",
      "['rattletrap-6.3.1-osx', 'rattletrap-6.3.1-windows.exe', 'rattletrap-6.3.1-linux']\n"
     ]
    },
    {
     "name": "stderr",
     "output_type": "stream",
     "text": [
      "Player RLCS Admin as player has no MatchScore.\n",
      "Score is not found for player\n",
      "Ignoring player: RLCS Admin as player has no team.\n",
      "Player RLCS Observer 3 as player has no MatchScore.\n",
      "Score is not found for player\n",
      "Ignoring player: RLCS Observer 3 as player has no team.\n",
      "Player RLCS Observer 1 as player has no MatchScore.\n",
      "Score is not found for player\n",
      "Ignoring player: RLCS Observer 1 as player has no team.\n"
     ]
    },
    {
     "name": "stdout",
     "output_type": "stream",
     "text": [
      "replays/Week 4/M3 PSG v Mouz/M3G1.replay\n",
      "['rattletrap-6.3.1-osx', 'rattletrap-6.3.1-windows.exe', 'rattletrap-6.3.1-linux']\n"
     ]
    },
    {
     "name": "stderr",
     "output_type": "stream",
     "text": [
      "Player RLCS Admin as player has no MatchScore.\n",
      "Score is not found for player\n",
      "Ignoring player: RLCS Admin as player has no team.\n",
      "Player RLCS Observer 3 as player has no MatchScore.\n",
      "Score is not found for player\n",
      "Ignoring player: RLCS Observer 3 as player has no team.\n",
      "Player RLCS Observer 1 as player has no MatchScore.\n",
      "Score is not found for player\n",
      "Ignoring player: RLCS Observer 1 as player has no team.\n",
      "Player RLCS Observer 2 as player has no MatchScore.\n",
      "Score is not found for player\n",
      "Ignoring player: RLCS Observer 2 as player has no team.\n",
      "Dropping these columns[('game', 'is_overtime')]\n"
     ]
    },
    {
     "name": "stdout",
     "output_type": "stream",
     "text": [
      "replays/Week 4/M3 PSG v Mouz/M3G4.replay\n",
      "['rattletrap-6.3.1-osx', 'rattletrap-6.3.1-windows.exe', 'rattletrap-6.3.1-linux']\n"
     ]
    },
    {
     "name": "stderr",
     "output_type": "stream",
     "text": [
      "Player RLCS Admin as player has no MatchScore.\n",
      "Score is not found for player\n",
      "Ignoring player: RLCS Admin as player has no team.\n",
      "Player RLCS Observer 3 as player has no MatchScore.\n",
      "Score is not found for player\n",
      "Ignoring player: RLCS Observer 3 as player has no team.\n",
      "Player RLCS Observer 2 as player has no MatchScore.\n",
      "Score is not found for player\n",
      "Ignoring player: RLCS Observer 2 as player has no team.\n",
      "Player RLCS Observer 1 as player has no MatchScore.\n",
      "Score is not found for player\n",
      "Ignoring player: RLCS Observer 1 as player has no team.\n"
     ]
    },
    {
     "name": "stdout",
     "output_type": "stream",
     "text": [
      "replays/Week 4/M3 PSG v Mouz/M3G2.replay\n",
      "['rattletrap-6.3.1-osx', 'rattletrap-6.3.1-windows.exe', 'rattletrap-6.3.1-linux']\n"
     ]
    },
    {
     "name": "stderr",
     "output_type": "stream",
     "text": [
      "Player RLCS Admin as player has no MatchScore.\n",
      "Score is not found for player\n",
      "Ignoring player: RLCS Admin as player has no team.\n",
      "Player RLCS Observer 1 as player has no MatchScore.\n",
      "Score is not found for player\n",
      "Ignoring player: RLCS Observer 1 as player has no team.\n",
      "Player RLCS Observer 3 as player has no MatchScore.\n",
      "Score is not found for player\n",
      "Ignoring player: RLCS Observer 3 as player has no team.\n",
      "Player RLCS Observer 2 as player has no MatchScore.\n",
      "Score is not found for player\n",
      "Ignoring player: RLCS Observer 2 as player has no team.\n"
     ]
    },
    {
     "name": "stdout",
     "output_type": "stream",
     "text": [
      "replays/Week 4/M3 PSG v Mouz/M3G5.replay\n",
      "['rattletrap-6.3.1-osx', 'rattletrap-6.3.1-windows.exe', 'rattletrap-6.3.1-linux']\n"
     ]
    },
    {
     "name": "stderr",
     "output_type": "stream",
     "text": [
      "Player RLCS Admin as player has no MatchScore.\n",
      "Score is not found for player\n",
      "Ignoring player: RLCS Admin as player has no team.\n",
      "Player RLCS Observer 1 as player has no MatchScore.\n",
      "Score is not found for player\n",
      "Ignoring player: RLCS Observer 1 as player has no team.\n",
      "Player RLCS Observer 2 as player has no MatchScore.\n",
      "Score is not found for player\n",
      "Ignoring player: RLCS Observer 2 as player has no team.\n",
      "Player RLCS Observer 3 as player has no MatchScore.\n",
      "Score is not found for player\n",
      "Ignoring player: RLCS Observer 3 as player has no team.\n",
      "Dropping these columns[('game', 'is_overtime')]\n"
     ]
    },
    {
     "name": "stdout",
     "output_type": "stream",
     "text": [
      "replays/Week 4/M4 EG vs Splyce/M4G1.replay\n",
      "['rattletrap-6.3.1-osx', 'rattletrap-6.3.1-windows.exe', 'rattletrap-6.3.1-linux']\n"
     ]
    },
    {
     "name": "stderr",
     "output_type": "stream",
     "text": [
      "Player RLCS Admin as player has no MatchScore.\n",
      "Score is not found for player\n",
      "Ignoring player: RLCS Admin as player has no team.\n",
      "Player RLCS Observer 3 as player has no MatchScore.\n",
      "Score is not found for player\n",
      "Ignoring player: RLCS Observer 3 as player has no team.\n",
      "Player RLCS Observer 2 as player has no MatchScore.\n",
      "Score is not found for player\n",
      "Ignoring player: RLCS Observer 2 as player has no team.\n",
      "Player RLCS Observer 1 as player has no MatchScore.\n",
      "Score is not found for player\n",
      "Ignoring player: RLCS Observer 1 as player has no team.\n"
     ]
    },
    {
     "name": "stdout",
     "output_type": "stream",
     "text": [
      "replays/Week 4/M4 EG vs Splyce/M4G2.replay\n",
      "['rattletrap-6.3.1-osx', 'rattletrap-6.3.1-windows.exe', 'rattletrap-6.3.1-linux']\n"
     ]
    },
    {
     "name": "stderr",
     "output_type": "stream",
     "text": [
      "Player RLCS Admin as player has no MatchScore.\n",
      "Score is not found for player\n",
      "Ignoring player: RLCS Admin as player has no team.\n",
      "Player RLCS Observer 1 as player has no MatchScore.\n",
      "Score is not found for player\n",
      "Ignoring player: RLCS Observer 1 as player has no team.\n",
      "Player RLCS Observer 3 as player has no MatchScore.\n",
      "Score is not found for player\n",
      "Ignoring player: RLCS Observer 3 as player has no team.\n",
      "Player RLCS Observer 2 as player has no MatchScore.\n",
      "Score is not found for player\n",
      "Ignoring player: RLCS Observer 2 as player has no team.\n"
     ]
    },
    {
     "name": "stdout",
     "output_type": "stream",
     "text": [
      "replays/Week 4/M4 EG vs Splyce/M4G3.replay\n",
      "['rattletrap-6.3.1-osx', 'rattletrap-6.3.1-windows.exe', 'rattletrap-6.3.1-linux']\n"
     ]
    },
    {
     "name": "stderr",
     "output_type": "stream",
     "text": [
      "Player RLCS Admin as player has no MatchScore.\n",
      "Score is not found for player\n",
      "Ignoring player: RLCS Admin as player has no team.\n",
      "Player RLCS Observer 3 as player has no MatchScore.\n",
      "Score is not found for player\n",
      "Ignoring player: RLCS Observer 3 as player has no team.\n",
      "Player RLCS Observer 1 as player has no MatchScore.\n",
      "Score is not found for player\n",
      "Ignoring player: RLCS Observer 1 as player has no team.\n",
      "Player RLCS Observer 2 as player has no MatchScore.\n",
      "Score is not found for player\n",
      "Ignoring player: RLCS Observer 2 as player has no team.\n",
      "Dropping these columns[('game', 'is_overtime')]\n"
     ]
    },
    {
     "name": "stdout",
     "output_type": "stream",
     "text": [
      "replays/Week 4/M6 PSG v TSM/M6G3.replay\n",
      "['rattletrap-6.3.1-osx', 'rattletrap-6.3.1-windows.exe', 'rattletrap-6.3.1-linux']\n"
     ]
    },
    {
     "name": "stderr",
     "output_type": "stream",
     "text": [
      "Player RLCS Admin as player has no MatchScore.\n",
      "Score is not found for player\n",
      "Ignoring player: RLCS Admin as player has no team.\n",
      "Player RLCS Observer 2 as player has no MatchScore.\n",
      "Score is not found for player\n",
      "Ignoring player: RLCS Observer 2 as player has no team.\n",
      "Player RLCS Observer 1 as player has no MatchScore.\n",
      "Score is not found for player\n",
      "Ignoring player: RLCS Observer 1 as player has no team.\n",
      "Player RLCS Observer 3 as player has no MatchScore.\n",
      "Score is not found for player\n",
      "Ignoring player: RLCS Observer 3 as player has no team.\n",
      "Dropping these columns[('game', 'is_overtime')]\n"
     ]
    },
    {
     "name": "stdout",
     "output_type": "stream",
     "text": [
      "replays/Week 4/M6 PSG v TSM/M6G1.replay\n",
      "['rattletrap-6.3.1-osx', 'rattletrap-6.3.1-windows.exe', 'rattletrap-6.3.1-linux']\n"
     ]
    },
    {
     "name": "stderr",
     "output_type": "stream",
     "text": [
      "Player RLCS Admin as player has no MatchScore.\n",
      "Score is not found for player\n",
      "Ignoring player: RLCS Admin as player has no team.\n",
      "Player RLCS Observer 1 as player has no MatchScore.\n",
      "Score is not found for player\n",
      "Ignoring player: RLCS Observer 1 as player has no team.\n",
      "Player RLCS Observer 2 as player has no MatchScore.\n",
      "Score is not found for player\n",
      "Ignoring player: RLCS Observer 2 as player has no team.\n",
      "Player RLCS Observer 3 as player has no MatchScore.\n",
      "Score is not found for player\n",
      "Ignoring player: RLCS Observer 3 as player has no team.\n",
      "Dropping these columns[('game', 'is_overtime')]\n"
     ]
    },
    {
     "name": "stdout",
     "output_type": "stream",
     "text": [
      "replays/Week 4/M6 PSG v TSM/M6G2.replay\n",
      "['rattletrap-6.3.1-osx', 'rattletrap-6.3.1-windows.exe', 'rattletrap-6.3.1-linux']\n"
     ]
    },
    {
     "name": "stderr",
     "output_type": "stream",
     "text": [
      "Player RLCS Admin as player has no MatchScore.\n",
      "Score is not found for player\n",
      "Ignoring player: RLCS Admin as player has no team.\n",
      "Player RLCS Observer 2 as player has no MatchScore.\n",
      "Score is not found for player\n",
      "Ignoring player: RLCS Observer 2 as player has no team.\n",
      "Player RLCS Observer 3 as player has no MatchScore.\n",
      "Score is not found for player\n",
      "Ignoring player: RLCS Observer 3 as player has no team.\n",
      "Player RLCS Observer 1 as player has no MatchScore.\n",
      "Score is not found for player\n",
      "Ignoring player: RLCS Observer 1 as player has no team.\n"
     ]
    },
    {
     "name": "stdout",
     "output_type": "stream",
     "text": [
      "replays/Week 4/M6 PSG v TSM/M6G4.replay\n",
      "['rattletrap-6.3.1-osx', 'rattletrap-6.3.1-windows.exe', 'rattletrap-6.3.1-linux']\n"
     ]
    },
    {
     "name": "stderr",
     "output_type": "stream",
     "text": [
      "Player RLCS Admin as player has no MatchScore.\n",
      "Score is not found for player\n",
      "Ignoring player: RLCS Admin as player has no team.\n",
      "Player RLCS Observer 1 as player has no MatchScore.\n",
      "Score is not found for player\n",
      "Ignoring player: RLCS Observer 1 as player has no team.\n",
      "Player RLCS Observer 2 as player has no MatchScore.\n",
      "Score is not found for player\n",
      "Ignoring player: RLCS Observer 2 as player has no team.\n",
      "Player RLCS Observer 3 as player has no MatchScore.\n",
      "Score is not found for player\n",
      "Ignoring player: RLCS Observer 3 as player has no team.\n",
      "Dropping these columns[('game', 'is_overtime')]\n"
     ]
    },
    {
     "name": "stdout",
     "output_type": "stream",
     "text": [
      "replays/Week 4/M2 TT v Vitality/M2G2.replay\n",
      "['rattletrap-6.3.1-osx', 'rattletrap-6.3.1-windows.exe', 'rattletrap-6.3.1-linux']\n"
     ]
    },
    {
     "name": "stderr",
     "output_type": "stream",
     "text": [
      "Player RLCS Admin as player has no MatchScore.\n",
      "Score is not found for player\n",
      "Ignoring player: RLCS Admin as player has no team.\n",
      "Player RLCS Observer 1 as player has no MatchScore.\n",
      "Score is not found for player\n",
      "Ignoring player: RLCS Observer 1 as player has no team.\n",
      "Player RLCS Observer 3 as player has no MatchScore.\n",
      "Score is not found for player\n",
      "Ignoring player: RLCS Observer 3 as player has no team.\n",
      "Player RLCS Observer 2 as player has no MatchScore.\n",
      "Score is not found for player\n",
      "Ignoring player: RLCS Observer 2 as player has no team.\n",
      "Dropping these columns[('game', 'is_overtime')]\n",
      "Goal is not shot: frame_number: 5576\n",
      "player_id {\n",
      "  id: \"76561198285093463\"\n",
      "}\n",
      "collision_distance: 104.17967224121094\n",
      "ball_data {\n",
      "  pos_x: 1781.050048828125\n",
      "  pos_y: 4301.91015625\n",
      "  pos_z: 107.86000061035156\n",
      "}\n",
      "passed: true\n",
      "goal: true\n",
      "assisted: true\n",
      "distance: 1576.8851318359375\n",
      "distance_to_goal: 2805.17236328125\n",
      "previous_hit_frame_number: 5497\n",
      "next_hit_frame_number: 5613\n",
      "goal_number: 2\n",
      "is_kickoff: false\n",
      "\n"
     ]
    },
    {
     "name": "stdout",
     "output_type": "stream",
     "text": [
      "replays/Week 4/M2 TT v Vitality/M2G3.replay\n",
      "['rattletrap-6.3.1-osx', 'rattletrap-6.3.1-windows.exe', 'rattletrap-6.3.1-linux']\n"
     ]
    },
    {
     "name": "stderr",
     "output_type": "stream",
     "text": [
      "Player RLCS Admin as player has no MatchScore.\n",
      "Score is not found for player\n",
      "Ignoring player: RLCS Admin as player has no team.\n",
      "Player RLCS Observer 3 as player has no MatchScore.\n",
      "Score is not found for player\n",
      "Ignoring player: RLCS Observer 3 as player has no team.\n",
      "Player RLCS Observer 1 as player has no MatchScore.\n",
      "Score is not found for player\n",
      "Ignoring player: RLCS Observer 1 as player has no team.\n",
      "Player RLCS Observer 2 as player has no MatchScore.\n",
      "Score is not found for player\n",
      "Ignoring player: RLCS Observer 2 as player has no team.\n"
     ]
    },
    {
     "name": "stdout",
     "output_type": "stream",
     "text": [
      "replays/Week 4/M2 TT v Vitality/M2G4.replay\n",
      "['rattletrap-6.3.1-osx', 'rattletrap-6.3.1-windows.exe', 'rattletrap-6.3.1-linux']\n"
     ]
    },
    {
     "name": "stderr",
     "output_type": "stream",
     "text": [
      "Player RLCS Admin as player has no MatchScore.\n",
      "Score is not found for player\n",
      "Ignoring player: RLCS Admin as player has no team.\n",
      "Player RLCS Observer 2 as player has no MatchScore.\n",
      "Score is not found for player\n",
      "Ignoring player: RLCS Observer 2 as player has no team.\n",
      "Player RLCS Observer 3 as player has no MatchScore.\n",
      "Score is not found for player\n",
      "Ignoring player: RLCS Observer 3 as player has no team.\n",
      "Player RLCS Observer 1 as player has no MatchScore.\n",
      "Score is not found for player\n",
      "Ignoring player: RLCS Observer 1 as player has no team.\n",
      "Dropping these columns[('game', 'is_overtime')]\n"
     ]
    },
    {
     "name": "stdout",
     "output_type": "stream",
     "text": [
      "replays/Week 4/M2 TT v Vitality/M2G1.replay\n",
      "['rattletrap-6.3.1-osx', 'rattletrap-6.3.1-windows.exe', 'rattletrap-6.3.1-linux']\n"
     ]
    },
    {
     "name": "stderr",
     "output_type": "stream",
     "text": [
      "Player RLCS Admin as player has no MatchScore.\n",
      "Score is not found for player\n",
      "Ignoring player: RLCS Admin as player has no team.\n",
      "Player RLCS Observer 1 as player has no MatchScore.\n",
      "Score is not found for player\n",
      "Ignoring player: RLCS Observer 1 as player has no team.\n",
      "Player RLCS Observer 2 as player has no MatchScore.\n",
      "Score is not found for player\n",
      "Ignoring player: RLCS Observer 2 as player has no team.\n",
      "Player RLCS Observer 3 as player has no MatchScore.\n",
      "Score is not found for player\n",
      "Ignoring player: RLCS Observer 3 as player has no team.\n",
      "Dropping these columns[('game', 'is_overtime')]\n"
     ]
    },
    {
     "name": "stdout",
     "output_type": "stream",
     "text": [
      "replays/Week 4/M3 Rogue vs Ghost/M3G3.replay\n",
      "['rattletrap-6.3.1-osx', 'rattletrap-6.3.1-windows.exe', 'rattletrap-6.3.1-linux']\n"
     ]
    },
    {
     "name": "stderr",
     "output_type": "stream",
     "text": [
      "Player RLCS Admin as player has no MatchScore.\n",
      "Score is not found for player\n",
      "Ignoring player: RLCS Admin as player has no team.\n",
      "Player RLCS Observer 1 as player has no MatchScore.\n",
      "Score is not found for player\n",
      "Ignoring player: RLCS Observer 1 as player has no team.\n",
      "Player RLCS Observer 3 as player has no MatchScore.\n",
      "Score is not found for player\n",
      "Ignoring player: RLCS Observer 3 as player has no team.\n",
      "Player RLCS Observer 2 as player has no MatchScore.\n",
      "Score is not found for player\n",
      "Ignoring player: RLCS Observer 2 as player has no team.\n",
      "Dropping these columns[('game', 'is_overtime')]\n"
     ]
    },
    {
     "name": "stdout",
     "output_type": "stream",
     "text": [
      "replays/Week 4/M3 Rogue vs Ghost/M3G1.replay\n",
      "['rattletrap-6.3.1-osx', 'rattletrap-6.3.1-windows.exe', 'rattletrap-6.3.1-linux']\n"
     ]
    },
    {
     "name": "stderr",
     "output_type": "stream",
     "text": [
      "Player RLCS Admin as player has no MatchScore.\n",
      "Score is not found for player\n",
      "Ignoring player: RLCS Admin as player has no team.\n",
      "Player RLCS Observer 1 as player has no MatchScore.\n",
      "Score is not found for player\n",
      "Ignoring player: RLCS Observer 1 as player has no team.\n",
      "Player RLCS Observer 2 as player has no MatchScore.\n",
      "Score is not found for player\n",
      "Ignoring player: RLCS Observer 2 as player has no team.\n",
      "Player RLCS Observer 3 as player has no MatchScore.\n",
      "Score is not found for player\n",
      "Ignoring player: RLCS Observer 3 as player has no team.\n",
      "Dropping these columns[('game', 'is_overtime')]\n"
     ]
    },
    {
     "name": "stdout",
     "output_type": "stream",
     "text": [
      "replays/Week 4/M3 Rogue vs Ghost/M3G2.replay\n",
      "['rattletrap-6.3.1-osx', 'rattletrap-6.3.1-windows.exe', 'rattletrap-6.3.1-linux']\n"
     ]
    },
    {
     "name": "stderr",
     "output_type": "stream",
     "text": [
      "Player RLCS Admin as player has no MatchScore.\n",
      "Score is not found for player\n",
      "Ignoring player: RLCS Admin as player has no team.\n",
      "Player RLCS Observer 2 as player has no MatchScore.\n",
      "Score is not found for player\n",
      "Ignoring player: RLCS Observer 2 as player has no team.\n",
      "Player RLCS Observer 3 as player has no MatchScore.\n",
      "Score is not found for player\n",
      "Ignoring player: RLCS Observer 3 as player has no team.\n",
      "Player RLCS Observer 1 as player has no MatchScore.\n",
      "Score is not found for player\n",
      "Ignoring player: RLCS Observer 1 as player has no team.\n"
     ]
    },
    {
     "name": "stdout",
     "output_type": "stream",
     "text": [
      "replays/Week 4/M5 TT v Dig/M5G4.replay\n",
      "['rattletrap-6.3.1-osx', 'rattletrap-6.3.1-windows.exe', 'rattletrap-6.3.1-linux']\n"
     ]
    },
    {
     "name": "stderr",
     "output_type": "stream",
     "text": [
      "Player RLCS Admin as player has no MatchScore.\n",
      "Score is not found for player\n",
      "Ignoring player: RLCS Admin as player has no team.\n",
      "Player RLCS Observer 1 as player has no MatchScore.\n",
      "Score is not found for player\n",
      "Ignoring player: RLCS Observer 1 as player has no team.\n",
      "Player RLCS Observer 2 as player has no MatchScore.\n",
      "Score is not found for player\n",
      "Ignoring player: RLCS Observer 2 as player has no team.\n",
      "Player RLCS Observer 3 as player has no MatchScore.\n",
      "Score is not found for player\n",
      "Ignoring player: RLCS Observer 3 as player has no team.\n",
      "Dropping these columns[('game', 'is_overtime')]\n"
     ]
    },
    {
     "name": "stdout",
     "output_type": "stream",
     "text": [
      "replays/Week 4/M5 TT v Dig/M5G2.replay\n",
      "['rattletrap-6.3.1-osx', 'rattletrap-6.3.1-windows.exe', 'rattletrap-6.3.1-linux']\n"
     ]
    },
    {
     "name": "stderr",
     "output_type": "stream",
     "text": [
      "Player RLCS Admin as player has no MatchScore.\n",
      "Score is not found for player\n",
      "Ignoring player: RLCS Admin as player has no team.\n",
      "Player RLCS Observer 1 as player has no MatchScore.\n",
      "Score is not found for player\n",
      "Ignoring player: RLCS Observer 1 as player has no team.\n",
      "Player RLCS Observer 3 as player has no MatchScore.\n",
      "Score is not found for player\n",
      "Ignoring player: RLCS Observer 3 as player has no team.\n",
      "Player RLCS Observer 2 as player has no MatchScore.\n",
      "Score is not found for player\n",
      "Ignoring player: RLCS Observer 2 as player has no team.\n",
      "Dropping these columns[('game', 'is_overtime')]\n"
     ]
    },
    {
     "name": "stdout",
     "output_type": "stream",
     "text": [
      "replays/Week 4/M5 TT v Dig/M5G5.replay\n",
      "['rattletrap-6.3.1-osx', 'rattletrap-6.3.1-windows.exe', 'rattletrap-6.3.1-linux']\n"
     ]
    },
    {
     "name": "stderr",
     "output_type": "stream",
     "text": [
      "Player RLCS Admin as player has no MatchScore.\n",
      "Score is not found for player\n",
      "Ignoring player: RLCS Admin as player has no team.\n",
      "Player RLCS Observer 1 as player has no MatchScore.\n",
      "Score is not found for player\n",
      "Ignoring player: RLCS Observer 1 as player has no team.\n",
      "Player RLCS Observer 2 as player has no MatchScore.\n",
      "Score is not found for player\n",
      "Ignoring player: RLCS Observer 2 as player has no team.\n",
      "Player RLCS Observer 3 as player has no MatchScore.\n",
      "Score is not found for player\n",
      "Ignoring player: RLCS Observer 3 as player has no team.\n",
      "Dropping these columns[('game', 'is_overtime')]\n"
     ]
    },
    {
     "name": "stdout",
     "output_type": "stream",
     "text": [
      "replays/Week 4/M5 TT v Dig/M5G3.replay\n",
      "['rattletrap-6.3.1-osx', 'rattletrap-6.3.1-windows.exe', 'rattletrap-6.3.1-linux']\n"
     ]
    },
    {
     "name": "stderr",
     "output_type": "stream",
     "text": [
      "Player RLCS Admin as player has no MatchScore.\n",
      "Score is not found for player\n",
      "Ignoring player: RLCS Admin as player has no team.\n",
      "Player RLCS Observer 1 as player has no MatchScore.\n",
      "Score is not found for player\n",
      "Ignoring player: RLCS Observer 1 as player has no team.\n",
      "Player RLCS Observer 3 as player has no MatchScore.\n",
      "Score is not found for player\n",
      "Ignoring player: RLCS Observer 3 as player has no team.\n",
      "Player RLCS Observer 2 as player has no MatchScore.\n",
      "Score is not found for player\n",
      "Ignoring player: RLCS Observer 2 as player has no team.\n",
      "Dropping these columns[('game', 'is_overtime')]\n"
     ]
    },
    {
     "name": "stdout",
     "output_type": "stream",
     "text": [
      "replays/Week 4/M5 TT v Dig/M5G1.replay\n",
      "['rattletrap-6.3.1-osx', 'rattletrap-6.3.1-windows.exe', 'rattletrap-6.3.1-linux']\n"
     ]
    },
    {
     "name": "stderr",
     "output_type": "stream",
     "text": [
      "Player RLCS Admin as player has no MatchScore.\n",
      "Score is not found for player\n",
      "Ignoring player: RLCS Admin as player has no team.\n",
      "Player RLCS Observer 2 as player has no MatchScore.\n",
      "Score is not found for player\n",
      "Ignoring player: RLCS Observer 2 as player has no team.\n",
      "Player RLCS Observer 1 as player has no MatchScore.\n",
      "Score is not found for player\n",
      "Ignoring player: RLCS Observer 1 as player has no team.\n",
      "Player RLCS Observer 3 as player has no MatchScore.\n",
      "Score is not found for player\n",
      "Ignoring player: RLCS Observer 3 as player has no team.\n",
      "Dropping these columns[('game', 'is_overtime')]\n"
     ]
    },
    {
     "name": "stdout",
     "output_type": "stream",
     "text": [
      "replays/Week 4/M2 G2 vs Splyce/M2G2.replay\n",
      "['rattletrap-6.3.1-osx', 'rattletrap-6.3.1-windows.exe', 'rattletrap-6.3.1-linux']\n"
     ]
    },
    {
     "name": "stderr",
     "output_type": "stream",
     "text": [
      "Player RLCS Admin as player has no MatchScore.\n",
      "Score is not found for player\n",
      "Ignoring player: RLCS Admin as player has no team.\n",
      "Player RLCS Observer 2 as player has no MatchScore.\n",
      "Score is not found for player\n",
      "Ignoring player: RLCS Observer 2 as player has no team.\n",
      "Player RLCS Observer 1 as player has no MatchScore.\n",
      "Score is not found for player\n",
      "Ignoring player: RLCS Observer 1 as player has no team.\n",
      "Player RLCS Observer 3 as player has no MatchScore.\n",
      "Score is not found for player\n",
      "Ignoring player: RLCS Observer 3 as player has no team.\n",
      "Dropping these columns[('game', 'is_overtime')]\n"
     ]
    },
    {
     "name": "stdout",
     "output_type": "stream",
     "text": [
      "replays/Week 4/M2 G2 vs Splyce/M2G3.replay\n",
      "['rattletrap-6.3.1-osx', 'rattletrap-6.3.1-windows.exe', 'rattletrap-6.3.1-linux']\n"
     ]
    },
    {
     "name": "stderr",
     "output_type": "stream",
     "text": [
      "Player RLCS Admin as player has no MatchScore.\n",
      "Score is not found for player\n",
      "Ignoring player: RLCS Admin as player has no team.\n",
      "Player RLCS Observer 2 as player has no MatchScore.\n",
      "Score is not found for player\n",
      "Ignoring player: RLCS Observer 2 as player has no team.\n",
      "Player RLCS Observer 3 as player has no MatchScore.\n",
      "Score is not found for player\n",
      "Ignoring player: RLCS Observer 3 as player has no team.\n",
      "Player RLCS Observer 1 as player has no MatchScore.\n",
      "Score is not found for player\n",
      "Ignoring player: RLCS Observer 1 as player has no team.\n",
      "Dropping these columns[('game', 'is_overtime')]\n"
     ]
    },
    {
     "name": "stdout",
     "output_type": "stream",
     "text": [
      "replays/Week 4/M2 G2 vs Splyce/M2G1.replay\n",
      "['rattletrap-6.3.1-osx', 'rattletrap-6.3.1-windows.exe', 'rattletrap-6.3.1-linux']\n"
     ]
    },
    {
     "name": "stderr",
     "output_type": "stream",
     "text": [
      "Player RLCS Admin as player has no MatchScore.\n",
      "Score is not found for player\n",
      "Ignoring player: RLCS Admin as player has no team.\n",
      "Player RLCS Observer 3 as player has no MatchScore.\n",
      "Score is not found for player\n",
      "Ignoring player: RLCS Observer 3 as player has no team.\n",
      "Player RLCS Observer 2 as player has no MatchScore.\n",
      "Score is not found for player\n",
      "Ignoring player: RLCS Observer 2 as player has no team.\n",
      "Player RLCS Observer 1 as player has no MatchScore.\n",
      "Score is not found for player\n",
      "Ignoring player: RLCS Observer 1 as player has no team.\n",
      "Dropping these columns[('game', 'is_overtime')]\n",
      "Goal is not shot: frame_number: 648\n",
      "player_id {\n",
      "  id: \"76561198053209198\"\n",
      "}\n",
      "collision_distance: 178.16168212890625\n",
      "ball_data {\n",
      "  pos_x: 1245.18994140625\n",
      "  pos_y: -4240.58984375\n",
      "  pos_z: 109.9800033569336\n",
      "}\n",
      "pass_: true\n",
      "dribble_continuation: true\n",
      "goal: true\n",
      "distance: 4456.455078125\n",
      "distance_to_goal: 2322.419677734375\n",
      "previous_hit_frame_number: 574\n",
      "goal_number: 0\n",
      "is_kickoff: false\n",
      "\n",
      "Goal is not shot: frame_number: 6825\n",
      "player_id {\n",
      "  id: \"76561198061585314\"\n",
      "}\n",
      "collision_distance: 177.9100799560547\n",
      "ball_data {\n",
      "  pos_x: -1816.9200439453125\n",
      "  pos_y: 3610.840087890625\n",
      "  pos_z: 93.13999938964844\n",
      "}\n",
      "passed: true\n",
      "dribble: true\n",
      "goal: true\n",
      "assisted: true\n",
      "distance: 4002.361328125\n",
      "distance_to_goal: 1785.0557861328125\n",
      "previous_hit_frame_number: 6777\n",
      "goal_number: 1\n",
      "is_kickoff: false\n",
      "\n"
     ]
    },
    {
     "name": "stdout",
     "output_type": "stream",
     "text": [
      "replays/Week 4/M4 FCB v Bricks/M4G1.replay\n",
      "['rattletrap-6.3.1-osx', 'rattletrap-6.3.1-windows.exe', 'rattletrap-6.3.1-linux']\n"
     ]
    },
    {
     "name": "stderr",
     "output_type": "stream",
     "text": [
      "Player RLCS Observer 2 as player has no MatchScore.\n",
      "Score is not found for player\n",
      "Ignoring player: RLCS Observer 2 as player has no team.\n",
      "Player RLCS Admin as player has no MatchScore.\n",
      "Score is not found for player\n",
      "Ignoring player: RLCS Admin as player has no team.\n",
      "Player RLCS Observer 1 as player has no MatchScore.\n",
      "Score is not found for player\n",
      "Ignoring player: RLCS Observer 1 as player has no team.\n",
      "Player RLCS Observer 3 as player has no MatchScore.\n",
      "Score is not found for player\n",
      "Ignoring player: RLCS Observer 3 as player has no team.\n",
      "Dropping these columns[('game', 'is_overtime')]\n"
     ]
    },
    {
     "name": "stdout",
     "output_type": "stream",
     "text": [
      "replays/Week 4/M4 FCB v Bricks/M4G2.replay\n",
      "['rattletrap-6.3.1-osx', 'rattletrap-6.3.1-windows.exe', 'rattletrap-6.3.1-linux']\n"
     ]
    },
    {
     "name": "stderr",
     "output_type": "stream",
     "text": [
      "Player RLCS Admin as player has no MatchScore.\n",
      "Score is not found for player\n",
      "Ignoring player: RLCS Admin as player has no team.\n",
      "Player RLCS Observer 1 as player has no MatchScore.\n",
      "Score is not found for player\n",
      "Ignoring player: RLCS Observer 1 as player has no team.\n",
      "Player RLCS Observer 3 as player has no MatchScore.\n",
      "Score is not found for player\n",
      "Ignoring player: RLCS Observer 3 as player has no team.\n",
      "Player RLCS Observer 2 as player has no MatchScore.\n",
      "Score is not found for player\n",
      "Ignoring player: RLCS Observer 2 as player has no team.\n",
      "Dropping these columns[('game', 'is_overtime')]\n"
     ]
    },
    {
     "name": "stdout",
     "output_type": "stream",
     "text": [
      "replays/Week 4/M4 FCB v Bricks/M4G3.replay\n",
      "['rattletrap-6.3.1-osx', 'rattletrap-6.3.1-windows.exe', 'rattletrap-6.3.1-linux']\n"
     ]
    },
    {
     "name": "stderr",
     "output_type": "stream",
     "text": [
      "Player RLCS Admin as player has no MatchScore.\n",
      "Score is not found for player\n",
      "Ignoring player: RLCS Admin as player has no team.\n",
      "Player RLCS Observer 3 as player has no MatchScore.\n",
      "Score is not found for player\n",
      "Ignoring player: RLCS Observer 3 as player has no team.\n",
      "Player RLCS Observer 1 as player has no MatchScore.\n",
      "Score is not found for player\n",
      "Ignoring player: RLCS Observer 1 as player has no team.\n",
      "Player RLCS Observer 2 as player has no MatchScore.\n",
      "Score is not found for player\n",
      "Ignoring player: RLCS Observer 2 as player has no team.\n",
      "Dropping these columns[('game', 'is_overtime')]\n"
     ]
    },
    {
     "name": "stdout",
     "output_type": "stream",
     "text": [
      "replays/Week 4/M1 FCB v Mouz/M1G1.replay\n",
      "['rattletrap-6.3.1-osx', 'rattletrap-6.3.1-windows.exe', 'rattletrap-6.3.1-linux']\n"
     ]
    },
    {
     "name": "stderr",
     "output_type": "stream",
     "text": [
      "Player RLCS Admin as player has no MatchScore.\n",
      "Score is not found for player\n",
      "Ignoring player: RLCS Admin as player has no team.\n",
      "Player RLCS Observer 1 as player has no MatchScore.\n",
      "Score is not found for player\n",
      "Ignoring player: RLCS Observer 1 as player has no team.\n",
      "Player RLCS Observer 3 as player has no MatchScore.\n",
      "Score is not found for player\n",
      "Ignoring player: RLCS Observer 3 as player has no team.\n",
      "Player RLCS Observer 2 as player has no MatchScore.\n",
      "Score is not found for player\n",
      "Ignoring player: RLCS Observer 2 as player has no team.\n",
      "Dropping these columns[('game', 'is_overtime')]\n",
      "/usr/local/lib/python3.6/dist-packages/carball/analysis/simulator/bounce.py:24: RuntimeWarning: divide by zero encountered in double_scalars\n",
      "  ratio = np.sqrt(v_perp.dot(v_perp)) / np.sqrt(s.dot(s))\n"
     ]
    },
    {
     "name": "stdout",
     "output_type": "stream",
     "text": [
      "replays/Week 4/M1 FCB v Mouz/M1G3.replay\n",
      "['rattletrap-6.3.1-osx', 'rattletrap-6.3.1-windows.exe', 'rattletrap-6.3.1-linux']\n"
     ]
    },
    {
     "name": "stderr",
     "output_type": "stream",
     "text": [
      "Player RLCS Admin as player has no MatchScore.\n",
      "Score is not found for player\n",
      "Ignoring player: RLCS Admin as player has no team.\n",
      "Player RLCS Observer 2 as player has no MatchScore.\n",
      "Score is not found for player\n",
      "Ignoring player: RLCS Observer 2 as player has no team.\n",
      "Player RLCS Observer 3 as player has no MatchScore.\n",
      "Score is not found for player\n",
      "Ignoring player: RLCS Observer 3 as player has no team.\n",
      "Player RLCS Observer 1 as player has no MatchScore.\n",
      "Score is not found for player\n",
      "Ignoring player: RLCS Observer 1 as player has no team.\n",
      "Dropping these columns[('game', 'is_overtime')]\n"
     ]
    },
    {
     "name": "stdout",
     "output_type": "stream",
     "text": [
      "replays/Week 4/M1 FCB v Mouz/M1G4.replay\n",
      "['rattletrap-6.3.1-osx', 'rattletrap-6.3.1-windows.exe', 'rattletrap-6.3.1-linux']\n"
     ]
    },
    {
     "name": "stderr",
     "output_type": "stream",
     "text": [
      "Player RLCS Observer 2 as player has no MatchScore.\n",
      "Score is not found for player\n",
      "Ignoring player: RLCS Observer 2 as player has no team.\n",
      "Player RLCS Admin as player has no MatchScore.\n",
      "Score is not found for player\n",
      "Ignoring player: RLCS Admin as player has no team.\n",
      "Player RLCS Observer 1 as player has no MatchScore.\n",
      "Score is not found for player\n",
      "Ignoring player: RLCS Observer 1 as player has no team.\n",
      "Player RLCS Observer 3 as player has no MatchScore.\n",
      "Score is not found for player\n",
      "Ignoring player: RLCS Observer 3 as player has no team.\n",
      "Dropping these columns[('game', 'is_overtime')]\n"
     ]
    },
    {
     "name": "stdout",
     "output_type": "stream",
     "text": [
      "replays/Week 4/M1 FCB v Mouz/M1G2.replay\n",
      "['rattletrap-6.3.1-osx', 'rattletrap-6.3.1-windows.exe', 'rattletrap-6.3.1-linux']\n"
     ]
    },
    {
     "name": "stderr",
     "output_type": "stream",
     "text": [
      "Player RLCS Admin as player has no MatchScore.\n",
      "Score is not found for player\n",
      "Ignoring player: RLCS Admin as player has no team.\n",
      "Player RLCS Observer 1 as player has no MatchScore.\n",
      "Score is not found for player\n",
      "Ignoring player: RLCS Observer 1 as player has no team.\n",
      "Player RLCS Observer 2 as player has no MatchScore.\n",
      "Score is not found for player\n",
      "Ignoring player: RLCS Observer 2 as player has no team.\n",
      "Player RLCS Observer 3 as player has no MatchScore.\n",
      "Score is not found for player\n",
      "Ignoring player: RLCS Observer 3 as player has no team.\n",
      "Dropping these columns[('game', 'is_overtime')]\n"
     ]
    },
    {
     "name": "stdout",
     "output_type": "stream",
     "text": [
      "replays/Week 4/M5 C9 vs SSG/M5G4.replay\n",
      "['rattletrap-6.3.1-osx', 'rattletrap-6.3.1-windows.exe', 'rattletrap-6.3.1-linux']\n"
     ]
    },
    {
     "name": "stderr",
     "output_type": "stream",
     "text": [
      "Player RLCS Admin as player has no MatchScore.\n",
      "Score is not found for player\n",
      "Ignoring player: RLCS Admin as player has no team.\n",
      "Player RLCS Observer 1 as player has no MatchScore.\n",
      "Score is not found for player\n",
      "Ignoring player: RLCS Observer 1 as player has no team.\n",
      "Player RLCS Observer 3 as player has no MatchScore.\n",
      "Score is not found for player\n",
      "Ignoring player: RLCS Observer 3 as player has no team.\n",
      "Player RLCS Observer 2 as player has no MatchScore.\n",
      "Score is not found for player\n",
      "Ignoring player: RLCS Observer 2 as player has no team.\n",
      "Dropping these columns[('game', 'is_overtime')]\n"
     ]
    },
    {
     "name": "stdout",
     "output_type": "stream",
     "text": [
      "replays/Week 4/M5 C9 vs SSG/M5G2.replay\n",
      "['rattletrap-6.3.1-osx', 'rattletrap-6.3.1-windows.exe', 'rattletrap-6.3.1-linux']\n"
     ]
    },
    {
     "name": "stderr",
     "output_type": "stream",
     "text": [
      "Player RLCS Admin as player has no MatchScore.\n",
      "Score is not found for player\n",
      "Ignoring player: RLCS Admin as player has no team.\n",
      "Player RLCS Observer 2 as player has no MatchScore.\n",
      "Score is not found for player\n",
      "Ignoring player: RLCS Observer 2 as player has no team.\n",
      "Player RLCS Observer 3 as player has no MatchScore.\n",
      "Score is not found for player\n",
      "Ignoring player: RLCS Observer 3 as player has no team.\n",
      "Player RLCS Observer 1 as player has no MatchScore.\n",
      "Score is not found for player\n",
      "Ignoring player: RLCS Observer 1 as player has no team.\n",
      "Goal is not shot: frame_number: 8370\n",
      "player_id {\n",
      "  id: \"76561198148418720\"\n",
      "}\n",
      "collision_distance: 246.2453155517578\n",
      "ball_data {\n",
      "  pos_x: 2952.830078125\n",
      "  pos_y: 4509.47021484375\n",
      "  pos_z: 107.51000213623047\n",
      "}\n",
      "dribble_continuation: true\n",
      "goal: true\n",
      "distance: 1422.172119140625\n",
      "distance_to_goal: 3900.135986328125\n",
      "previous_hit_frame_number: 8308\n",
      "next_hit_frame_number: 8428\n",
      "goal_number: 2\n",
      "is_kickoff: false\n",
      "\n",
      "Goal is not shot: frame_number: 9252\n",
      "player_id {\n",
      "  id: \"76561198071944774\"\n",
      "}\n",
      "collision_distance: 234.0925750732422\n",
      "ball_data {\n",
      "  pos_x: 2873.199951171875\n",
      "  pos_y: 3467.919921875\n",
      "  pos_z: 264.54998779296875\n",
      "}\n",
      "dribble_continuation: true\n",
      "goal: true\n",
      "distance: 4377.89111328125\n",
      "distance_to_goal: 9396.9755859375\n",
      "previous_hit_frame_number: 9201\n",
      "next_hit_frame_number: 9298\n",
      "goal_number: 3\n",
      "is_kickoff: false\n",
      "\n"
     ]
    },
    {
     "name": "stdout",
     "output_type": "stream",
     "text": [
      "replays/Week 4/M5 C9 vs SSG/M5G3.replay\n",
      "['rattletrap-6.3.1-osx', 'rattletrap-6.3.1-windows.exe', 'rattletrap-6.3.1-linux']\n"
     ]
    },
    {
     "name": "stderr",
     "output_type": "stream",
     "text": [
      "Player RLCS Observer 2 as player has no MatchScore.\n",
      "Score is not found for player\n",
      "Ignoring player: RLCS Observer 2 as player has no team.\n",
      "Player RLCS Admin as player has no MatchScore.\n",
      "Score is not found for player\n",
      "Ignoring player: RLCS Admin as player has no team.\n",
      "Player RLCS Observer 3 as player has no MatchScore.\n",
      "Score is not found for player\n",
      "Ignoring player: RLCS Observer 3 as player has no team.\n",
      "Player RLCS Observer 1 as player has no MatchScore.\n",
      "Score is not found for player\n",
      "Ignoring player: RLCS Observer 1 as player has no team.\n",
      "Dropping these columns[('game', 'is_overtime')]\n"
     ]
    },
    {
     "name": "stdout",
     "output_type": "stream",
     "text": [
      "replays/Week 4/M5 C9 vs SSG/M5G1.replay\n",
      "['rattletrap-6.3.1-osx', 'rattletrap-6.3.1-windows.exe', 'rattletrap-6.3.1-linux']\n"
     ]
    },
    {
     "name": "stderr",
     "output_type": "stream",
     "text": [
      "Player RLCS Admin as player has no MatchScore.\n",
      "Score is not found for player\n",
      "Ignoring player: RLCS Admin as player has no team.\n",
      "Player RLCS Observer 3 as player has no MatchScore.\n",
      "Score is not found for player\n",
      "Ignoring player: RLCS Observer 3 as player has no team.\n",
      "Player RLCS Observer 1 as player has no MatchScore.\n",
      "Score is not found for player\n",
      "Ignoring player: RLCS Observer 1 as player has no team.\n",
      "Player RLCS Observer 2 as player has no MatchScore.\n",
      "Score is not found for player\n",
      "Ignoring player: RLCS Observer 2 as player has no team.\n",
      "Dropping these columns[('game', 'is_overtime')]\n"
     ]
    },
    {
     "name": "stdout",
     "output_type": "stream",
     "text": [
      "replays/Week 5/M1 Mouz v Vitality/M1G1.replay\n",
      "['rattletrap-6.3.1-osx', 'rattletrap-6.3.1-windows.exe', 'rattletrap-6.3.1-linux']\n"
     ]
    },
    {
     "name": "stderr",
     "output_type": "stream",
     "text": [
      "Player RLCS Admin as player has no MatchScore.\n",
      "Score is not found for player\n",
      "Ignoring player: RLCS Admin as player has no team.\n",
      "Player RLCS Observer 2 as player has no MatchScore.\n",
      "Score is not found for player\n",
      "Ignoring player: RLCS Observer 2 as player has no team.\n",
      "Player RLCS Observer 3 as player has no MatchScore.\n",
      "Score is not found for player\n",
      "Ignoring player: RLCS Observer 3 as player has no team.\n",
      "Player RLCS Observer 1 as player has no MatchScore.\n",
      "Score is not found for player\n",
      "Ignoring player: RLCS Observer 1 as player has no team.\n",
      "Dropping these columns[('game', 'is_overtime')]\n",
      "Goal is not shot: frame_number: 3413\n",
      "player_id {\n",
      "  id: \"76561198129290934\"\n",
      "}\n",
      "collision_distance: 187.19686889648438\n",
      "ball_data {\n",
      "  pos_x: 1875.7900390625\n",
      "  pos_y: -3256.550048828125\n",
      "  pos_z: 182.08999633789062\n",
      "}\n",
      "goal: true\n",
      "distance: 4011.768310546875\n",
      "distance_to_goal: 8842.220703125\n",
      "previous_hit_frame_number: 3393\n",
      "next_hit_frame_number: 3451\n",
      "goal_number: 2\n",
      "is_kickoff: false\n",
      "\n",
      "Goal is not shot: frame_number: 9664\n",
      "player_id {\n",
      "  id: \"76561198301423321\"\n",
      "}\n",
      "collision_distance: 144.7296600341797\n",
      "ball_data {\n",
      "  pos_x: -2261.820068359375\n",
      "  pos_y: 1585.4200439453125\n",
      "  pos_z: 127.75\n",
      "}\n",
      "passed: true\n",
      "goal: true\n",
      "assisted: true\n",
      "distance: 3352.665283203125\n",
      "distance_to_goal: 3807.95263671875\n",
      "previous_hit_frame_number: 9614\n",
      "next_hit_frame_number: 9730\n",
      "goal_number: 5\n",
      "is_kickoff: false\n",
      "\n"
     ]
    },
    {
     "name": "stdout",
     "output_type": "stream",
     "text": [
      "replays/Week 5/M1 Mouz v Vitality/M1G3.replay\n",
      "['rattletrap-6.3.1-osx', 'rattletrap-6.3.1-windows.exe', 'rattletrap-6.3.1-linux']\n"
     ]
    },
    {
     "name": "stderr",
     "output_type": "stream",
     "text": [
      "Player RLCS Admin as player has no MatchScore.\n",
      "Score is not found for player\n",
      "Ignoring player: RLCS Admin as player has no team.\n",
      "Player RLCS Observer 1 as player has no MatchScore.\n",
      "Score is not found for player\n",
      "Ignoring player: RLCS Observer 1 as player has no team.\n",
      "Player RLCS Observer 2 as player has no MatchScore.\n",
      "Score is not found for player\n",
      "Ignoring player: RLCS Observer 2 as player has no team.\n",
      "Player RLCS Observer 3 as player has no MatchScore.\n",
      "Score is not found for player\n",
      "Ignoring player: RLCS Observer 3 as player has no team.\n",
      "Dropping these columns[('game', 'is_overtime')]\n",
      "Goal is not shot: frame_number: 4541\n",
      "player_id {\n",
      "  id: \"76561198306168245\"\n",
      "}\n",
      "collision_distance: 184.95314025878906\n",
      "ball_data {\n",
      "  pos_x: -3804.469970703125\n",
      "  pos_y: 2315.929931640625\n",
      "  pos_z: 184.4499969482422\n",
      "}\n",
      "goal: true\n",
      "distance: 4459.95849609375\n",
      "distance_to_goal: 4053.957275390625\n",
      "previous_hit_frame_number: 4470\n",
      "goal_number: 2\n",
      "is_kickoff: false\n",
      "\n"
     ]
    },
    {
     "name": "stdout",
     "output_type": "stream",
     "text": [
      "replays/Week 5/M1 Mouz v Vitality/M1G4.replay\n",
      "['rattletrap-6.3.1-osx', 'rattletrap-6.3.1-windows.exe', 'rattletrap-6.3.1-linux']\n"
     ]
    },
    {
     "name": "stderr",
     "output_type": "stream",
     "text": [
      "Player RLCS Admin as player has no MatchScore.\n",
      "Score is not found for player\n",
      "Ignoring player: RLCS Admin as player has no team.\n",
      "Player RLCS Observer 1 as player has no MatchScore.\n",
      "Score is not found for player\n",
      "Ignoring player: RLCS Observer 1 as player has no team.\n",
      "Player RLCS Observer 3 as player has no MatchScore.\n",
      "Score is not found for player\n",
      "Ignoring player: RLCS Observer 3 as player has no team.\n",
      "Player RLCS Observer 2 as player has no MatchScore.\n",
      "Score is not found for player\n",
      "Ignoring player: RLCS Observer 2 as player has no team.\n",
      "Dropping these columns[('game', 'is_overtime')]\n",
      "Goal is not shot: frame_number: 1506\n",
      "player_id {\n",
      "  id: \"76561198089298636\"\n",
      "}\n",
      "collision_distance: 287.2531433105469\n",
      "ball_data {\n",
      "  pos_x: -1001.760009765625\n",
      "  pos_y: -4933.2001953125\n",
      "  pos_z: 94.29000091552734\n",
      "}\n",
      "pass_: true\n",
      "dribble_continuation: true\n",
      "goal: true\n",
      "distance: 4989.2490234375\n",
      "distance_to_goal: 232.27444458007812\n",
      "previous_hit_frame_number: 1497\n",
      "goal_number: 1\n",
      "is_kickoff: false\n",
      "\n",
      "Goal is not shot: frame_number: 6815\n",
      "player_id {\n",
      "  id: \"76561198067659334\"\n",
      "}\n",
      "collision_distance: 143.42953491210938\n",
      "ball_data {\n",
      "  pos_x: -1145.9000244140625\n",
      "  pos_y: 4301.580078125\n",
      "  pos_z: 280.20001220703125\n",
      "}\n",
      "pass_: true\n",
      "goal: true\n",
      "distance: 4743.322265625\n",
      "distance_to_goal: 9444.88671875\n",
      "previous_hit_frame_number: 6786\n",
      "next_hit_frame_number: 6897\n",
      "goal_number: 4\n",
      "is_kickoff: false\n",
      "\n"
     ]
    },
    {
     "name": "stdout",
     "output_type": "stream",
     "text": [
      "replays/Week 5/M1 Mouz v Vitality/M1G2.replay\n",
      "['rattletrap-6.3.1-osx', 'rattletrap-6.3.1-windows.exe', 'rattletrap-6.3.1-linux']\n"
     ]
    },
    {
     "name": "stderr",
     "output_type": "stream",
     "text": [
      "Player RLCS Admin as player has no MatchScore.\n",
      "Score is not found for player\n",
      "Ignoring player: RLCS Admin as player has no team.\n",
      "Player RLCS Observer 3 as player has no MatchScore.\n",
      "Score is not found for player\n",
      "Ignoring player: RLCS Observer 3 as player has no team.\n",
      "Player RLCS Observer 1 as player has no MatchScore.\n",
      "Score is not found for player\n",
      "Ignoring player: RLCS Observer 1 as player has no team.\n",
      "Player RLCS Observer 2 as player has no MatchScore.\n",
      "Score is not found for player\n",
      "Ignoring player: RLCS Observer 2 as player has no team.\n",
      "Dropping these columns[('game', 'is_overtime')]\n",
      "Goal is not shot: frame_number: 8430\n",
      "player_id {\n",
      "  id: \"76561198129290934\"\n",
      "}\n",
      "collision_distance: 175.77053833007812\n",
      "ball_data {\n",
      "  pos_x: 1748.8299560546875\n",
      "  pos_y: 2241.320068359375\n",
      "  pos_z: 93.13999938964844\n",
      "}\n",
      "pass_: true\n",
      "dribble_continuation: true\n",
      "goal: true\n",
      "assisted: true\n",
      "distance: 2776.358154296875\n",
      "distance_to_goal: 3923.961181640625\n",
      "previous_hit_frame_number: 8417\n",
      "goal_number: 4\n",
      "is_kickoff: false\n",
      "\n"
     ]
    },
    {
     "name": "stdout",
     "output_type": "stream",
     "text": [
      "replays/Week 5/M1 SSG v Splyce/M1G1.replay\n",
      "['rattletrap-6.3.1-osx', 'rattletrap-6.3.1-windows.exe', 'rattletrap-6.3.1-linux']\n"
     ]
    },
    {
     "name": "stderr",
     "output_type": "stream",
     "text": [
      "Player RLCS Admin as player has no MatchScore.\n",
      "Score is not found for player\n",
      "Ignoring player: RLCS Admin as player has no team.\n",
      "Player RLCS Observer 3 as player has no MatchScore.\n",
      "Score is not found for player\n",
      "Ignoring player: RLCS Observer 3 as player has no team.\n",
      "Player RLCS Observer 1 as player has no MatchScore.\n",
      "Score is not found for player\n",
      "Ignoring player: RLCS Observer 1 as player has no team.\n",
      "Player RLCS Observer 2 as player has no MatchScore.\n",
      "Score is not found for player\n",
      "Ignoring player: RLCS Observer 2 as player has no team.\n",
      "Dropping these columns[('game', 'is_overtime')]\n",
      "Goal is not shot: frame_number: 3121\n",
      "player_id {\n",
      "  id: \"76561198960920514\"\n",
      "}\n",
      "collision_distance: 108.20698547363281\n",
      "ball_data {\n",
      "  pos_x: 3080.52001953125\n",
      "  pos_y: -88.45999908447266\n",
      "  pos_z: 1070.3399658203125\n",
      "}\n",
      "dribble_continuation: true\n",
      "goal: true\n",
      "aerial: true\n",
      "distance: 3212.633056640625\n",
      "distance_to_goal: 6428.90087890625\n",
      "previous_hit_frame_number: 3060\n",
      "goal_number: 0\n",
      "is_kickoff: false\n",
      "\n"
     ]
    },
    {
     "name": "stdout",
     "output_type": "stream",
     "text": [
      "replays/Week 5/M1 SSG v Splyce/M1G3.replay\n",
      "['rattletrap-6.3.1-osx', 'rattletrap-6.3.1-windows.exe', 'rattletrap-6.3.1-linux']\n"
     ]
    },
    {
     "name": "stderr",
     "output_type": "stream",
     "text": [
      "Player RLCS Admin as player has no MatchScore.\n",
      "Score is not found for player\n",
      "Ignoring player: RLCS Admin as player has no team.\n",
      "Player RLCS Observer 2 as player has no MatchScore.\n",
      "Score is not found for player\n",
      "Ignoring player: RLCS Observer 2 as player has no team.\n",
      "Player RLCS Observer 3 as player has no MatchScore.\n",
      "Score is not found for player\n",
      "Ignoring player: RLCS Observer 3 as player has no team.\n",
      "Player RLCS Observer 1 as player has no MatchScore.\n",
      "Score is not found for player\n",
      "Ignoring player: RLCS Observer 1 as player has no team.\n",
      "Dropping these columns[('game', 'is_overtime')]\n"
     ]
    },
    {
     "name": "stdout",
     "output_type": "stream",
     "text": [
      "replays/Week 5/M1 SSG v Splyce/M1G5.replay\n",
      "['rattletrap-6.3.1-osx', 'rattletrap-6.3.1-windows.exe', 'rattletrap-6.3.1-linux']\n"
     ]
    },
    {
     "name": "stderr",
     "output_type": "stream",
     "text": [
      "Player RLCS Admin as player has no MatchScore.\n",
      "Score is not found for player\n",
      "Ignoring player: RLCS Admin as player has no team.\n",
      "Player RLCS Observer 3 as player has no MatchScore.\n",
      "Score is not found for player\n",
      "Ignoring player: RLCS Observer 3 as player has no team.\n",
      "Player RLCS Observer 1 as player has no MatchScore.\n",
      "Score is not found for player\n",
      "Ignoring player: RLCS Observer 1 as player has no team.\n",
      "Player RLCS Observer 2 as player has no MatchScore.\n",
      "Score is not found for player\n",
      "Ignoring player: RLCS Observer 2 as player has no team.\n",
      "Dropping these columns[('game', 'is_overtime')]\n",
      "Goal is not shot: frame_number: 6188\n",
      "player_id {\n",
      "  id: \"76561198149461762\"\n",
      "}\n",
      "collision_distance: 136.2753448486328\n",
      "ball_data {\n",
      "  pos_x: 1826.3800048828125\n",
      "  pos_y: 3467.659912109375\n",
      "  pos_z: 94.02999877929688\n",
      "}\n",
      "pass_: true\n",
      "dribble_continuation: true\n",
      "goal: true\n",
      "assisted: true\n",
      "distance: 3937.6787109375\n",
      "distance_to_goal: 3195.007568359375\n",
      "previous_hit_frame_number: 6159\n",
      "goal_number: 1\n",
      "is_kickoff: false\n",
      "\n"
     ]
    },
    {
     "name": "stdout",
     "output_type": "stream",
     "text": [
      "replays/Week 5/M1 SSG v Splyce/M1G4.replay\n",
      "['rattletrap-6.3.1-osx', 'rattletrap-6.3.1-windows.exe', 'rattletrap-6.3.1-linux']\n"
     ]
    },
    {
     "name": "stderr",
     "output_type": "stream",
     "text": [
      "Player RLCS Admin as player has no MatchScore.\n",
      "Score is not found for player\n",
      "Ignoring player: RLCS Admin as player has no team.\n",
      "Player RLCS Observer 3 as player has no MatchScore.\n",
      "Score is not found for player\n",
      "Ignoring player: RLCS Observer 3 as player has no team.\n",
      "Player RLCS Observer 1 as player has no MatchScore.\n",
      "Score is not found for player\n",
      "Ignoring player: RLCS Observer 1 as player has no team.\n",
      "Player RLCS Observer 2 as player has no MatchScore.\n",
      "Score is not found for player\n",
      "Ignoring player: RLCS Observer 2 as player has no team.\n",
      "Dropping these columns[('game', 'is_overtime')]\n"
     ]
    },
    {
     "name": "stdout",
     "output_type": "stream",
     "text": [
      "replays/Week 5/M1 SSG v Splyce/M1G2.replay\n",
      "['rattletrap-6.3.1-osx', 'rattletrap-6.3.1-windows.exe', 'rattletrap-6.3.1-linux']\n"
     ]
    },
    {
     "name": "stderr",
     "output_type": "stream",
     "text": [
      "Player RLCS Admin as player has no MatchScore.\n",
      "Score is not found for player\n",
      "Ignoring player: RLCS Admin as player has no team.\n",
      "Player RLCS Observer 2 as player has no MatchScore.\n",
      "Score is not found for player\n",
      "Ignoring player: RLCS Observer 2 as player has no team.\n",
      "Player RLCS Observer 1 as player has no MatchScore.\n",
      "Score is not found for player\n",
      "Ignoring player: RLCS Observer 1 as player has no team.\n",
      "Player RLCS Observer 3 as player has no MatchScore.\n",
      "Score is not found for player\n",
      "Ignoring player: RLCS Observer 3 as player has no team.\n",
      "Dropping these columns[('game', 'is_overtime')]\n",
      "Goal is not shot: frame_number: 1786\n",
      "player_id {\n",
      "  id: \"76561198149461762\"\n",
      "}\n",
      "collision_distance: 112.562744140625\n",
      "ball_data {\n",
      "  pos_x: 702.9199829101562\n",
      "  pos_y: 3631.050048828125\n",
      "  pos_z: 105.41999816894531\n",
      "}\n",
      "passed: true\n",
      "goal: true\n",
      "assisted: true\n",
      "distance: 1594.2659912109375\n",
      "distance_to_goal: 2198.5166015625\n",
      "previous_hit_frame_number: 1723\n",
      "next_hit_frame_number: 1830\n",
      "goal_number: 1\n",
      "is_kickoff: false\n",
      "\n"
     ]
    },
    {
     "name": "stdout",
     "output_type": "stream",
     "text": [
      "replays/Week 5/M2 TSM v Bricks/M2G2.replay\n",
      "['rattletrap-6.3.1-osx', 'rattletrap-6.3.1-windows.exe', 'rattletrap-6.3.1-linux']\n"
     ]
    },
    {
     "name": "stderr",
     "output_type": "stream",
     "text": [
      "Player RLCS Admin as player has no MatchScore.\n",
      "Score is not found for player\n",
      "Ignoring player: RLCS Admin as player has no team.\n",
      "Player RLCS Observer 3 as player has no MatchScore.\n",
      "Score is not found for player\n",
      "Ignoring player: RLCS Observer 3 as player has no team.\n",
      "Player RLCS Observer 2 as player has no MatchScore.\n",
      "Score is not found for player\n",
      "Ignoring player: RLCS Observer 2 as player has no team.\n",
      "Player RLCS Observer 1 as player has no MatchScore.\n",
      "Score is not found for player\n",
      "Ignoring player: RLCS Observer 1 as player has no team.\n",
      "Dropping these columns[('game', 'is_overtime')]\n",
      "Goal is not shot: frame_number: 2621\n",
      "player_id {\n",
      "  id: \"76561198064630547\"\n",
      "}\n",
      "collision_distance: 173.09141540527344\n",
      "ball_data {\n",
      "  pos_x: 532.22998046875\n",
      "  pos_y: -3001.4599609375\n",
      "  pos_z: 93.1500015258789\n",
      "}\n",
      "pass_: true\n",
      "passed: true\n",
      "goal: true\n",
      "assisted: true\n",
      "distance: 3077.71484375\n",
      "distance_to_goal: 2571.61328125\n",
      "previous_hit_frame_number: 2569\n",
      "goal_number: 2\n",
      "is_kickoff: false\n",
      "\n"
     ]
    },
    {
     "name": "stdout",
     "output_type": "stream",
     "text": [
      "replays/Week 5/M2 TSM v Bricks/M2G3.replay\n",
      "['rattletrap-6.3.1-osx', 'rattletrap-6.3.1-windows.exe', 'rattletrap-6.3.1-linux']\n"
     ]
    },
    {
     "name": "stderr",
     "output_type": "stream",
     "text": [
      "Player RLCS Admin as player has no MatchScore.\n",
      "Score is not found for player\n",
      "Ignoring player: RLCS Admin as player has no team.\n",
      "Player RLCS Observer 2 as player has no MatchScore.\n",
      "Score is not found for player\n",
      "Ignoring player: RLCS Observer 2 as player has no team.\n",
      "Player RLCS Observer 3 as player has no MatchScore.\n",
      "Score is not found for player\n",
      "Ignoring player: RLCS Observer 3 as player has no team.\n",
      "Player RLCS Observer 1 as player has no MatchScore.\n",
      "Score is not found for player\n",
      "Ignoring player: RLCS Observer 1 as player has no team.\n",
      "Dropping these columns[('game', 'is_overtime')]\n"
     ]
    },
    {
     "name": "stdout",
     "output_type": "stream",
     "text": [
      "replays/Week 5/M2 TSM v Bricks/M2G4.replay\n",
      "['rattletrap-6.3.1-osx', 'rattletrap-6.3.1-windows.exe', 'rattletrap-6.3.1-linux']\n"
     ]
    },
    {
     "name": "stderr",
     "output_type": "stream",
     "text": [
      "Player RLCS Admin as player has no MatchScore.\n",
      "Score is not found for player\n",
      "Ignoring player: RLCS Admin as player has no team.\n",
      "Could not find field_of_view in camera settings for kuxir97\n",
      "Could not find height in camera settings for kuxir97\n",
      "Could not find pitch in camera settings for kuxir97\n",
      "Could not find distance in camera settings for kuxir97\n",
      "Could not find stiffness in camera settings for kuxir97\n",
      "Could not find swivel_speed in camera settings for kuxir97\n",
      "Could not find transition_speed in camera settings for kuxir97\n",
      "Player RLCS Observer 3 as player has no MatchScore.\n",
      "Score is not found for player\n",
      "Ignoring player: RLCS Observer 3 as player has no team.\n",
      "Player RLCS Observer 2 as player has no MatchScore.\n",
      "Score is not found for player\n",
      "Ignoring player: RLCS Observer 2 as player has no team.\n",
      "Player RLCS Observer 1 as player has no MatchScore.\n",
      "Score is not found for player\n",
      "Ignoring player: RLCS Observer 1 as player has no team.\n"
     ]
    },
    {
     "name": "stdout",
     "output_type": "stream",
     "text": [
      "replays/Week 5/M2 TSM v Bricks/M2G1.replay\n",
      "['rattletrap-6.3.1-osx', 'rattletrap-6.3.1-windows.exe', 'rattletrap-6.3.1-linux']\n"
     ]
    },
    {
     "name": "stderr",
     "output_type": "stream",
     "text": [
      "Player RLCS Admin as player has no MatchScore.\n",
      "Score is not found for player\n",
      "Ignoring player: RLCS Admin as player has no team.\n",
      "Player RLCS Observer 1 as player has no MatchScore.\n",
      "Score is not found for player\n",
      "Ignoring player: RLCS Observer 1 as player has no team.\n",
      "Player RLCS Observer 2 as player has no MatchScore.\n",
      "Score is not found for player\n",
      "Ignoring player: RLCS Observer 2 as player has no team.\n",
      "Player RLCS Observer 3 as player has no MatchScore.\n",
      "Score is not found for player\n",
      "Ignoring player: RLCS Observer 3 as player has no team.\n"
     ]
    },
    {
     "name": "stdout",
     "output_type": "stream",
     "text": [
      "replays/Week 5/M4 EG v Ghost/M4G1.replay\n",
      "['rattletrap-6.3.1-osx', 'rattletrap-6.3.1-windows.exe', 'rattletrap-6.3.1-linux']\n"
     ]
    },
    {
     "name": "stderr",
     "output_type": "stream",
     "text": [
      "Player RLCS Admin as player has no MatchScore.\n",
      "Score is not found for player\n",
      "Ignoring player: RLCS Admin as player has no team.\n",
      "Player RLCS Observer 1 as player has no MatchScore.\n",
      "Score is not found for player\n",
      "Ignoring player: RLCS Observer 1 as player has no team.\n",
      "Player RLCS Observer 2 as player has no MatchScore.\n",
      "Score is not found for player\n",
      "Ignoring player: RLCS Observer 2 as player has no team.\n",
      "Player RLCS Observer 3 as player has no MatchScore.\n",
      "Score is not found for player\n",
      "Ignoring player: RLCS Observer 3 as player has no team.\n",
      "Dropping these columns[('game', 'is_overtime')]\n"
     ]
    },
    {
     "name": "stdout",
     "output_type": "stream",
     "text": [
      "replays/Week 5/M4 EG v Ghost/M4G2.replay\n",
      "['rattletrap-6.3.1-osx', 'rattletrap-6.3.1-windows.exe', 'rattletrap-6.3.1-linux']\n"
     ]
    },
    {
     "name": "stderr",
     "output_type": "stream",
     "text": [
      "Player RLCS Admin as player has no MatchScore.\n",
      "Score is not found for player\n",
      "Ignoring player: RLCS Admin as player has no team.\n",
      "Player RLCS Observer 2 as player has no MatchScore.\n",
      "Score is not found for player\n",
      "Ignoring player: RLCS Observer 2 as player has no team.\n",
      "Player RLCS Observer 3 as player has no MatchScore.\n",
      "Score is not found for player\n",
      "Ignoring player: RLCS Observer 3 as player has no team.\n",
      "Player RLCS Observer 1 as player has no MatchScore.\n",
      "Score is not found for player\n",
      "Ignoring player: RLCS Observer 1 as player has no team.\n",
      "Dropping these columns[('game', 'is_overtime')]\n",
      "Goal is not shot: frame_number: 4521\n",
      "player_id {\n",
      "  id: \"76561198073484045\"\n",
      "}\n",
      "collision_distance: 167.83645629882812\n",
      "ball_data {\n",
      "  pos_x: -1613.510009765625\n",
      "  pos_y: -974.1799926757812\n",
      "  pos_z: 119.4000015258789\n",
      "}\n",
      "passed: true\n",
      "goal: true\n",
      "assisted: true\n",
      "distance: 251.40292358398438\n",
      "distance_to_goal: 4227.15966796875\n",
      "previous_hit_frame_number: 4417\n",
      "next_hit_frame_number: 4524\n",
      "goal_number: 3\n",
      "is_kickoff: false\n",
      "\n"
     ]
    },
    {
     "name": "stdout",
     "output_type": "stream",
     "text": [
      "replays/Week 5/M4 EG v Ghost/M4G4.replay\n",
      "['rattletrap-6.3.1-osx', 'rattletrap-6.3.1-windows.exe', 'rattletrap-6.3.1-linux']\n"
     ]
    },
    {
     "name": "stderr",
     "output_type": "stream",
     "text": [
      "Player RLCS Admin as player has no MatchScore.\n",
      "Score is not found for player\n",
      "Ignoring player: RLCS Admin as player has no team.\n",
      "Player KLASSUX as player has no MatchScore.\n",
      "Player RLCS Observer 3 as player has no MatchScore.\n",
      "Score is not found for player\n",
      "Ignoring player: RLCS Observer 3 as player has no team.\n",
      "Player RLCS Observer 2 as player has no MatchScore.\n",
      "Score is not found for player\n",
      "Ignoring player: RLCS Observer 2 as player has no team.\n",
      "Player RLCS Observer 1 as player has no MatchScore.\n",
      "Score is not found for player\n",
      "Ignoring player: RLCS Observer 1 as player has no team.\n",
      "Player Allushin as player has no MatchScore.\n",
      "Player Drippay as player has no MatchScore.\n",
      "Dropping these columns[('game', 'is_overtime')]\n"
     ]
    },
    {
     "name": "stdout",
     "output_type": "stream",
     "text": [
      "replays/Week 5/M4 EG v Ghost/M4G3.replay\n",
      "['rattletrap-6.3.1-osx', 'rattletrap-6.3.1-windows.exe', 'rattletrap-6.3.1-linux']\n"
     ]
    },
    {
     "name": "stderr",
     "output_type": "stream",
     "text": [
      "Player RLCS Admin as player has no MatchScore.\n",
      "Score is not found for player\n",
      "Ignoring player: RLCS Admin as player has no team.\n",
      "Player RLCS Observer 2 as player has no MatchScore.\n",
      "Score is not found for player\n",
      "Ignoring player: RLCS Observer 2 as player has no team.\n",
      "Player RLCS Observer 3 as player has no MatchScore.\n",
      "Score is not found for player\n",
      "Ignoring player: RLCS Observer 3 as player has no team.\n",
      "Player RLCS Observer 1 as player has no MatchScore.\n",
      "Score is not found for player\n",
      "Ignoring player: RLCS Observer 1 as player has no team.\n",
      "Dropping these columns[('game', 'is_overtime')]\n"
     ]
    },
    {
     "name": "stdout",
     "output_type": "stream",
     "text": [
      "replays/Week 5/M6 Bricks v Dig/M6G3.replay\n",
      "['rattletrap-6.3.1-osx', 'rattletrap-6.3.1-windows.exe', 'rattletrap-6.3.1-linux']\n"
     ]
    },
    {
     "name": "stderr",
     "output_type": "stream",
     "text": [
      "Player RLCS Admin as player has no MatchScore.\n",
      "Score is not found for player\n",
      "Ignoring player: RLCS Admin as player has no team.\n",
      "Player RLCS Observer 3 as player has no MatchScore.\n",
      "Score is not found for player\n",
      "Ignoring player: RLCS Observer 3 as player has no team.\n",
      "Player RLCS Observer 2 as player has no MatchScore.\n",
      "Score is not found for player\n",
      "Ignoring player: RLCS Observer 2 as player has no team.\n",
      "Player RLCS Observer 1 as player has no MatchScore.\n",
      "Score is not found for player\n",
      "Ignoring player: RLCS Observer 1 as player has no team.\n",
      "Dropping these columns[('game', 'is_overtime')]\n"
     ]
    },
    {
     "name": "stdout",
     "output_type": "stream",
     "text": [
      "replays/Week 5/M6 Bricks v Dig/M6G1.replay\n",
      "['rattletrap-6.3.1-osx', 'rattletrap-6.3.1-windows.exe', 'rattletrap-6.3.1-linux']\n"
     ]
    },
    {
     "name": "stderr",
     "output_type": "stream",
     "text": [
      "Player RLCS Admin as player has no MatchScore.\n",
      "Score is not found for player\n",
      "Ignoring player: RLCS Admin as player has no team.\n",
      "Player RLCS Observer 3 as player has no MatchScore.\n",
      "Score is not found for player\n",
      "Ignoring player: RLCS Observer 3 as player has no team.\n",
      "Player RLCS Observer 1 as player has no MatchScore.\n",
      "Score is not found for player\n",
      "Ignoring player: RLCS Observer 1 as player has no team.\n",
      "Player RLCS Observer 2 as player has no MatchScore.\n",
      "Score is not found for player\n",
      "Ignoring player: RLCS Observer 2 as player has no team.\n",
      "Dropping these columns[('game', 'is_overtime')]\n"
     ]
    },
    {
     "name": "stdout",
     "output_type": "stream",
     "text": [
      "replays/Week 5/M6 Bricks v Dig/M6G2.replay\n",
      "['rattletrap-6.3.1-osx', 'rattletrap-6.3.1-windows.exe', 'rattletrap-6.3.1-linux']\n"
     ]
    },
    {
     "name": "stderr",
     "output_type": "stream",
     "text": [
      "Player RLCS Admin as player has no MatchScore.\n",
      "Score is not found for player\n",
      "Ignoring player: RLCS Admin as player has no team.\n",
      "Player RLCS Observer 1 as player has no MatchScore.\n",
      "Score is not found for player\n",
      "Ignoring player: RLCS Observer 1 as player has no team.\n",
      "Player RLCS Observer 2 as player has no MatchScore.\n",
      "Score is not found for player\n",
      "Ignoring player: RLCS Observer 2 as player has no team.\n",
      "Player RLCS Observer 3 as player has no MatchScore.\n",
      "Score is not found for player\n",
      "Ignoring player: RLCS Observer 3 as player has no team.\n",
      "Could not find field_of_view in camera settings for kuxir97\n",
      "Could not find height in camera settings for kuxir97\n",
      "Could not find pitch in camera settings for kuxir97\n",
      "Could not find distance in camera settings for kuxir97\n",
      "Could not find stiffness in camera settings for kuxir97\n",
      "Could not find swivel_speed in camera settings for kuxir97\n",
      "Could not find transition_speed in camera settings for kuxir97\n",
      "Dropping these columns[('game', 'is_overtime')]\n"
     ]
    },
    {
     "name": "stdout",
     "output_type": "stream",
     "text": [
      "replays/Week 5/M6 Bricks v Dig/M6G4.replay\n",
      "['rattletrap-6.3.1-osx', 'rattletrap-6.3.1-windows.exe', 'rattletrap-6.3.1-linux']\n"
     ]
    },
    {
     "name": "stderr",
     "output_type": "stream",
     "text": [
      "Player RLCS Observer 2 as player has no MatchScore.\n",
      "Score is not found for player\n",
      "Ignoring player: RLCS Observer 2 as player has no team.\n",
      "Player RLCS Admin as player has no MatchScore.\n",
      "Score is not found for player\n",
      "Ignoring player: RLCS Admin as player has no team.\n",
      "Player RLCS Observer 3 as player has no MatchScore.\n",
      "Score is not found for player\n",
      "Ignoring player: RLCS Observer 3 as player has no team.\n",
      "Player RLCS Observer 1 as player has no MatchScore.\n",
      "Score is not found for player\n",
      "Ignoring player: RLCS Observer 1 as player has no team.\n",
      "Dropping these columns[('game', 'is_overtime')]\n"
     ]
    },
    {
     "name": "stdout",
     "output_type": "stream",
     "text": [
      "replays/Week 5/M3 TT v FCB/M3G3.replay\n",
      "['rattletrap-6.3.1-osx', 'rattletrap-6.3.1-windows.exe', 'rattletrap-6.3.1-linux']\n"
     ]
    },
    {
     "name": "stderr",
     "output_type": "stream",
     "text": [
      "Player RLCS Admin as player has no MatchScore.\n",
      "Score is not found for player\n",
      "Ignoring player: RLCS Admin as player has no team.\n",
      "Player RLCS Observer 1 as player has no MatchScore.\n",
      "Score is not found for player\n",
      "Ignoring player: RLCS Observer 1 as player has no team.\n",
      "Player RLCS Observer 3 as player has no MatchScore.\n",
      "Score is not found for player\n",
      "Ignoring player: RLCS Observer 3 as player has no team.\n",
      "Player RLCS Observer 2 as player has no MatchScore.\n",
      "Score is not found for player\n",
      "Ignoring player: RLCS Observer 2 as player has no team.\n",
      "Dropping these columns[('game', 'is_overtime')]\n",
      "Goal is not shot: frame_number: 5849\n",
      "player_id {\n",
      "  id: \"76561198271971450\"\n",
      "}\n",
      "collision_distance: 147.47146606445312\n",
      "ball_data {\n",
      "  pos_x: -1606.0999755859375\n",
      "  pos_y: -1506.18994140625\n",
      "  pos_z: 732.0599975585938\n",
      "}\n",
      "passed: true\n",
      "dribble: true\n",
      "goal: true\n",
      "assisted: true\n",
      "aerial: true\n",
      "distance: 2359.83251953125\n",
      "distance_to_goal: 3702.5419921875\n",
      "previous_hit_frame_number: 5800\n",
      "goal_number: 0\n",
      "is_kickoff: false\n",
      "\n"
     ]
    },
    {
     "name": "stdout",
     "output_type": "stream",
     "text": [
      "replays/Week 5/M3 TT v FCB/M3G4.replay\n",
      "['rattletrap-6.3.1-osx', 'rattletrap-6.3.1-windows.exe', 'rattletrap-6.3.1-linux']\n"
     ]
    },
    {
     "name": "stderr",
     "output_type": "stream",
     "text": [
      "Player RLCS Admin as player has no MatchScore.\n",
      "Score is not found for player\n",
      "Ignoring player: RLCS Admin as player has no team.\n",
      "Player RLCS Observer 3 as player has no MatchScore.\n",
      "Score is not found for player\n",
      "Ignoring player: RLCS Observer 3 as player has no team.\n",
      "Player RLCS Observer 2 as player has no MatchScore.\n",
      "Score is not found for player\n",
      "Ignoring player: RLCS Observer 2 as player has no team.\n",
      "Player RLCS Observer 1 as player has no MatchScore.\n",
      "Score is not found for player\n",
      "Ignoring player: RLCS Observer 1 as player has no team.\n",
      "Dropping these columns[('game', 'is_overtime')]\n"
     ]
    },
    {
     "name": "stdout",
     "output_type": "stream",
     "text": [
      "replays/Week 5/M3 TT v FCB/M3G2.replay\n",
      "['rattletrap-6.3.1-osx', 'rattletrap-6.3.1-windows.exe', 'rattletrap-6.3.1-linux']\n"
     ]
    },
    {
     "name": "stderr",
     "output_type": "stream",
     "text": [
      "Player RLCS Admin as player has no MatchScore.\n",
      "Score is not found for player\n",
      "Ignoring player: RLCS Admin as player has no team.\n",
      "Player RLCS Observer 2 as player has no MatchScore.\n",
      "Score is not found for player\n",
      "Ignoring player: RLCS Observer 2 as player has no team.\n",
      "Player RLCS Observer 1 as player has no MatchScore.\n",
      "Score is not found for player\n",
      "Ignoring player: RLCS Observer 1 as player has no team.\n",
      "Player RLCS Observer 3 as player has no MatchScore.\n",
      "Score is not found for player\n",
      "Ignoring player: RLCS Observer 3 as player has no team.\n",
      "Dropping these columns[('game', 'is_overtime')]\n",
      "Goal is not shot: frame_number: 2841\n",
      "player_id {\n",
      "  id: \"76561198348804468\"\n",
      "}\n",
      "collision_distance: 137.6201629638672\n",
      "ball_data {\n",
      "  pos_x: -1016.0\n",
      "  pos_y: 4980.6201171875\n",
      "  pos_z: 285.75\n",
      "}\n",
      "pass_: true\n",
      "passed: true\n",
      "goal: true\n",
      "assisted: true\n",
      "distance: 5072.05419921875\n",
      "distance_to_goal: 199.5043487548828\n",
      "previous_hit_frame_number: 2776\n",
      "goal_number: 0\n",
      "is_kickoff: false\n",
      "\n"
     ]
    },
    {
     "name": "stdout",
     "output_type": "stream",
     "text": [
      "replays/Week 5/M3 Rogue v SSG/M3G3.replay\n",
      "['rattletrap-6.3.1-osx', 'rattletrap-6.3.1-windows.exe', 'rattletrap-6.3.1-linux']\n"
     ]
    },
    {
     "name": "stderr",
     "output_type": "stream",
     "text": [
      "Player RLCS Admin as player has no MatchScore.\n",
      "Score is not found for player\n",
      "Ignoring player: RLCS Admin as player has no team.\n",
      "Player RLCS Observer 2 as player has no MatchScore.\n",
      "Score is not found for player\n",
      "Ignoring player: RLCS Observer 2 as player has no team.\n",
      "Player RLCS Observer 1 as player has no MatchScore.\n",
      "Score is not found for player\n",
      "Ignoring player: RLCS Observer 1 as player has no team.\n",
      "Player RLCS Observer 3 as player has no MatchScore.\n",
      "Score is not found for player\n",
      "Ignoring player: RLCS Observer 3 as player has no team.\n",
      "Dropping these columns[('game', 'is_overtime')]\n"
     ]
    },
    {
     "name": "stdout",
     "output_type": "stream",
     "text": [
      "replays/Week 5/M3 Rogue v SSG/M3G1.replay\n",
      "['rattletrap-6.3.1-osx', 'rattletrap-6.3.1-windows.exe', 'rattletrap-6.3.1-linux']\n"
     ]
    },
    {
     "name": "stderr",
     "output_type": "stream",
     "text": [
      "Player RLCS Admin as player has no MatchScore.\n",
      "Score is not found for player\n",
      "Ignoring player: RLCS Admin as player has no team.\n",
      "Player RLCS Observer 1 as player has no MatchScore.\n",
      "Score is not found for player\n",
      "Ignoring player: RLCS Observer 1 as player has no team.\n",
      "Player RLCS Observer 2 as player has no MatchScore.\n",
      "Score is not found for player\n",
      "Ignoring player: RLCS Observer 2 as player has no team.\n",
      "Player RLCS Observer 3 as player has no MatchScore.\n",
      "Score is not found for player\n",
      "Ignoring player: RLCS Observer 3 as player has no team.\n",
      "Dropping these columns[('game', 'is_overtime')]\n"
     ]
    },
    {
     "name": "stdout",
     "output_type": "stream",
     "text": [
      "replays/Week 5/M3 Rogue v SSG/M3G4.replay\n",
      "['rattletrap-6.3.1-osx', 'rattletrap-6.3.1-windows.exe', 'rattletrap-6.3.1-linux']\n"
     ]
    },
    {
     "name": "stderr",
     "output_type": "stream",
     "text": [
      "Player RLCS Admin as player has no MatchScore.\n",
      "Score is not found for player\n",
      "Ignoring player: RLCS Admin as player has no team.\n",
      "Player RLCS Observer 3 as player has no MatchScore.\n",
      "Score is not found for player\n",
      "Ignoring player: RLCS Observer 3 as player has no team.\n",
      "Player RLCS Observer 2 as player has no MatchScore.\n",
      "Score is not found for player\n",
      "Ignoring player: RLCS Observer 2 as player has no team.\n",
      "Player RLCS Observer 1 as player has no MatchScore.\n",
      "Score is not found for player\n",
      "Ignoring player: RLCS Observer 1 as player has no team.\n",
      "Dropping these columns[('game', 'is_overtime')]\n"
     ]
    },
    {
     "name": "stdout",
     "output_type": "stream",
     "text": [
      "replays/Week 5/M3 Rogue v SSG/M3G2.replay\n",
      "['rattletrap-6.3.1-osx', 'rattletrap-6.3.1-windows.exe', 'rattletrap-6.3.1-linux']\n"
     ]
    },
    {
     "name": "stderr",
     "output_type": "stream",
     "text": [
      "Player RLCS Admin as player has no MatchScore.\n",
      "Score is not found for player\n",
      "Ignoring player: RLCS Admin as player has no team.\n",
      "Player RLCS Observer 2 as player has no MatchScore.\n",
      "Score is not found for player\n",
      "Ignoring player: RLCS Observer 2 as player has no team.\n",
      "Player RLCS Observer 1 as player has no MatchScore.\n",
      "Score is not found for player\n",
      "Ignoring player: RLCS Observer 1 as player has no team.\n",
      "Player RLCS Observer 3 as player has no MatchScore.\n",
      "Score is not found for player\n",
      "Ignoring player: RLCS Observer 3 as player has no team.\n",
      "Goal is not shot: frame_number: 1024\n",
      "player_id {\n",
      "  id: \"76561198219259227\"\n",
      "}\n",
      "collision_distance: 135.54751586914062\n",
      "ball_data {\n",
      "  pos_x: 1958.8900146484375\n",
      "  pos_y: -3264.280029296875\n",
      "  pos_z: 276.57000732421875\n",
      "}\n",
      "passed: true\n",
      "goal: true\n",
      "assisted: true\n",
      "distance: 3894.6416015625\n",
      "distance_to_goal: 8875.9404296875\n",
      "previous_hit_frame_number: 992\n",
      "goal_number: 0\n",
      "is_kickoff: false\n",
      "\n"
     ]
    },
    {
     "name": "stdout",
     "output_type": "stream",
     "text": [
      "replays/Week 5/M5 Rogue v NRG/M5G4.replay\n",
      "['rattletrap-6.3.1-osx', 'rattletrap-6.3.1-windows.exe', 'rattletrap-6.3.1-linux']\n"
     ]
    },
    {
     "name": "stderr",
     "output_type": "stream",
     "text": [
      "Player RLCS Admin as player has no MatchScore.\n",
      "Score is not found for player\n",
      "Ignoring player: RLCS Admin as player has no team.\n",
      "Player RLCS Observer 2 as player has no MatchScore.\n",
      "Score is not found for player\n",
      "Ignoring player: RLCS Observer 2 as player has no team.\n",
      "Player RLCS Observer 3 as player has no MatchScore.\n",
      "Score is not found for player\n",
      "Ignoring player: RLCS Observer 3 as player has no team.\n",
      "Player RLCS Observer 1 as player has no MatchScore.\n",
      "Score is not found for player\n",
      "Ignoring player: RLCS Observer 1 as player has no team.\n"
     ]
    },
    {
     "name": "stdout",
     "output_type": "stream",
     "text": [
      "replays/Week 5/M5 Rogue v NRG/M5G2.replay\n",
      "['rattletrap-6.3.1-osx', 'rattletrap-6.3.1-windows.exe', 'rattletrap-6.3.1-linux']\n"
     ]
    },
    {
     "name": "stderr",
     "output_type": "stream",
     "text": [
      "Player RLCS Admin as player has no MatchScore.\n",
      "Score is not found for player\n",
      "Ignoring player: RLCS Admin as player has no team.\n",
      "Player RLCS Observer 2 as player has no MatchScore.\n",
      "Score is not found for player\n",
      "Ignoring player: RLCS Observer 2 as player has no team.\n",
      "Player RLCS Observer 1 as player has no MatchScore.\n",
      "Score is not found for player\n",
      "Ignoring player: RLCS Observer 1 as player has no team.\n",
      "Player RLCS Observer 3 as player has no MatchScore.\n",
      "Score is not found for player\n",
      "Ignoring player: RLCS Observer 3 as player has no team.\n",
      "Dropping these columns[('game', 'is_overtime')]\n"
     ]
    },
    {
     "name": "stdout",
     "output_type": "stream",
     "text": [
      "replays/Week 5/M5 Rogue v NRG/M5G5.replay\n",
      "['rattletrap-6.3.1-osx', 'rattletrap-6.3.1-windows.exe', 'rattletrap-6.3.1-linux']\n"
     ]
    },
    {
     "name": "stderr",
     "output_type": "stream",
     "text": [
      "Player RLCS Admin as player has no MatchScore.\n",
      "Score is not found for player\n",
      "Ignoring player: RLCS Admin as player has no team.\n",
      "Player RLCS Observer 2 as player has no MatchScore.\n",
      "Score is not found for player\n",
      "Ignoring player: RLCS Observer 2 as player has no team.\n",
      "Player RLCS Observer 3 as player has no MatchScore.\n",
      "Score is not found for player\n",
      "Ignoring player: RLCS Observer 3 as player has no team.\n",
      "Player RLCS Observer 1 as player has no MatchScore.\n",
      "Score is not found for player\n",
      "Ignoring player: RLCS Observer 1 as player has no team.\n",
      "Dropping these columns[('game', 'is_overtime')]\n",
      "Goal is not shot: frame_number: 5458\n",
      "player_id {\n",
      "  id: \"76561198070392546\"\n",
      "}\n",
      "collision_distance: 108.74130249023438\n",
      "ball_data {\n",
      "  pos_x: -1810.43994140625\n",
      "  pos_y: 3415.8798828125\n",
      "  pos_z: 199.16000366210938\n",
      "}\n",
      "goal: true\n",
      "distance: 3854.5126953125\n",
      "distance_to_goal: 8604.6083984375\n",
      "previous_hit_frame_number: 5445\n",
      "goal_number: 2\n",
      "is_kickoff: false\n",
      "\n"
     ]
    },
    {
     "name": "stdout",
     "output_type": "stream",
     "text": [
      "replays/Week 5/M5 Rogue v NRG/M5G3.replay\n",
      "['rattletrap-6.3.1-osx', 'rattletrap-6.3.1-windows.exe', 'rattletrap-6.3.1-linux']\n"
     ]
    },
    {
     "name": "stderr",
     "output_type": "stream",
     "text": [
      "Player RLCS Admin as player has no MatchScore.\n",
      "Score is not found for player\n",
      "Ignoring player: RLCS Admin as player has no team.\n",
      "Player RLCS Observer 1 as player has no MatchScore.\n",
      "Score is not found for player\n",
      "Ignoring player: RLCS Observer 1 as player has no team.\n",
      "Player RLCS Observer 2 as player has no MatchScore.\n",
      "Score is not found for player\n",
      "Ignoring player: RLCS Observer 2 as player has no team.\n",
      "Player RLCS Observer 3 as player has no MatchScore.\n",
      "Score is not found for player\n",
      "Ignoring player: RLCS Observer 3 as player has no team.\n",
      "Dropping these columns[('game', 'is_overtime')]\n"
     ]
    },
    {
     "name": "stdout",
     "output_type": "stream",
     "text": [
      "replays/Week 5/M5 Rogue v NRG/M5G1.replay\n",
      "['rattletrap-6.3.1-osx', 'rattletrap-6.3.1-windows.exe', 'rattletrap-6.3.1-linux']\n"
     ]
    },
    {
     "name": "stderr",
     "output_type": "stream",
     "text": [
      "Player RLCS Admin as player has no MatchScore.\n",
      "Score is not found for player\n",
      "Ignoring player: RLCS Admin as player has no team.\n",
      "Player RLCS Observer 1 as player has no MatchScore.\n",
      "Score is not found for player\n",
      "Ignoring player: RLCS Observer 1 as player has no team.\n",
      "Player RLCS Observer 3 as player has no MatchScore.\n",
      "Score is not found for player\n",
      "Ignoring player: RLCS Observer 3 as player has no team.\n",
      "Player RLCS Observer 2 as player has no MatchScore.\n",
      "Score is not found for player\n",
      "Ignoring player: RLCS Observer 2 as player has no team.\n",
      "Goal is not shot: frame_number: 1252\n",
      "player_id {\n",
      "  id: \"76561198136523266\"\n",
      "}\n",
      "collision_distance: 118.20066833496094\n",
      "ball_data {\n",
      "  pos_x: -421.70001220703125\n",
      "  pos_y: 511.2900085449219\n",
      "  pos_z: 223.42999267578125\n",
      "}\n",
      "passed: true\n",
      "dribble: true\n",
      "goal: true\n",
      "assisted: true\n",
      "distance: 675.0348510742188\n",
      "distance_to_goal: 5671.15869140625\n",
      "previous_hit_frame_number: 1229\n",
      "goal_number: 1\n",
      "is_kickoff: false\n",
      "\n"
     ]
    },
    {
     "name": "stdout",
     "output_type": "stream",
     "text": [
      "replays/Week 5/M2 C9 v NRG/M2G2.replay\n",
      "['rattletrap-6.3.1-osx', 'rattletrap-6.3.1-windows.exe', 'rattletrap-6.3.1-linux']\n"
     ]
    },
    {
     "name": "stderr",
     "output_type": "stream",
     "text": [
      "Player RLCS Admin as player has no MatchScore.\n",
      "Score is not found for player\n",
      "Ignoring player: RLCS Admin as player has no team.\n",
      "Player RLCS Observer 3 as player has no MatchScore.\n",
      "Score is not found for player\n",
      "Ignoring player: RLCS Observer 3 as player has no team.\n",
      "Player RLCS Observer 2 as player has no MatchScore.\n",
      "Score is not found for player\n",
      "Ignoring player: RLCS Observer 2 as player has no team.\n",
      "Player RLCS Observer 1 as player has no MatchScore.\n",
      "Score is not found for player\n",
      "Ignoring player: RLCS Observer 1 as player has no team.\n",
      "Dropping these columns[('game', 'is_overtime')]\n"
     ]
    },
    {
     "name": "stdout",
     "output_type": "stream",
     "text": [
      "replays/Week 5/M2 C9 v NRG/M2G3.replay\n",
      "['rattletrap-6.3.1-osx', 'rattletrap-6.3.1-windows.exe', 'rattletrap-6.3.1-linux']\n"
     ]
    },
    {
     "name": "stderr",
     "output_type": "stream",
     "text": [
      "Player RLCS Observer 3 as player has no MatchScore.\n",
      "Score is not found for player\n",
      "Ignoring player: RLCS Observer 3 as player has no team.\n",
      "Player RLCS Admin as player has no MatchScore.\n",
      "Score is not found for player\n",
      "Ignoring player: RLCS Admin as player has no team.\n",
      "Player RLCS Observer 1 as player has no MatchScore.\n",
      "Score is not found for player\n",
      "Ignoring player: RLCS Observer 1 as player has no team.\n",
      "Player RLCS Observer 2 as player has no MatchScore.\n",
      "Score is not found for player\n",
      "Ignoring player: RLCS Observer 2 as player has no team.\n",
      "Dropping these columns[('game', 'is_overtime')]\n"
     ]
    },
    {
     "name": "stdout",
     "output_type": "stream",
     "text": [
      "replays/Week 5/M2 C9 v NRG/M2G4.replay\n",
      "['rattletrap-6.3.1-osx', 'rattletrap-6.3.1-windows.exe', 'rattletrap-6.3.1-linux']\n"
     ]
    },
    {
     "name": "stderr",
     "output_type": "stream",
     "text": [
      "Player RLCS Admin as player has no MatchScore.\n",
      "Score is not found for player\n",
      "Ignoring player: RLCS Admin as player has no team.\n",
      "Player RLCS Observer 3 as player has no MatchScore.\n",
      "Score is not found for player\n",
      "Ignoring player: RLCS Observer 3 as player has no team.\n",
      "Player RLCS Observer 2 as player has no MatchScore.\n",
      "Score is not found for player\n",
      "Ignoring player: RLCS Observer 2 as player has no team.\n",
      "Player RLCS Observer 1 as player has no MatchScore.\n",
      "Score is not found for player\n",
      "Ignoring player: RLCS Observer 1 as player has no team.\n",
      "Dropping these columns[('game', 'is_overtime')]\n"
     ]
    },
    {
     "name": "stdout",
     "output_type": "stream",
     "text": [
      "replays/Week 5/M2 C9 v NRG/M2G1.replay\n",
      "['rattletrap-6.3.1-osx', 'rattletrap-6.3.1-windows.exe', 'rattletrap-6.3.1-linux']\n"
     ]
    },
    {
     "name": "stderr",
     "output_type": "stream",
     "text": [
      "Player RLCS Admin as player has no MatchScore.\n",
      "Score is not found for player\n",
      "Ignoring player: RLCS Admin as player has no team.\n",
      "Player RLCS Observer 3 as player has no MatchScore.\n",
      "Score is not found for player\n",
      "Ignoring player: RLCS Observer 3 as player has no team.\n",
      "Player RLCS Observer 1 as player has no MatchScore.\n",
      "Score is not found for player\n",
      "Ignoring player: RLCS Observer 1 as player has no team.\n",
      "Player RLCS Observer 2 as player has no MatchScore.\n",
      "Score is not found for player\n",
      "Ignoring player: RLCS Observer 2 as player has no team.\n"
     ]
    },
    {
     "name": "stdout",
     "output_type": "stream",
     "text": [
      "replays/Week 5/M6 C9 v G2/M6G3.replay\n",
      "['rattletrap-6.3.1-osx', 'rattletrap-6.3.1-windows.exe', 'rattletrap-6.3.1-linux']\n"
     ]
    },
    {
     "name": "stderr",
     "output_type": "stream",
     "text": [
      "Player RLCS Admin as player has no MatchScore.\n",
      "Score is not found for player\n",
      "Ignoring player: RLCS Admin as player has no team.\n",
      "Player RLCS Observer 2 as player has no MatchScore.\n",
      "Score is not found for player\n",
      "Ignoring player: RLCS Observer 2 as player has no team.\n",
      "Player RLCS Observer 1 as player has no MatchScore.\n",
      "Score is not found for player\n",
      "Ignoring player: RLCS Observer 1 as player has no team.\n",
      "Player RLCS Observer 3 as player has no MatchScore.\n",
      "Score is not found for player\n",
      "Ignoring player: RLCS Observer 3 as player has no team.\n",
      "Dropping these columns[('game', 'is_overtime')]\n",
      "Goal is not shot: frame_number: 6236\n",
      "player_id {\n",
      "  id: \"76561198286759507\"\n",
      "}\n",
      "collision_distance: 199.68922424316406\n",
      "ball_data {\n",
      "  pos_x: 3238.64990234375\n",
      "  pos_y: 4579.06005859375\n",
      "  pos_z: 217.33999633789062\n",
      "}\n",
      "dribble_continuation: true\n",
      "goal: true\n",
      "assisted: true\n",
      "distance: 2794.134765625\n",
      "distance_to_goal: 4172.52734375\n",
      "previous_hit_frame_number: 6145\n",
      "next_hit_frame_number: 6275\n",
      "goal_number: 0\n",
      "is_kickoff: false\n",
      "\n"
     ]
    },
    {
     "name": "stdout",
     "output_type": "stream",
     "text": [
      "replays/Week 5/M6 C9 v G2/M6G1.replay\n",
      "['rattletrap-6.3.1-osx', 'rattletrap-6.3.1-windows.exe', 'rattletrap-6.3.1-linux']\n"
     ]
    },
    {
     "name": "stderr",
     "output_type": "stream",
     "text": [
      "Player RLCS Admin as player has no MatchScore.\n",
      "Score is not found for player\n",
      "Ignoring player: RLCS Admin as player has no team.\n",
      "Player RLCS Observer 1 as player has no MatchScore.\n",
      "Score is not found for player\n",
      "Ignoring player: RLCS Observer 1 as player has no team.\n",
      "Player RLCS Observer 3 as player has no MatchScore.\n",
      "Score is not found for player\n",
      "Ignoring player: RLCS Observer 3 as player has no team.\n",
      "Player RLCS Observer 2 as player has no MatchScore.\n",
      "Score is not found for player\n",
      "Ignoring player: RLCS Observer 2 as player has no team.\n",
      "Dropping these columns[('game', 'is_overtime')]\n"
     ]
    },
    {
     "name": "stdout",
     "output_type": "stream",
     "text": [
      "replays/Week 5/M6 C9 v G2/M6G2.replay\n",
      "['rattletrap-6.3.1-osx', 'rattletrap-6.3.1-windows.exe', 'rattletrap-6.3.1-linux']\n"
     ]
    },
    {
     "name": "stderr",
     "output_type": "stream",
     "text": [
      "Player RLCS Admin as player has no MatchScore.\n",
      "Score is not found for player\n",
      "Ignoring player: RLCS Admin as player has no team.\n",
      "Player RLCS Observer 2 as player has no MatchScore.\n",
      "Score is not found for player\n",
      "Ignoring player: RLCS Observer 2 as player has no team.\n",
      "Player RLCS Observer 1 as player has no MatchScore.\n",
      "Score is not found for player\n",
      "Ignoring player: RLCS Observer 1 as player has no team.\n",
      "Player RLCS Observer 3 as player has no MatchScore.\n",
      "Score is not found for player\n",
      "Ignoring player: RLCS Observer 3 as player has no team.\n",
      "Dropping these columns[('game', 'is_overtime')]\n"
     ]
    },
    {
     "name": "stdout",
     "output_type": "stream",
     "text": [
      "replays/Week 5/M6 C9 v G2/M6G4.replay\n",
      "['rattletrap-6.3.1-osx', 'rattletrap-6.3.1-windows.exe', 'rattletrap-6.3.1-linux']\n"
     ]
    },
    {
     "name": "stderr",
     "output_type": "stream",
     "text": [
      "Player RLCS Admin as player has no MatchScore.\n",
      "Score is not found for player\n",
      "Ignoring player: RLCS Admin as player has no team.\n",
      "Player RLCS Observer 3 as player has no MatchScore.\n",
      "Score is not found for player\n",
      "Ignoring player: RLCS Observer 3 as player has no team.\n",
      "Player RLCS Observer 2 as player has no MatchScore.\n",
      "Score is not found for player\n",
      "Ignoring player: RLCS Observer 2 as player has no team.\n",
      "Player RLCS Observer 1 as player has no MatchScore.\n",
      "Score is not found for player\n",
      "Ignoring player: RLCS Observer 1 as player has no team.\n",
      "Goal is not shot: frame_number: 979\n",
      "player_id {\n",
      "  id: \"76561198061585314\"\n",
      "}\n",
      "collision_distance: 113.97721862792969\n",
      "ball_data {\n",
      "  pos_x: 1295.6600341796875\n",
      "  pos_y: -3544.929931640625\n",
      "  pos_z: 985.5\n",
      "}\n",
      "pass_: true\n",
      "passed: true\n",
      "goal: true\n",
      "assisted: true\n",
      "aerial: true\n",
      "distance: 894.667236328125\n",
      "distance_to_goal: 2710.649658203125\n",
      "previous_hit_frame_number: 921\n",
      "next_hit_frame_number: 1029\n",
      "goal_number: 0\n",
      "is_kickoff: false\n",
      "\n"
     ]
    },
    {
     "name": "stdout",
     "output_type": "stream",
     "text": [
      "replays/Week 5/M6 C9 v G2/M6G5.replay\n",
      "['rattletrap-6.3.1-osx', 'rattletrap-6.3.1-windows.exe', 'rattletrap-6.3.1-linux']\n"
     ]
    },
    {
     "name": "stderr",
     "output_type": "stream",
     "text": [
      "Player RLCS Admin as player has no MatchScore.\n",
      "Score is not found for player\n",
      "Ignoring player: RLCS Admin as player has no team.\n",
      "Player RLCS Observer 2 as player has no MatchScore.\n",
      "Score is not found for player\n",
      "Ignoring player: RLCS Observer 2 as player has no team.\n",
      "Player RLCS Observer 1 as player has no MatchScore.\n",
      "Score is not found for player\n",
      "Ignoring player: RLCS Observer 1 as player has no team.\n",
      "Player RLCS Observer 3 as player has no MatchScore.\n",
      "Score is not found for player\n",
      "Ignoring player: RLCS Observer 3 as player has no team.\n",
      "Dropping these columns[('game', 'is_overtime')]\n"
     ]
    },
    {
     "name": "stdout",
     "output_type": "stream",
     "text": [
      "replays/Week 5/M5 PSG v FCB/M5G4.replay\n",
      "['rattletrap-6.3.1-osx', 'rattletrap-6.3.1-windows.exe', 'rattletrap-6.3.1-linux']\n"
     ]
    },
    {
     "name": "stderr",
     "output_type": "stream",
     "text": [
      "Player RLCS Admin as player has no MatchScore.\n",
      "Score is not found for player\n",
      "Ignoring player: RLCS Admin as player has no team.\n",
      "Player RLCS Observer 3 as player has no MatchScore.\n",
      "Score is not found for player\n",
      "Ignoring player: RLCS Observer 3 as player has no team.\n",
      "Player RLCS Observer 1 as player has no MatchScore.\n",
      "Score is not found for player\n",
      "Ignoring player: RLCS Observer 1 as player has no team.\n",
      "Player RLCS Observer 2 as player has no MatchScore.\n",
      "Score is not found for player\n",
      "Ignoring player: RLCS Observer 2 as player has no team.\n"
     ]
    },
    {
     "name": "stdout",
     "output_type": "stream",
     "text": [
      "replays/Week 5/M5 PSG v FCB/M5G2.replay\n",
      "['rattletrap-6.3.1-osx', 'rattletrap-6.3.1-windows.exe', 'rattletrap-6.3.1-linux']\n"
     ]
    },
    {
     "name": "stderr",
     "output_type": "stream",
     "text": [
      "Player RLCS Admin as player has no MatchScore.\n",
      "Score is not found for player\n",
      "Ignoring player: RLCS Admin as player has no team.\n",
      "Player RLCS Observer 2 as player has no MatchScore.\n",
      "Score is not found for player\n",
      "Ignoring player: RLCS Observer 2 as player has no team.\n",
      "Player RLCS Observer 3 as player has no MatchScore.\n",
      "Score is not found for player\n",
      "Ignoring player: RLCS Observer 3 as player has no team.\n",
      "Player RLCS Observer 1 as player has no MatchScore.\n",
      "Score is not found for player\n",
      "Ignoring player: RLCS Observer 1 as player has no team.\n",
      "Dropping these columns[('game', 'is_overtime')]\n"
     ]
    },
    {
     "name": "stdout",
     "output_type": "stream",
     "text": [
      "replays/Week 5/M5 PSG v FCB/M5G3.replay\n",
      "['rattletrap-6.3.1-osx', 'rattletrap-6.3.1-windows.exe', 'rattletrap-6.3.1-linux']\n"
     ]
    },
    {
     "name": "stderr",
     "output_type": "stream",
     "text": [
      "Player RLCS Admin as player has no MatchScore.\n",
      "Score is not found for player\n",
      "Ignoring player: RLCS Admin as player has no team.\n",
      "Player RLCS Observer 1 as player has no MatchScore.\n",
      "Score is not found for player\n",
      "Ignoring player: RLCS Observer 1 as player has no team.\n",
      "Player RLCS Observer 3 as player has no MatchScore.\n",
      "Score is not found for player\n",
      "Ignoring player: RLCS Observer 3 as player has no team.\n",
      "Player RLCS Observer 2 as player has no MatchScore.\n",
      "Score is not found for player\n",
      "Ignoring player: RLCS Observer 2 as player has no team.\n",
      "Dropping these columns[('game', 'is_overtime')]\n",
      "Goal is not shot: frame_number: 216\n",
      "player_id {\n",
      "  id: \"76561198353133370\"\n",
      "}\n",
      "collision_distance: 99.12926483154297\n",
      "ball_data {\n",
      "  pos_x: 2541.77001953125\n",
      "  pos_y: -1388.1300048828125\n",
      "  pos_z: 93.13999938964844\n",
      "}\n",
      "pass_: true\n",
      "dribble_continuation: true\n",
      "goal: true\n",
      "distance: 2885.9130859375\n",
      "distance_to_goal: 5088.6923828125\n",
      "previous_hit_frame_number: 170\n",
      "goal_number: 0\n",
      "is_kickoff: false\n",
      "\n",
      "Goal is not shot: frame_number: 7073\n",
      "player_id {\n",
      "  id: \"76561198353133370\"\n",
      "}\n",
      "collision_distance: 98.26020050048828\n",
      "ball_data {\n",
      "  pos_x: 202.00999450683594\n",
      "  pos_y: -30.229999542236328\n",
      "  pos_z: 858.219970703125\n",
      "}\n",
      "passed: true\n",
      "goal: true\n",
      "assisted: true\n",
      "aerial: true\n",
      "distance: 4952.2783203125\n",
      "distance_to_goal: 5226.4111328125\n",
      "previous_hit_frame_number: 7000\n",
      "next_hit_frame_number: 7145\n",
      "goal_number: 3\n",
      "is_kickoff: false\n",
      "\n"
     ]
    },
    {
     "name": "stdout",
     "output_type": "stream",
     "text": [
      "replays/Week 5/M5 PSG v FCB/M5G1.replay\n",
      "['rattletrap-6.3.1-osx', 'rattletrap-6.3.1-windows.exe', 'rattletrap-6.3.1-linux']\n"
     ]
    },
    {
     "name": "stderr",
     "output_type": "stream",
     "text": [
      "Player RLCS Admin as player has no MatchScore.\n",
      "Score is not found for player\n",
      "Ignoring player: RLCS Admin as player has no team.\n",
      "Player RLCS Observer 2 as player has no MatchScore.\n",
      "Score is not found for player\n",
      "Ignoring player: RLCS Observer 2 as player has no team.\n",
      "Player RLCS Observer 3 as player has no MatchScore.\n",
      "Score is not found for player\n",
      "Ignoring player: RLCS Observer 3 as player has no team.\n",
      "Player RLCS Observer 1 as player has no MatchScore.\n",
      "Score is not found for player\n",
      "Ignoring player: RLCS Observer 1 as player has no team.\n",
      "Dropping these columns[('game', 'is_overtime')]\n",
      "Could not find hit for goal: frame_number: 8826\n",
      "player_id {\n",
      "  id: \"76561198071457340\"\n",
      "}\n",
      "\n"
     ]
    },
    {
     "name": "stdout",
     "output_type": "stream",
     "text": [
      "replays/Week 5/M4 TSM v Dig/M4G1.replay\n",
      "['rattletrap-6.3.1-osx', 'rattletrap-6.3.1-windows.exe', 'rattletrap-6.3.1-linux']\n"
     ]
    },
    {
     "name": "stderr",
     "output_type": "stream",
     "text": [
      "Player RLCS Admin as player has no MatchScore.\n",
      "Score is not found for player\n",
      "Ignoring player: RLCS Admin as player has no team.\n",
      "Player RLCS Observer 2 as player has no MatchScore.\n",
      "Score is not found for player\n",
      "Ignoring player: RLCS Observer 2 as player has no team.\n",
      "Player RLCS Observer 3 as player has no MatchScore.\n",
      "Score is not found for player\n",
      "Ignoring player: RLCS Observer 3 as player has no team.\n",
      "Player RLCS Observer 1 as player has no MatchScore.\n",
      "Score is not found for player\n",
      "Ignoring player: RLCS Observer 1 as player has no team.\n",
      "Dropping these columns[('game', 'is_overtime')]\n"
     ]
    },
    {
     "name": "stdout",
     "output_type": "stream",
     "text": [
      "replays/Week 5/M4 TSM v Dig/M4G2.replay\n",
      "['rattletrap-6.3.1-osx', 'rattletrap-6.3.1-windows.exe', 'rattletrap-6.3.1-linux']\n"
     ]
    },
    {
     "name": "stderr",
     "output_type": "stream",
     "text": [
      "Player RLCS Admin as player has no MatchScore.\n",
      "Score is not found for player\n",
      "Ignoring player: RLCS Admin as player has no team.\n",
      "Player RLCS Observer 2 as player has no MatchScore.\n",
      "Score is not found for player\n",
      "Ignoring player: RLCS Observer 2 as player has no team.\n",
      "Player RLCS Observer 3 as player has no MatchScore.\n",
      "Score is not found for player\n",
      "Ignoring player: RLCS Observer 3 as player has no team.\n",
      "Player RLCS Observer 1 as player has no MatchScore.\n",
      "Score is not found for player\n",
      "Ignoring player: RLCS Observer 1 as player has no team.\n",
      "Goal is not shot: frame_number: 2851\n",
      "player_id {\n",
      "  id: \"76561198374703623\"\n",
      "}\n",
      "collision_distance: 158.47216796875\n",
      "ball_data {\n",
      "  pos_x: 3638.75\n",
      "  pos_y: 2508.550048828125\n",
      "  pos_z: 367.82000732421875\n",
      "}\n",
      "pass_: true\n",
      "goal: true\n",
      "distance: 4475.587890625\n",
      "distance_to_goal: 8891.8095703125\n",
      "previous_hit_frame_number: 2774\n",
      "goal_number: 1\n",
      "is_kickoff: false\n",
      "\n"
     ]
    },
    {
     "name": "stdout",
     "output_type": "stream",
     "text": [
      "replays/Week 5/M4 TSM v Dig/M4G4.replay\n",
      "['rattletrap-6.3.1-osx', 'rattletrap-6.3.1-windows.exe', 'rattletrap-6.3.1-linux']\n"
     ]
    },
    {
     "name": "stderr",
     "output_type": "stream",
     "text": [
      "Player RLCS Observer 2 as player has no MatchScore.\n",
      "Score is not found for player\n",
      "Ignoring player: RLCS Observer 2 as player has no team.\n",
      "Player RLCS Admin as player has no MatchScore.\n",
      "Score is not found for player\n",
      "Ignoring player: RLCS Admin as player has no team.\n",
      "Player RLCS Observer 3 as player has no MatchScore.\n",
      "Score is not found for player\n",
      "Ignoring player: RLCS Observer 3 as player has no team.\n",
      "Player RLCS Observer 1 as player has no MatchScore.\n",
      "Score is not found for player\n",
      "Ignoring player: RLCS Observer 1 as player has no team.\n",
      "Dropping these columns[('game', 'is_overtime')]\n"
     ]
    },
    {
     "name": "stdout",
     "output_type": "stream",
     "text": [
      "replays/Week 5/M4 TSM v Dig/M4G3.replay\n",
      "['rattletrap-6.3.1-osx', 'rattletrap-6.3.1-windows.exe', 'rattletrap-6.3.1-linux']\n"
     ]
    },
    {
     "name": "stderr",
     "output_type": "stream",
     "text": [
      "Player RLCS Admin as player has no MatchScore.\n",
      "Score is not found for player\n",
      "Ignoring player: RLCS Admin as player has no team.\n",
      "Player RLCS Observer 1 as player has no MatchScore.\n",
      "Score is not found for player\n",
      "Ignoring player: RLCS Observer 1 as player has no team.\n",
      "Player RLCS Observer 2 as player has no MatchScore.\n",
      "Score is not found for player\n",
      "Ignoring player: RLCS Observer 2 as player has no team.\n",
      "Player RLCS Observer 3 as player has no MatchScore.\n",
      "Score is not found for player\n",
      "Ignoring player: RLCS Observer 3 as player has no team.\n",
      "Dropping these columns[('game', 'is_overtime')]\n"
     ]
    },
    {
     "name": "stdout",
     "output_type": "stream",
     "text": [
      "replays/Week 2/M2 PSG v Dig/M2G2.replay\n",
      "['rattletrap-6.3.1-osx', 'rattletrap-6.3.1-windows.exe', 'rattletrap-6.3.1-linux']\n"
     ]
    },
    {
     "name": "stderr",
     "output_type": "stream",
     "text": [
      "Player RLCS Admin as player has no MatchScore.\n",
      "Score is not found for player\n",
      "Ignoring player: RLCS Admin as player has no team.\n",
      "Player RLCS Observer 2 as player has no MatchScore.\n",
      "Score is not found for player\n",
      "Ignoring player: RLCS Observer 2 as player has no team.\n",
      "Player RLCS Observer 1 as player has no MatchScore.\n",
      "Score is not found for player\n",
      "Ignoring player: RLCS Observer 1 as player has no team.\n",
      "Player RLCS Observer 3 as player has no MatchScore.\n",
      "Score is not found for player\n",
      "Ignoring player: RLCS Observer 3 as player has no team.\n"
     ]
    },
    {
     "name": "stdout",
     "output_type": "stream",
     "text": [
      "replays/Week 2/M2 PSG v Dig/M2G3.replay\n",
      "['rattletrap-6.3.1-osx', 'rattletrap-6.3.1-windows.exe', 'rattletrap-6.3.1-linux']\n"
     ]
    },
    {
     "name": "stderr",
     "output_type": "stream",
     "text": [
      "Player RLCS Admin as player has no MatchScore.\n",
      "Score is not found for player\n",
      "Ignoring player: RLCS Admin as player has no team.\n",
      "Player RLCS Observer 3 as player has no MatchScore.\n",
      "Score is not found for player\n",
      "Ignoring player: RLCS Observer 3 as player has no team.\n",
      "Player RLCS Observer 2 as player has no MatchScore.\n",
      "Score is not found for player\n",
      "Ignoring player: RLCS Observer 2 as player has no team.\n",
      "Player RLCS Observer 1 as player has no MatchScore.\n",
      "Score is not found for player\n",
      "Ignoring player: RLCS Observer 1 as player has no team.\n",
      "Dropping these columns[('game', 'is_overtime')]\n"
     ]
    },
    {
     "name": "stdout",
     "output_type": "stream",
     "text": [
      "replays/Week 2/M2 PSG v Dig/M2G1.replay\n",
      "['rattletrap-6.3.1-osx', 'rattletrap-6.3.1-windows.exe', 'rattletrap-6.3.1-linux']\n"
     ]
    },
    {
     "name": "stderr",
     "output_type": "stream",
     "text": [
      "Player RLCS Admin as player has no MatchScore.\n",
      "Score is not found for player\n",
      "Ignoring player: RLCS Admin as player has no team.\n",
      "Player RLCS Observer 1 as player has no MatchScore.\n",
      "Score is not found for player\n",
      "Ignoring player: RLCS Observer 1 as player has no team.\n",
      "Player RLCS Observer 3 as player has no MatchScore.\n",
      "Score is not found for player\n",
      "Ignoring player: RLCS Observer 3 as player has no team.\n",
      "Player RLCS Observer 2 as player has no MatchScore.\n",
      "Score is not found for player\n",
      "Ignoring player: RLCS Observer 2 as player has no team.\n",
      "Dropping these columns[('game', 'is_overtime')]\n"
     ]
    },
    {
     "name": "stdout",
     "output_type": "stream",
     "text": [
      "replays/Week 2/M3 TT v TSM/M3G3.replay\n",
      "['rattletrap-6.3.1-osx', 'rattletrap-6.3.1-windows.exe', 'rattletrap-6.3.1-linux']\n"
     ]
    },
    {
     "name": "stderr",
     "output_type": "stream",
     "text": [
      "Player RLCS Admin as player has no MatchScore.\n",
      "Score is not found for player\n",
      "Ignoring player: RLCS Admin as player has no team.\n",
      "Player RLCS Observer 3 as player has no MatchScore.\n",
      "Score is not found for player\n",
      "Ignoring player: RLCS Observer 3 as player has no team.\n",
      "Player RLCS Observer 2 as player has no MatchScore.\n",
      "Score is not found for player\n",
      "Ignoring player: RLCS Observer 2 as player has no team.\n",
      "Player RLCS Observer 1 as player has no MatchScore.\n",
      "Score is not found for player\n",
      "Ignoring player: RLCS Observer 1 as player has no team.\n",
      "Dropping these columns[('game', 'is_overtime')]\n",
      "Could not find hit for goal: frame_number: 220\n",
      "player_id {\n",
      "  id: \"76561198080528613\"\n",
      "}\n",
      "\n",
      "Goal is not shot: frame_number: 1219\n",
      "player_id {\n",
      "  id: \"76561198137996936\"\n",
      "}\n",
      "collision_distance: 116.76392364501953\n",
      "ball_data {\n",
      "  pos_x: -645.6699829101562\n",
      "  pos_y: -2831.89990234375\n",
      "  pos_z: 384.1700134277344\n",
      "}\n",
      "passed: true\n",
      "dribble: true\n",
      "goal: true\n",
      "assisted: true\n",
      "distance: 2878.6708984375\n",
      "distance_to_goal: 2321.63525390625\n",
      "previous_hit_frame_number: 1187\n",
      "goal_number: 1\n",
      "is_kickoff: false\n",
      "\n"
     ]
    },
    {
     "name": "stdout",
     "output_type": "stream",
     "text": [
      "replays/Week 2/M3 TT v TSM/M3G1.replay\n",
      "['rattletrap-6.3.1-osx', 'rattletrap-6.3.1-windows.exe', 'rattletrap-6.3.1-linux']\n"
     ]
    },
    {
     "name": "stderr",
     "output_type": "stream",
     "text": [
      "Player RLCS Admin as player has no MatchScore.\n",
      "Score is not found for player\n",
      "Ignoring player: RLCS Admin as player has no team.\n",
      "Player RLCS Observer 3 as player has no MatchScore.\n",
      "Score is not found for player\n",
      "Ignoring player: RLCS Observer 3 as player has no team.\n",
      "Player RLCS Observer 1 as player has no MatchScore.\n",
      "Score is not found for player\n",
      "Ignoring player: RLCS Observer 1 as player has no team.\n",
      "Player RLCS Observer 2 as player has no MatchScore.\n",
      "Score is not found for player\n",
      "Ignoring player: RLCS Observer 2 as player has no team.\n",
      "Goal is not shot: frame_number: 11366\n",
      "player_id {\n",
      "  id: \"76561198080528613\"\n",
      "}\n",
      "collision_distance: 153.30145263671875\n",
      "ball_data {\n",
      "  pos_x: 2199.449951171875\n",
      "  pos_y: -4654.10986328125\n",
      "  pos_z: 166.57000732421875\n",
      "}\n",
      "goal: true\n",
      "distance: 0.0\n",
      "distance_to_goal: 3133.352783203125\n",
      "previous_hit_frame_number: 11338\n",
      "goal_number: -1\n",
      "is_kickoff: false\n",
      "\n"
     ]
    },
    {
     "name": "stdout",
     "output_type": "stream",
     "text": [
      "replays/Week 2/M3 TT v TSM/M3G2.replay\n",
      "['rattletrap-6.3.1-osx', 'rattletrap-6.3.1-windows.exe', 'rattletrap-6.3.1-linux']\n"
     ]
    },
    {
     "name": "stderr",
     "output_type": "stream",
     "text": [
      "Player RLCS Admin as player has no MatchScore.\n",
      "Score is not found for player\n",
      "Ignoring player: RLCS Admin as player has no team.\n",
      "Player RLCS Observer 1 as player has no MatchScore.\n",
      "Score is not found for player\n",
      "Ignoring player: RLCS Observer 1 as player has no team.\n",
      "Player RLCS Observer 3 as player has no MatchScore.\n",
      "Score is not found for player\n",
      "Ignoring player: RLCS Observer 3 as player has no team.\n",
      "Player RLCS Observer 2 as player has no MatchScore.\n",
      "Score is not found for player\n",
      "Ignoring player: RLCS Observer 2 as player has no team.\n"
     ]
    },
    {
     "name": "stdout",
     "output_type": "stream",
     "text": [
      "replays/Week 2/M1 FCB v Vit/M1G1.replay\n",
      "['rattletrap-6.3.1-osx', 'rattletrap-6.3.1-windows.exe', 'rattletrap-6.3.1-linux']\n"
     ]
    },
    {
     "name": "stderr",
     "output_type": "stream",
     "text": [
      "Player RLCS Admin as player has no MatchScore.\n",
      "Score is not found for player\n",
      "Ignoring player: RLCS Admin as player has no team.\n",
      "Player RLCS Observer 1 as player has no MatchScore.\n",
      "Score is not found for player\n",
      "Ignoring player: RLCS Observer 1 as player has no team.\n",
      "Player RLCS Observer 3 as player has no MatchScore.\n",
      "Score is not found for player\n",
      "Ignoring player: RLCS Observer 3 as player has no team.\n",
      "Player RLCS Observer 2 as player has no MatchScore.\n",
      "Score is not found for player\n",
      "Ignoring player: RLCS Observer 2 as player has no team.\n",
      "Dropping these columns[('game', 'is_overtime')]\n"
     ]
    },
    {
     "name": "stdout",
     "output_type": "stream",
     "text": [
      "replays/Week 2/M1 FCB v Vit/M1G3.replay\n",
      "['rattletrap-6.3.1-osx', 'rattletrap-6.3.1-windows.exe', 'rattletrap-6.3.1-linux']\n"
     ]
    },
    {
     "name": "stderr",
     "output_type": "stream",
     "text": [
      "Player RLCS Admin as player has no MatchScore.\n",
      "Score is not found for player\n",
      "Ignoring player: RLCS Admin as player has no team.\n",
      "Player RLCS Observer 2 as player has no MatchScore.\n",
      "Score is not found for player\n",
      "Ignoring player: RLCS Observer 2 as player has no team.\n",
      "Player RLCS Observer 3 as player has no MatchScore.\n",
      "Score is not found for player\n",
      "Ignoring player: RLCS Observer 3 as player has no team.\n",
      "Player RLCS Observer 1 as player has no MatchScore.\n",
      "Score is not found for player\n",
      "Ignoring player: RLCS Observer 1 as player has no team.\n",
      "Dropping these columns[('game', 'is_overtime')]\n"
     ]
    },
    {
     "name": "stdout",
     "output_type": "stream",
     "text": [
      "replays/Week 2/M1 FCB v Vit/M1G2.replay\n",
      "['rattletrap-6.3.1-osx', 'rattletrap-6.3.1-windows.exe', 'rattletrap-6.3.1-linux']\n"
     ]
    },
    {
     "name": "stderr",
     "output_type": "stream",
     "text": [
      "Player RLCS Admin as player has no MatchScore.\n",
      "Score is not found for player\n",
      "Ignoring player: RLCS Admin as player has no team.\n",
      "Player RLCS Observer 1 as player has no MatchScore.\n",
      "Score is not found for player\n",
      "Ignoring player: RLCS Observer 1 as player has no team.\n",
      "Player RLCS Observer 2 as player has no MatchScore.\n",
      "Score is not found for player\n",
      "Ignoring player: RLCS Observer 2 as player has no team.\n",
      "Player RLCS Observer 3 as player has no MatchScore.\n",
      "Score is not found for player\n",
      "Ignoring player: RLCS Observer 3 as player has no team.\n",
      "Dropping these columns[('game', 'is_overtime')]\n"
     ]
    },
    {
     "name": "stdout",
     "output_type": "stream",
     "text": [
      "replays/Week 2/M1 G2 v Rogue/M1G1.replay\n",
      "['rattletrap-6.3.1-osx', 'rattletrap-6.3.1-windows.exe', 'rattletrap-6.3.1-linux']\n"
     ]
    },
    {
     "name": "stderr",
     "output_type": "stream",
     "text": [
      "Player RLCS Admin as player has no MatchScore.\n",
      "Score is not found for player\n",
      "Ignoring player: RLCS Admin as player has no team.\n",
      "Player RLCS Observer 2 as player has no MatchScore.\n",
      "Score is not found for player\n",
      "Ignoring player: RLCS Observer 2 as player has no team.\n",
      "Player RLCS Observer 1 as player has no MatchScore.\n",
      "Score is not found for player\n",
      "Ignoring player: RLCS Observer 1 as player has no team.\n",
      "Player RLCS Observer 3 as player has no MatchScore.\n",
      "Score is not found for player\n",
      "Ignoring player: RLCS Observer 3 as player has no team.\n",
      "Dropping these columns[('game', 'is_overtime')]\n"
     ]
    },
    {
     "name": "stdout",
     "output_type": "stream",
     "text": [
      "replays/Week 2/M1 G2 v Rogue/M1G3.replay\n",
      "['rattletrap-6.3.1-osx', 'rattletrap-6.3.1-windows.exe', 'rattletrap-6.3.1-linux']\n"
     ]
    },
    {
     "name": "stderr",
     "output_type": "stream",
     "text": [
      "Player RLCS Admin as player has no MatchScore.\n",
      "Score is not found for player\n",
      "Ignoring player: RLCS Admin as player has no team.\n",
      "Player RLCS Observer 2 as player has no MatchScore.\n",
      "Score is not found for player\n",
      "Ignoring player: RLCS Observer 2 as player has no team.\n",
      "Player RLCS Observer 3 as player has no MatchScore.\n",
      "Score is not found for player\n",
      "Ignoring player: RLCS Observer 3 as player has no team.\n",
      "Player RLCS Observer 1 as player has no MatchScore.\n",
      "Score is not found for player\n",
      "Ignoring player: RLCS Observer 1 as player has no team.\n",
      "Dropping these columns[('game', 'is_overtime')]\n"
     ]
    },
    {
     "name": "stdout",
     "output_type": "stream",
     "text": [
      "replays/Week 2/M1 G2 v Rogue/M1G5.replay\n",
      "['rattletrap-6.3.1-osx', 'rattletrap-6.3.1-windows.exe', 'rattletrap-6.3.1-linux']\n"
     ]
    },
    {
     "name": "stderr",
     "output_type": "stream",
     "text": [
      "Player RLCS Admin as player has no MatchScore.\n",
      "Score is not found for player\n",
      "Ignoring player: RLCS Admin as player has no team.\n",
      "Player RLCS Observer 2 as player has no MatchScore.\n",
      "Score is not found for player\n",
      "Ignoring player: RLCS Observer 2 as player has no team.\n",
      "Player RLCS Observer 3 as player has no MatchScore.\n",
      "Score is not found for player\n",
      "Ignoring player: RLCS Observer 3 as player has no team.\n",
      "Player RLCS Observer 1 as player has no MatchScore.\n",
      "Score is not found for player\n",
      "Ignoring player: RLCS Observer 1 as player has no team.\n"
     ]
    },
    {
     "name": "stdout",
     "output_type": "stream",
     "text": [
      "replays/Week 2/M1 G2 v Rogue/M1G4.replay\n",
      "['rattletrap-6.3.1-osx', 'rattletrap-6.3.1-windows.exe', 'rattletrap-6.3.1-linux']\n"
     ]
    },
    {
     "name": "stderr",
     "output_type": "stream",
     "text": [
      "Player RLCS Admin as player has no MatchScore.\n",
      "Score is not found for player\n",
      "Ignoring player: RLCS Admin as player has no team.\n",
      "Player RLCS Observer 3 as player has no MatchScore.\n",
      "Score is not found for player\n",
      "Ignoring player: RLCS Observer 3 as player has no team.\n",
      "Player RLCS Observer 2 as player has no MatchScore.\n",
      "Score is not found for player\n",
      "Ignoring player: RLCS Observer 2 as player has no team.\n",
      "Player RLCS Observer 1 as player has no MatchScore.\n",
      "Score is not found for player\n",
      "Ignoring player: RLCS Observer 1 as player has no team.\n",
      "Dropping these columns[('game', 'is_overtime')]\n"
     ]
    },
    {
     "name": "stdout",
     "output_type": "stream",
     "text": [
      "replays/Week 2/M1 G2 v Rogue/M1G2.replay\n",
      "['rattletrap-6.3.1-osx', 'rattletrap-6.3.1-windows.exe', 'rattletrap-6.3.1-linux']\n"
     ]
    },
    {
     "name": "stderr",
     "output_type": "stream",
     "text": [
      "Player RLCS Admin as player has no MatchScore.\n",
      "Score is not found for player\n",
      "Ignoring player: RLCS Admin as player has no team.\n",
      "Player RLCS Observer 3 as player has no MatchScore.\n",
      "Score is not found for player\n",
      "Ignoring player: RLCS Observer 3 as player has no team.\n",
      "Player RLCS Observer 2 as player has no MatchScore.\n",
      "Score is not found for player\n",
      "Ignoring player: RLCS Observer 2 as player has no team.\n",
      "Player RLCS Observer 1 as player has no MatchScore.\n",
      "Score is not found for player\n",
      "Ignoring player: RLCS Observer 1 as player has no team.\n",
      "Dropping these columns[('game', 'is_overtime')]\n"
     ]
    },
    {
     "name": "stdout",
     "output_type": "stream",
     "text": [
      "replays/Week 2/M4 Bricks v Mouz/M4G1.replay\n",
      "['rattletrap-6.3.1-osx', 'rattletrap-6.3.1-windows.exe', 'rattletrap-6.3.1-linux']\n"
     ]
    },
    {
     "name": "stderr",
     "output_type": "stream",
     "text": [
      "Player RLCS Admin as player has no MatchScore.\n",
      "Score is not found for player\n",
      "Ignoring player: RLCS Admin as player has no team.\n",
      "Player RLCS Observer 1 as player has no MatchScore.\n",
      "Score is not found for player\n",
      "Ignoring player: RLCS Observer 1 as player has no team.\n",
      "Player RLCS Observer 2 as player has no MatchScore.\n",
      "Score is not found for player\n",
      "Ignoring player: RLCS Observer 2 as player has no team.\n",
      "Player RLCS Observer 3 as player has no MatchScore.\n",
      "Score is not found for player\n",
      "Ignoring player: RLCS Observer 3 as player has no team.\n"
     ]
    },
    {
     "name": "stdout",
     "output_type": "stream",
     "text": [
      "replays/Week 2/M4 Bricks v Mouz/M4G2.replay\n",
      "['rattletrap-6.3.1-osx', 'rattletrap-6.3.1-windows.exe', 'rattletrap-6.3.1-linux']\n"
     ]
    },
    {
     "name": "stderr",
     "output_type": "stream",
     "text": [
      "Player RLCS Admin as player has no MatchScore.\n",
      "Score is not found for player\n",
      "Ignoring player: RLCS Admin as player has no team.\n",
      "Player RLCS Observer 3 as player has no MatchScore.\n",
      "Score is not found for player\n",
      "Ignoring player: RLCS Observer 3 as player has no team.\n",
      "Player RLCS Observer 2 as player has no MatchScore.\n",
      "Score is not found for player\n",
      "Ignoring player: RLCS Observer 2 as player has no team.\n",
      "Player RLCS Observer 1 as player has no MatchScore.\n",
      "Score is not found for player\n",
      "Ignoring player: RLCS Observer 1 as player has no team.\n",
      "Dropping these columns[('game', 'is_overtime')]\n",
      "Goal is not shot: frame_number: 4342\n",
      "player_id {\n",
      "  id: \"76561198404180097\"\n",
      "}\n",
      "collision_distance: 126.29612731933594\n",
      "ball_data {\n",
      "  pos_x: 517.8599853515625\n",
      "  pos_y: 3719.050048828125\n",
      "  pos_z: 104.94999694824219\n",
      "}\n",
      "passed: true\n",
      "dribble: true\n",
      "goal: true\n",
      "assisted: true\n",
      "distance: 3723.34228515625\n",
      "distance_to_goal: 2004.5196533203125\n",
      "previous_hit_frame_number: 4293\n",
      "goal_number: 2\n",
      "is_kickoff: false\n",
      "\n"
     ]
    },
    {
     "name": "stdout",
     "output_type": "stream",
     "text": [
      "replays/Week 2/M4 Bricks v Mouz/M4G5.replay\n",
      "['rattletrap-6.3.1-osx', 'rattletrap-6.3.1-windows.exe', 'rattletrap-6.3.1-linux']\n"
     ]
    },
    {
     "name": "stderr",
     "output_type": "stream",
     "text": [
      "Player RLCS Admin as player has no MatchScore.\n",
      "Score is not found for player\n",
      "Ignoring player: RLCS Admin as player has no team.\n",
      "Player RLCS Observer 3 as player has no MatchScore.\n",
      "Score is not found for player\n",
      "Ignoring player: RLCS Observer 3 as player has no team.\n",
      "Player RLCS Observer 1 as player has no MatchScore.\n",
      "Score is not found for player\n",
      "Ignoring player: RLCS Observer 1 as player has no team.\n",
      "Player RLCS Observer 2 as player has no MatchScore.\n",
      "Score is not found for player\n",
      "Ignoring player: RLCS Observer 2 as player has no team.\n"
     ]
    },
    {
     "name": "stdout",
     "output_type": "stream",
     "text": [
      "replays/Week 2/M4 Bricks v Mouz/M4G4.replay\n",
      "['rattletrap-6.3.1-osx', 'rattletrap-6.3.1-windows.exe', 'rattletrap-6.3.1-linux']\n"
     ]
    },
    {
     "name": "stderr",
     "output_type": "stream",
     "text": [
      "Player RLCS Admin as player has no MatchScore.\n",
      "Score is not found for player\n",
      "Ignoring player: RLCS Admin as player has no team.\n",
      "Player RLCS Observer 2 as player has no MatchScore.\n",
      "Score is not found for player\n",
      "Ignoring player: RLCS Observer 2 as player has no team.\n",
      "Could not find field_of_view in camera settings for kuxir97\n",
      "Could not find height in camera settings for kuxir97\n",
      "Could not find pitch in camera settings for kuxir97\n",
      "Could not find distance in camera settings for kuxir97\n",
      "Could not find stiffness in camera settings for kuxir97\n",
      "Could not find swivel_speed in camera settings for kuxir97\n",
      "Could not find transition_speed in camera settings for kuxir97\n",
      "Player RLCS Observer 1 as player has no MatchScore.\n",
      "Score is not found for player\n",
      "Ignoring player: RLCS Observer 1 as player has no team.\n",
      "Player RLCS Observer 3 as player has no MatchScore.\n",
      "Score is not found for player\n",
      "Ignoring player: RLCS Observer 3 as player has no team.\n",
      "Dropping these columns[('game', 'is_overtime')]\n"
     ]
    },
    {
     "name": "stdout",
     "output_type": "stream",
     "text": [
      "replays/Week 2/M4 Bricks v Mouz/M4G3.replay\n",
      "['rattletrap-6.3.1-osx', 'rattletrap-6.3.1-windows.exe', 'rattletrap-6.3.1-linux']\n"
     ]
    },
    {
     "name": "stderr",
     "output_type": "stream",
     "text": [
      "Player RLCS Admin as player has no MatchScore.\n",
      "Score is not found for player\n",
      "Ignoring player: RLCS Admin as player has no team.\n",
      "Player RLCS Observer 1 as player has no MatchScore.\n",
      "Score is not found for player\n",
      "Ignoring player: RLCS Observer 1 as player has no team.\n",
      "Player RLCS Observer 3 as player has no MatchScore.\n",
      "Score is not found for player\n",
      "Ignoring player: RLCS Observer 3 as player has no team.\n",
      "Player RLCS Observer 2 as player has no MatchScore.\n",
      "Score is not found for player\n",
      "Ignoring player: RLCS Observer 2 as player has no team.\n",
      "Dropping these columns[('game', 'is_overtime')]\n"
     ]
    },
    {
     "name": "stdout",
     "output_type": "stream",
     "text": [
      "replays/Week 2/M4 Splyce v NRG/M4G1.replay\n",
      "['rattletrap-6.3.1-osx', 'rattletrap-6.3.1-windows.exe', 'rattletrap-6.3.1-linux']\n"
     ]
    },
    {
     "name": "stderr",
     "output_type": "stream",
     "text": [
      "Player RLCS Admin as player has no MatchScore.\n",
      "Score is not found for player\n",
      "Ignoring player: RLCS Admin as player has no team.\n",
      "Player RLCS Observer 2 as player has no MatchScore.\n",
      "Score is not found for player\n",
      "Ignoring player: RLCS Observer 2 as player has no team.\n",
      "Player RLCS Observer 1 as player has no MatchScore.\n",
      "Score is not found for player\n",
      "Ignoring player: RLCS Observer 1 as player has no team.\n",
      "Player RLCS Observer 3 as player has no MatchScore.\n",
      "Score is not found for player\n",
      "Ignoring player: RLCS Observer 3 as player has no team.\n",
      "Dropping these columns[('game', 'is_overtime')]\n",
      "Goal is not shot: frame_number: 4886\n",
      "player_id {\n",
      "  id: \"76561198136523266\"\n",
      "}\n",
      "collision_distance: 250.73544311523438\n",
      "ball_data {\n",
      "  pos_x: -1698.81005859375\n",
      "  pos_y: 1396.449951171875\n",
      "  pos_z: 1447.5999755859375\n",
      "}\n",
      "pass_: true\n",
      "passed: true\n",
      "goal: true\n",
      "assisted: true\n",
      "aerial: true\n",
      "distance: 2571.28125\n",
      "distance_to_goal: 3828.664306640625\n",
      "previous_hit_frame_number: 4817\n",
      "goal_number: 2\n",
      "is_kickoff: false\n",
      "\n"
     ]
    },
    {
     "name": "stdout",
     "output_type": "stream",
     "text": [
      "replays/Week 2/M4 Splyce v NRG/M4G2.replay\n",
      "['rattletrap-6.3.1-osx', 'rattletrap-6.3.1-windows.exe', 'rattletrap-6.3.1-linux']\n"
     ]
    },
    {
     "name": "stderr",
     "output_type": "stream",
     "text": [
      "Player RLCS Admin as player has no MatchScore.\n",
      "Score is not found for player\n",
      "Ignoring player: RLCS Admin as player has no team.\n",
      "Player RLCS Observer 1 as player has no MatchScore.\n",
      "Score is not found for player\n",
      "Ignoring player: RLCS Observer 1 as player has no team.\n",
      "Player RLCS Observer 2 as player has no MatchScore.\n",
      "Score is not found for player\n",
      "Ignoring player: RLCS Observer 2 as player has no team.\n",
      "Player RLCS Observer 3 as player has no MatchScore.\n",
      "Score is not found for player\n",
      "Ignoring player: RLCS Observer 3 as player has no team.\n",
      "Dropping these columns[('game', 'is_overtime')]\n",
      "Goal is not shot: frame_number: 4662\n",
      "player_id {\n",
      "  id: \"76561198015727607\"\n",
      "}\n",
      "collision_distance: 116.58496856689453\n",
      "ball_data {\n",
      "  pos_x: -1348.280029296875\n",
      "  pos_y: 1191.8699951171875\n",
      "  pos_z: 211.13999938964844\n",
      "}\n",
      "pass_: true\n",
      "dribble_continuation: true\n",
      "goal: true\n",
      "distance: 185.81289672851562\n",
      "distance_to_goal: 6348.00244140625\n",
      "previous_hit_frame_number: 4586\n",
      "next_hit_frame_number: 4663\n",
      "goal_number: 2\n",
      "is_kickoff: false\n",
      "\n",
      "Goal is not shot: frame_number: 5515\n",
      "player_id {\n",
      "  id: \"76561198136523266\"\n",
      "}\n",
      "collision_distance: 140.7062530517578\n",
      "ball_data {\n",
      "  pos_x: 502.44000244140625\n",
      "  pos_y: 3272.8701171875\n",
      "  pos_z: 110.52999877929688\n",
      "}\n",
      "passed: true\n",
      "goal: true\n",
      "assisted: true\n",
      "distance: 3343.13525390625\n",
      "distance_to_goal: 2332.7685546875\n",
      "previous_hit_frame_number: 5471\n",
      "goal_number: 3\n",
      "is_kickoff: false\n",
      "\n"
     ]
    },
    {
     "name": "stdout",
     "output_type": "stream",
     "text": [
      "replays/Week 2/M4 Splyce v NRG/M4G3.replay\n",
      "['rattletrap-6.3.1-osx', 'rattletrap-6.3.1-windows.exe', 'rattletrap-6.3.1-linux']\n"
     ]
    },
    {
     "name": "stderr",
     "output_type": "stream",
     "text": [
      "Player RLCS Admin as player has no MatchScore.\n",
      "Score is not found for player\n",
      "Ignoring player: RLCS Admin as player has no team.\n",
      "Player RLCS Observer 1 as player has no MatchScore.\n",
      "Score is not found for player\n",
      "Ignoring player: RLCS Observer 1 as player has no team.\n",
      "Player RLCS Observer 3 as player has no MatchScore.\n",
      "Score is not found for player\n",
      "Ignoring player: RLCS Observer 3 as player has no team.\n",
      "Player RLCS Observer 2 as player has no MatchScore.\n",
      "Score is not found for player\n",
      "Ignoring player: RLCS Observer 2 as player has no team.\n",
      "Dropping these columns[('game', 'is_overtime')]\n"
     ]
    },
    {
     "name": "stdout",
     "output_type": "stream",
     "text": [
      "replays/Week 2/M5 G2 v EG/M5G4.replay\n",
      "['rattletrap-6.3.1-osx', 'rattletrap-6.3.1-windows.exe', 'rattletrap-6.3.1-linux']\n"
     ]
    },
    {
     "name": "stderr",
     "output_type": "stream",
     "text": [
      "Player RLCS Admin as player has no MatchScore.\n",
      "Score is not found for player\n",
      "Ignoring player: RLCS Admin as player has no team.\n",
      "Player RLCS Observer 2 as player has no MatchScore.\n",
      "Score is not found for player\n",
      "Ignoring player: RLCS Observer 2 as player has no team.\n",
      "Player RLCS Observer 1 as player has no MatchScore.\n",
      "Score is not found for player\n",
      "Ignoring player: RLCS Observer 1 as player has no team.\n",
      "Player RLCS Observer 3 as player has no MatchScore.\n",
      "Score is not found for player\n",
      "Ignoring player: RLCS Observer 3 as player has no team.\n"
     ]
    },
    {
     "name": "stdout",
     "output_type": "stream",
     "text": [
      "replays/Week 2/M5 G2 v EG/M5G2.replay\n",
      "['rattletrap-6.3.1-osx', 'rattletrap-6.3.1-windows.exe', 'rattletrap-6.3.1-linux']\n"
     ]
    },
    {
     "name": "stderr",
     "output_type": "stream",
     "text": [
      "Player RLCS Admin as player has no MatchScore.\n",
      "Score is not found for player\n",
      "Ignoring player: RLCS Admin as player has no team.\n",
      "Player RLCS Observer 1 as player has no MatchScore.\n",
      "Score is not found for player\n",
      "Ignoring player: RLCS Observer 1 as player has no team.\n",
      "Player RLCS Observer 3 as player has no MatchScore.\n",
      "Score is not found for player\n",
      "Ignoring player: RLCS Observer 3 as player has no team.\n",
      "Player RLCS Observer 2 as player has no MatchScore.\n",
      "Score is not found for player\n",
      "Ignoring player: RLCS Observer 2 as player has no team.\n",
      "Dropping these columns[('game', 'is_overtime')]\n"
     ]
    },
    {
     "name": "stdout",
     "output_type": "stream",
     "text": [
      "replays/Week 2/M5 G2 v EG/M5G3.replay\n",
      "['rattletrap-6.3.1-osx', 'rattletrap-6.3.1-windows.exe', 'rattletrap-6.3.1-linux']\n"
     ]
    },
    {
     "name": "stderr",
     "output_type": "stream",
     "text": [
      "Player RLCS Admin as player has no MatchScore.\n",
      "Score is not found for player\n",
      "Ignoring player: RLCS Admin as player has no team.\n",
      "Player RLCS Observer 2 as player has no MatchScore.\n",
      "Score is not found for player\n",
      "Ignoring player: RLCS Observer 2 as player has no team.\n",
      "Player RLCS Observer 1 as player has no MatchScore.\n",
      "Score is not found for player\n",
      "Ignoring player: RLCS Observer 1 as player has no team.\n",
      "Player RLCS Observer 3 as player has no MatchScore.\n",
      "Score is not found for player\n",
      "Ignoring player: RLCS Observer 3 as player has no team.\n",
      "Dropping these columns[('game', 'is_overtime')]\n"
     ]
    },
    {
     "name": "stdout",
     "output_type": "stream",
     "text": [
      "replays/Week 2/M5 G2 v EG/M5G1.replay\n",
      "['rattletrap-6.3.1-osx', 'rattletrap-6.3.1-windows.exe', 'rattletrap-6.3.1-linux']\n"
     ]
    },
    {
     "name": "stderr",
     "output_type": "stream",
     "text": [
      "Player RLCS Admin as player has no MatchScore.\n",
      "Score is not found for player\n",
      "Ignoring player: RLCS Admin as player has no team.\n",
      "Player RLCS Observer 2 as player has no MatchScore.\n",
      "Score is not found for player\n",
      "Ignoring player: RLCS Observer 2 as player has no team.\n",
      "Player RLCS Observer 1 as player has no MatchScore.\n",
      "Score is not found for player\n",
      "Ignoring player: RLCS Observer 1 as player has no team.\n",
      "Player RLCS Observer 3 as player has no MatchScore.\n",
      "Score is not found for player\n",
      "Ignoring player: RLCS Observer 3 as player has no team.\n",
      "Dropping these columns[('game', 'is_overtime')]\n"
     ]
    },
    {
     "name": "stdout",
     "output_type": "stream",
     "text": [
      "replays/Week 2/M3 Space v EG/M3G3.replay\n",
      "['rattletrap-6.3.1-osx', 'rattletrap-6.3.1-windows.exe', 'rattletrap-6.3.1-linux']\n"
     ]
    },
    {
     "name": "stderr",
     "output_type": "stream",
     "text": [
      "Player RLCS Admin as player has no MatchScore.\n",
      "Score is not found for player\n",
      "Ignoring player: RLCS Admin as player has no team.\n",
      "Player RLCS Observer 1 as player has no MatchScore.\n",
      "Score is not found for player\n",
      "Ignoring player: RLCS Observer 1 as player has no team.\n",
      "Player RLCS Observer 3 as player has no MatchScore.\n",
      "Score is not found for player\n",
      "Ignoring player: RLCS Observer 3 as player has no team.\n",
      "Player RLCS Observer 2 as player has no MatchScore.\n",
      "Score is not found for player\n",
      "Ignoring player: RLCS Observer 2 as player has no team.\n"
     ]
    },
    {
     "name": "stdout",
     "output_type": "stream",
     "text": [
      "replays/Week 2/M3 Space v EG/M3G1.replay\n",
      "['rattletrap-6.3.1-osx', 'rattletrap-6.3.1-windows.exe', 'rattletrap-6.3.1-linux']\n"
     ]
    },
    {
     "name": "stderr",
     "output_type": "stream",
     "text": [
      "Player RLCS Admin as player has no MatchScore.\n",
      "Score is not found for player\n",
      "Ignoring player: RLCS Admin as player has no team.\n",
      "Player RLCS Observer 2 as player has no MatchScore.\n",
      "Score is not found for player\n",
      "Ignoring player: RLCS Observer 2 as player has no team.\n",
      "Player RLCS Observer 1 as player has no MatchScore.\n",
      "Score is not found for player\n",
      "Ignoring player: RLCS Observer 1 as player has no team.\n",
      "Player RLCS Observer 3 as player has no MatchScore.\n",
      "Score is not found for player\n",
      "Ignoring player: RLCS Observer 3 as player has no team.\n",
      "Dropping these columns[('game', 'is_overtime')]\n"
     ]
    },
    {
     "name": "stdout",
     "output_type": "stream",
     "text": [
      "replays/Week 2/M3 Space v EG/M3G2.replay\n",
      "['rattletrap-6.3.1-osx', 'rattletrap-6.3.1-windows.exe', 'rattletrap-6.3.1-linux']\n"
     ]
    },
    {
     "name": "stderr",
     "output_type": "stream",
     "text": [
      "Player RLCS Admin as player has no MatchScore.\n",
      "Score is not found for player\n",
      "Ignoring player: RLCS Admin as player has no team.\n",
      "Player RLCS Observer 1 as player has no MatchScore.\n",
      "Score is not found for player\n",
      "Ignoring player: RLCS Observer 1 as player has no team.\n",
      "Player RLCS Observer 2 as player has no MatchScore.\n",
      "Score is not found for player\n",
      "Ignoring player: RLCS Observer 2 as player has no team.\n",
      "Player RLCS Observer 3 as player has no MatchScore.\n",
      "Score is not found for player\n",
      "Ignoring player: RLCS Observer 3 as player has no team.\n"
     ]
    },
    {
     "name": "stdout",
     "output_type": "stream",
     "text": [
      "replays/Week 2/M5 Dig v Vit/M5G2.replay\n",
      "['rattletrap-6.3.1-osx', 'rattletrap-6.3.1-windows.exe', 'rattletrap-6.3.1-linux']\n"
     ]
    },
    {
     "name": "stderr",
     "output_type": "stream",
     "text": [
      "Player RLCS Observer 1 as player has no MatchScore.\n",
      "Score is not found for player\n",
      "Ignoring player: RLCS Observer 1 as player has no team.\n",
      "Player RLCS Admin as player has no MatchScore.\n",
      "Score is not found for player\n",
      "Ignoring player: RLCS Admin as player has no team.\n",
      "Player RLCS Observer 3 as player has no MatchScore.\n",
      "Score is not found for player\n",
      "Ignoring player: RLCS Observer 3 as player has no team.\n",
      "Player RLCS Observer 2 as player has no MatchScore.\n",
      "Score is not found for player\n",
      "Ignoring player: RLCS Observer 2 as player has no team.\n",
      "Dropping these columns[('game', 'is_overtime')]\n"
     ]
    },
    {
     "name": "stdout",
     "output_type": "stream",
     "text": [
      "replays/Week 2/M5 Dig v Vit/M5G3.replay\n",
      "['rattletrap-6.3.1-osx', 'rattletrap-6.3.1-windows.exe', 'rattletrap-6.3.1-linux']\n"
     ]
    },
    {
     "name": "stderr",
     "output_type": "stream",
     "text": [
      "Player RLCS Admin as player has no MatchScore.\n",
      "Score is not found for player\n",
      "Ignoring player: RLCS Admin as player has no team.\n",
      "Player RLCS Observer 3 as player has no MatchScore.\n",
      "Score is not found for player\n",
      "Ignoring player: RLCS Observer 3 as player has no team.\n",
      "Player RLCS Observer 2 as player has no MatchScore.\n",
      "Score is not found for player\n",
      "Ignoring player: RLCS Observer 2 as player has no team.\n",
      "Player RLCS Observer 1 as player has no MatchScore.\n",
      "Score is not found for player\n",
      "Ignoring player: RLCS Observer 1 as player has no team.\n"
     ]
    },
    {
     "name": "stdout",
     "output_type": "stream",
     "text": [
      "replays/Week 2/M5 Dig v Vit/M5G1.replay\n",
      "['rattletrap-6.3.1-osx', 'rattletrap-6.3.1-windows.exe', 'rattletrap-6.3.1-linux']\n"
     ]
    },
    {
     "name": "stderr",
     "output_type": "stream",
     "text": [
      "Player RLCS Admin as player has no MatchScore.\n",
      "Score is not found for player\n",
      "Ignoring player: RLCS Admin as player has no team.\n",
      "Player RLCS Observer 3 as player has no MatchScore.\n",
      "Score is not found for player\n",
      "Ignoring player: RLCS Observer 3 as player has no team.\n",
      "Player RLCS Observer 1 as player has no MatchScore.\n",
      "Score is not found for player\n",
      "Ignoring player: RLCS Observer 1 as player has no team.\n",
      "Player RLCS Observer 2 as player has no MatchScore.\n",
      "Score is not found for player\n",
      "Ignoring player: RLCS Observer 2 as player has no team.\n",
      "Dropping these columns[('game', 'is_overtime')]\n"
     ]
    },
    {
     "name": "stdout",
     "output_type": "stream",
     "text": [
      "replays/Week 2/M2 Ghost v C9/M2G2.replay\n",
      "['rattletrap-6.3.1-osx', 'rattletrap-6.3.1-windows.exe', 'rattletrap-6.3.1-linux']\n"
     ]
    },
    {
     "name": "stderr",
     "output_type": "stream",
     "text": [
      "Player RLCS Admin as player has no MatchScore.\n",
      "Score is not found for player\n",
      "Ignoring player: RLCS Admin as player has no team.\n",
      "Player RLCS Observer 1 as player has no MatchScore.\n",
      "Score is not found for player\n",
      "Ignoring player: RLCS Observer 1 as player has no team.\n",
      "Player RLCS Observer 3 as player has no MatchScore.\n",
      "Score is not found for player\n",
      "Ignoring player: RLCS Observer 3 as player has no team.\n",
      "Player RLCS Observer 2 as player has no MatchScore.\n",
      "Score is not found for player\n",
      "Ignoring player: RLCS Observer 2 as player has no team.\n",
      "Dropping these columns[('game', 'is_overtime')]\n"
     ]
    },
    {
     "name": "stdout",
     "output_type": "stream",
     "text": [
      "replays/Week 2/M2 Ghost v C9/M2G3.replay\n",
      "['rattletrap-6.3.1-osx', 'rattletrap-6.3.1-windows.exe', 'rattletrap-6.3.1-linux']\n"
     ]
    },
    {
     "name": "stderr",
     "output_type": "stream",
     "text": [
      "Player RLCS Admin as player has no MatchScore.\n",
      "Score is not found for player\n",
      "Ignoring player: RLCS Admin as player has no team.\n",
      "Player RLCS Observer 3 as player has no MatchScore.\n",
      "Score is not found for player\n",
      "Ignoring player: RLCS Observer 3 as player has no team.\n",
      "Player RLCS Observer 1 as player has no MatchScore.\n",
      "Score is not found for player\n",
      "Ignoring player: RLCS Observer 1 as player has no team.\n",
      "Player RLCS Observer 2 as player has no MatchScore.\n",
      "Score is not found for player\n",
      "Ignoring player: RLCS Observer 2 as player has no team.\n",
      "Dropping these columns[('game', 'is_overtime')]\n"
     ]
    },
    {
     "name": "stdout",
     "output_type": "stream",
     "text": [
      "replays/Week 2/M2 Ghost v C9/M2G1.replay\n",
      "['rattletrap-6.3.1-osx', 'rattletrap-6.3.1-windows.exe', 'rattletrap-6.3.1-linux']\n"
     ]
    },
    {
     "name": "stderr",
     "output_type": "stream",
     "text": [
      "Player RLCS Admin as player has no MatchScore.\n",
      "Score is not found for player\n",
      "Ignoring player: RLCS Admin as player has no team.\n",
      "Player RLCS Observer 1 as player has no MatchScore.\n",
      "Score is not found for player\n",
      "Ignoring player: RLCS Observer 1 as player has no team.\n",
      "Player RLCS Observer 2 as player has no MatchScore.\n",
      "Score is not found for player\n",
      "Ignoring player: RLCS Observer 2 as player has no team.\n",
      "Player RLCS Observer 3 as player has no MatchScore.\n",
      "Score is not found for player\n",
      "Ignoring player: RLCS Observer 3 as player has no team.\n",
      "Player RLCS Observer 3 as player has no MatchScore.\n",
      "Score is not found for player\n",
      "Ignoring player: RLCS Observer 3 as player has no team.\n",
      "Dropping these columns[('game', 'is_overtime')]\n"
     ]
    },
    {
     "name": "stdout",
     "output_type": "stream",
     "text": [
      "replays/Week 3/M5 PSG v Bricks/M5G4.replay\n",
      "['rattletrap-6.3.1-osx', 'rattletrap-6.3.1-windows.exe', 'rattletrap-6.3.1-linux']\n"
     ]
    },
    {
     "name": "stderr",
     "output_type": "stream",
     "text": [
      "Player RLCS Observer 2 as player has no MatchScore.\n",
      "Score is not found for player\n",
      "Ignoring player: RLCS Observer 2 as player has no team.\n",
      "Player RLCS Admin as player has no MatchScore.\n",
      "Score is not found for player\n",
      "Ignoring player: RLCS Admin as player has no team.\n",
      "Player RLCS Observer 3 as player has no MatchScore.\n",
      "Score is not found for player\n",
      "Ignoring player: RLCS Observer 3 as player has no team.\n",
      "Player RLCS Observer 1 as player has no MatchScore.\n",
      "Score is not found for player\n",
      "Ignoring player: RLCS Observer 1 as player has no team.\n",
      "Could not find field_of_view in camera settings for kuxir97\n",
      "Could not find height in camera settings for kuxir97\n",
      "Could not find pitch in camera settings for kuxir97\n",
      "Could not find distance in camera settings for kuxir97\n",
      "Could not find stiffness in camera settings for kuxir97\n",
      "Could not find swivel_speed in camera settings for kuxir97\n",
      "Could not find transition_speed in camera settings for kuxir97\n",
      "Dropping these columns[('game', 'is_overtime')]\n"
     ]
    },
    {
     "name": "stdout",
     "output_type": "stream",
     "text": [
      "replays/Week 3/M5 PSG v Bricks/M5G2.replay\n",
      "['rattletrap-6.3.1-osx', 'rattletrap-6.3.1-windows.exe', 'rattletrap-6.3.1-linux']\n"
     ]
    },
    {
     "name": "stderr",
     "output_type": "stream",
     "text": [
      "Player RLCS Admin as player has no MatchScore.\n",
      "Score is not found for player\n",
      "Ignoring player: RLCS Admin as player has no team.\n",
      "Player RLCS Observer 1 as player has no MatchScore.\n",
      "Score is not found for player\n",
      "Ignoring player: RLCS Observer 1 as player has no team.\n",
      "Player RLCS Observer 2 as player has no MatchScore.\n",
      "Score is not found for player\n",
      "Ignoring player: RLCS Observer 2 as player has no team.\n",
      "Player RLCS Observer 3 as player has no MatchScore.\n",
      "Score is not found for player\n",
      "Ignoring player: RLCS Observer 3 as player has no team.\n"
     ]
    },
    {
     "name": "stdout",
     "output_type": "stream",
     "text": [
      "replays/Week 3/M5 PSG v Bricks/M5G5.replay\n",
      "['rattletrap-6.3.1-osx', 'rattletrap-6.3.1-windows.exe', 'rattletrap-6.3.1-linux']\n"
     ]
    },
    {
     "name": "stderr",
     "output_type": "stream",
     "text": [
      "Player RLCS Admin as player has no MatchScore.\n",
      "Score is not found for player\n",
      "Ignoring player: RLCS Admin as player has no team.\n",
      "Player RLCS Observer 3 as player has no MatchScore.\n",
      "Score is not found for player\n",
      "Ignoring player: RLCS Observer 3 as player has no team.\n",
      "Player RLCS Observer 2 as player has no MatchScore.\n",
      "Score is not found for player\n",
      "Ignoring player: RLCS Observer 2 as player has no team.\n",
      "Player RLCS Observer 1 as player has no MatchScore.\n",
      "Score is not found for player\n",
      "Ignoring player: RLCS Observer 1 as player has no team.\n",
      "Dropping these columns[('game', 'is_overtime')]\n"
     ]
    },
    {
     "name": "stdout",
     "output_type": "stream",
     "text": [
      "replays/Week 3/M5 PSG v Bricks/M5G3.replay\n",
      "['rattletrap-6.3.1-osx', 'rattletrap-6.3.1-windows.exe', 'rattletrap-6.3.1-linux']\n"
     ]
    },
    {
     "name": "stderr",
     "output_type": "stream",
     "text": [
      "Player RLCS Admin as player has no MatchScore.\n",
      "Score is not found for player\n",
      "Ignoring player: RLCS Admin as player has no team.\n",
      "Player RLCS Observer 2 as player has no MatchScore.\n",
      "Score is not found for player\n",
      "Ignoring player: RLCS Observer 2 as player has no team.\n",
      "Player RLCS Observer 3 as player has no MatchScore.\n",
      "Score is not found for player\n",
      "Ignoring player: RLCS Observer 3 as player has no team.\n",
      "Player RLCS Observer 1 as player has no MatchScore.\n",
      "Score is not found for player\n",
      "Ignoring player: RLCS Observer 1 as player has no team.\n",
      "Dropping these columns[('game', 'is_overtime')]\n"
     ]
    },
    {
     "name": "stdout",
     "output_type": "stream",
     "text": [
      "replays/Week 3/M5 PSG v Bricks/M5G1.replay\n",
      "['rattletrap-6.3.1-osx', 'rattletrap-6.3.1-windows.exe', 'rattletrap-6.3.1-linux']\n"
     ]
    },
    {
     "name": "stderr",
     "output_type": "stream",
     "text": [
      "Player RLCS Admin as player has no MatchScore.\n",
      "Score is not found for player\n",
      "Ignoring player: RLCS Admin as player has no team.\n",
      "Player RLCS Observer 1 as player has no MatchScore.\n",
      "Score is not found for player\n",
      "Ignoring player: RLCS Observer 1 as player has no team.\n",
      "Player RLCS Observer 3 as player has no MatchScore.\n",
      "Score is not found for player\n",
      "Ignoring player: RLCS Observer 3 as player has no team.\n",
      "Player RLCS Observer 2 as player has no MatchScore.\n",
      "Score is not found for player\n",
      "Ignoring player: RLCS Observer 2 as player has no team.\n",
      "Dropping these columns[('game', 'is_overtime')]\n"
     ]
    },
    {
     "name": "stdout",
     "output_type": "stream",
     "text": [
      "replays/Week 3/M4 Ghost v G2/M4G1.replay\n",
      "['rattletrap-6.3.1-osx', 'rattletrap-6.3.1-windows.exe', 'rattletrap-6.3.1-linux']\n"
     ]
    },
    {
     "name": "stderr",
     "output_type": "stream",
     "text": [
      "Player RLCS Admin as player has no MatchScore.\n",
      "Score is not found for player\n",
      "Ignoring player: RLCS Admin as player has no team.\n",
      "Player RLCS Observer 3 as player has no MatchScore.\n",
      "Score is not found for player\n",
      "Ignoring player: RLCS Observer 3 as player has no team.\n",
      "Player RLCS Observer 1 as player has no MatchScore.\n",
      "Score is not found for player\n",
      "Ignoring player: RLCS Observer 1 as player has no team.\n",
      "Player RLCS Observer 2 as player has no MatchScore.\n",
      "Score is not found for player\n",
      "Player RLCS Observer 2 as player has no MatchScore.\n",
      "Dropping these columns[('RLCS Observer 2', 'boost_collect'), ('game', 'is_overtime')]\n",
      "removed player: ['RLCS Observer 2']\n"
     ]
    },
    {
     "name": "stdout",
     "output_type": "stream",
     "text": [
      "replays/Week 3/M4 Ghost v G2/M4G2.replay\n",
      "['rattletrap-6.3.1-osx', 'rattletrap-6.3.1-windows.exe', 'rattletrap-6.3.1-linux']\n"
     ]
    },
    {
     "name": "stderr",
     "output_type": "stream",
     "text": [
      "Player RLCS Observer 1 as player has no MatchScore.\n",
      "Score is not found for player\n",
      "Ignoring player: RLCS Observer 1 as player has no team.\n",
      "Player RLCS Observer 3 as player has no MatchScore.\n",
      "Score is not found for player\n",
      "Ignoring player: RLCS Observer 3 as player has no team.\n",
      "Player RLCS Admin as player has no MatchScore.\n",
      "Score is not found for player\n",
      "Ignoring player: RLCS Admin as player has no team.\n",
      "Player RLCS Observer 2 as player has no MatchScore.\n",
      "Score is not found for player\n",
      "Ignoring player: RLCS Observer 2 as player has no team.\n"
     ]
    },
    {
     "name": "stdout",
     "output_type": "stream",
     "text": [
      "replays/Week 3/M4 Ghost v G2/M4G3.replay\n",
      "['rattletrap-6.3.1-osx', 'rattletrap-6.3.1-windows.exe', 'rattletrap-6.3.1-linux']\n"
     ]
    },
    {
     "name": "stderr",
     "output_type": "stream",
     "text": [
      "Player RLCS Admin as player has no MatchScore.\n",
      "Score is not found for player\n",
      "Ignoring player: RLCS Admin as player has no team.\n",
      "Player RLCS Observer 3 as player has no MatchScore.\n",
      "Score is not found for player\n",
      "Ignoring player: RLCS Observer 3 as player has no team.\n",
      "Player RLCS Observer 1 as player has no MatchScore.\n",
      "Score is not found for player\n",
      "Ignoring player: RLCS Observer 1 as player has no team.\n",
      "Player RLCS Observer 2 as player has no MatchScore.\n",
      "Score is not found for player\n",
      "Ignoring player: RLCS Observer 2 as player has no team.\n",
      "Dropping these columns[('game', 'is_overtime')]\n"
     ]
    },
    {
     "name": "stdout",
     "output_type": "stream",
     "text": [
      "replays/Week 3/M6 EG v NRG/M6G3.replay\n",
      "['rattletrap-6.3.1-osx', 'rattletrap-6.3.1-windows.exe', 'rattletrap-6.3.1-linux']\n"
     ]
    },
    {
     "name": "stderr",
     "output_type": "stream",
     "text": [
      "Player RLCS Admin as player has no MatchScore.\n",
      "Score is not found for player\n",
      "Ignoring player: RLCS Admin as player has no team.\n",
      "Player RLCS Observer 3 as player has no MatchScore.\n",
      "Score is not found for player\n",
      "Ignoring player: RLCS Observer 3 as player has no team.\n",
      "Player RLCS Observer 1 as player has no MatchScore.\n",
      "Score is not found for player\n",
      "Ignoring player: RLCS Observer 1 as player has no team.\n",
      "Player RLCS Observer 2 as player has no MatchScore.\n",
      "Score is not found for player\n",
      "Ignoring player: RLCS Observer 2 as player has no team.\n"
     ]
    },
    {
     "name": "stdout",
     "output_type": "stream",
     "text": [
      "replays/Week 3/M6 EG v NRG/M6G1.replay\n",
      "['rattletrap-6.3.1-osx', 'rattletrap-6.3.1-windows.exe', 'rattletrap-6.3.1-linux']\n"
     ]
    },
    {
     "name": "stderr",
     "output_type": "stream",
     "text": [
      "Player RLCS Admin as player has no MatchScore.\n",
      "Score is not found for player\n",
      "Ignoring player: RLCS Admin as player has no team.\n",
      "Player RLCS Observer 3 as player has no MatchScore.\n",
      "Score is not found for player\n",
      "Ignoring player: RLCS Observer 3 as player has no team.\n",
      "Player RLCS Observer 1 as player has no MatchScore.\n",
      "Score is not found for player\n",
      "Ignoring player: RLCS Observer 1 as player has no team.\n",
      "Player RLCS Observer 2 as player has no MatchScore.\n",
      "Score is not found for player\n",
      "Ignoring player: RLCS Observer 2 as player has no team.\n",
      "Dropping these columns[('game', 'is_overtime')]\n"
     ]
    },
    {
     "name": "stdout",
     "output_type": "stream",
     "text": [
      "replays/Week 3/M6 EG v NRG/M6G2.replay\n",
      "['rattletrap-6.3.1-osx', 'rattletrap-6.3.1-windows.exe', 'rattletrap-6.3.1-linux']\n"
     ]
    },
    {
     "name": "stderr",
     "output_type": "stream",
     "text": [
      "Player RLCS Admin as player has no MatchScore.\n",
      "Score is not found for player\n",
      "Ignoring player: RLCS Admin as player has no team.\n",
      "Player RLCS Observer 1 as player has no MatchScore.\n",
      "Score is not found for player\n",
      "Ignoring player: RLCS Observer 1 as player has no team.\n",
      "Player RLCS Observer 3 as player has no MatchScore.\n",
      "Score is not found for player\n",
      "Ignoring player: RLCS Observer 3 as player has no team.\n",
      "Player RLCS Observer 2 as player has no MatchScore.\n",
      "Score is not found for player\n",
      "Ignoring player: RLCS Observer 2 as player has no team.\n",
      "Dropping these columns[('game', 'is_overtime')]\n",
      "Goal is not shot: frame_number: 8855\n",
      "player_id {\n",
      "  id: \"76561198136523266\"\n",
      "}\n",
      "collision_distance: 140.4359588623047\n",
      "ball_data {\n",
      "  pos_x: -861.3300170898438\n",
      "  pos_y: 3019.530029296875\n",
      "  pos_z: 136.3000030517578\n",
      "}\n",
      "pass_: true\n",
      "goal: true\n",
      "distance: 3154.7861328125\n",
      "distance_to_goal: 8159.603515625\n",
      "previous_hit_frame_number: 8808\n",
      "goal_number: 2\n",
      "is_kickoff: false\n",
      "\n"
     ]
    },
    {
     "name": "stdout",
     "output_type": "stream",
     "text": [
      "replays/Week 3/M6 EG v NRG/M6G4.replay\n",
      "['rattletrap-6.3.1-osx', 'rattletrap-6.3.1-windows.exe', 'rattletrap-6.3.1-linux']\n"
     ]
    },
    {
     "name": "stderr",
     "output_type": "stream",
     "text": [
      "Player RLCS Admin as player has no MatchScore.\n",
      "Score is not found for player\n",
      "Ignoring player: RLCS Admin as player has no team.\n",
      "Player RLCS Observer 3 as player has no MatchScore.\n",
      "Score is not found for player\n",
      "Ignoring player: RLCS Observer 3 as player has no team.\n",
      "Player RLCS Observer 1 as player has no MatchScore.\n",
      "Score is not found for player\n",
      "Ignoring player: RLCS Observer 1 as player has no team.\n",
      "Player RLCS Observer 2 as player has no MatchScore.\n",
      "Score is not found for player\n",
      "Ignoring player: RLCS Observer 2 as player has no team.\n",
      "Dropping these columns[('game', 'is_overtime')]\n"
     ]
    },
    {
     "name": "stdout",
     "output_type": "stream",
     "text": [
      "replays/Week 3/M1 PSG v TT/M1G1.replay\n",
      "['rattletrap-6.3.1-osx', 'rattletrap-6.3.1-windows.exe', 'rattletrap-6.3.1-linux']\n"
     ]
    },
    {
     "name": "stderr",
     "output_type": "stream",
     "text": [
      "Player RLCS Admin as player has no MatchScore.\n",
      "Score is not found for player\n",
      "Ignoring player: RLCS Admin as player has no team.\n",
      "Player RLCS Observer 1 as player has no MatchScore.\n",
      "Score is not found for player\n",
      "Ignoring player: RLCS Observer 1 as player has no team.\n",
      "Player RLCS Observer 3 as player has no MatchScore.\n",
      "Score is not found for player\n",
      "Ignoring player: RLCS Observer 3 as player has no team.\n",
      "Player RLCS Observer 2 as player has no MatchScore.\n",
      "Score is not found for player\n",
      "Ignoring player: RLCS Observer 2 as player has no team.\n",
      "Dropping these columns[('game', 'is_overtime')]\n"
     ]
    },
    {
     "name": "stdout",
     "output_type": "stream",
     "text": [
      "replays/Week 3/M1 PSG v TT/M1G3.replay\n",
      "['rattletrap-6.3.1-osx', 'rattletrap-6.3.1-windows.exe', 'rattletrap-6.3.1-linux']\n"
     ]
    },
    {
     "name": "stderr",
     "output_type": "stream",
     "text": [
      "Player RLCS Admin as player has no MatchScore.\n",
      "Score is not found for player\n",
      "Ignoring player: RLCS Admin as player has no team.\n",
      "Player RLCS Observer 2 as player has no MatchScore.\n",
      "Score is not found for player\n",
      "Ignoring player: RLCS Observer 2 as player has no team.\n",
      "Player RLCS Observer 3 as player has no MatchScore.\n",
      "Score is not found for player\n",
      "Ignoring player: RLCS Observer 3 as player has no team.\n",
      "Player RLCS Observer 1 as player has no MatchScore.\n",
      "Score is not found for player\n",
      "Ignoring player: RLCS Observer 1 as player has no team.\n",
      "Dropping these columns[('game', 'is_overtime')]\n"
     ]
    },
    {
     "name": "stdout",
     "output_type": "stream",
     "text": [
      "replays/Week 3/M1 PSG v TT/M1G5.replay\n",
      "['rattletrap-6.3.1-osx', 'rattletrap-6.3.1-windows.exe', 'rattletrap-6.3.1-linux']\n"
     ]
    },
    {
     "name": "stderr",
     "output_type": "stream",
     "text": [
      "Player RLCS Admin as player has no MatchScore.\n",
      "Score is not found for player\n",
      "Ignoring player: RLCS Admin as player has no team.\n",
      "Player RLCS Observer 2 as player has no MatchScore.\n",
      "Score is not found for player\n",
      "Ignoring player: RLCS Observer 2 as player has no team.\n",
      "Player RLCS Observer 3 as player has no MatchScore.\n",
      "Score is not found for player\n",
      "Ignoring player: RLCS Observer 3 as player has no team.\n",
      "Player RLCS Observer 1 as player has no MatchScore.\n",
      "Score is not found for player\n",
      "Ignoring player: RLCS Observer 1 as player has no team.\n",
      "Dropping these columns[('game', 'is_overtime')]\n"
     ]
    },
    {
     "name": "stdout",
     "output_type": "stream",
     "text": [
      "replays/Week 3/M1 PSG v TT/M1G4.replay\n",
      "['rattletrap-6.3.1-osx', 'rattletrap-6.3.1-windows.exe', 'rattletrap-6.3.1-linux']\n"
     ]
    },
    {
     "name": "stderr",
     "output_type": "stream",
     "text": [
      "Player RLCS Admin as player has no MatchScore.\n",
      "Score is not found for player\n",
      "Ignoring player: RLCS Admin as player has no team.\n",
      "Player RLCS Observer 2 as player has no MatchScore.\n",
      "Score is not found for player\n",
      "Ignoring player: RLCS Observer 2 as player has no team.\n",
      "Player RLCS Observer 1 as player has no MatchScore.\n",
      "Score is not found for player\n",
      "Ignoring player: RLCS Observer 1 as player has no team.\n",
      "Player RLCS Observer 3 as player has no MatchScore.\n",
      "Score is not found for player\n",
      "Ignoring player: RLCS Observer 3 as player has no team.\n",
      "Dropping these columns[('game', 'is_overtime')]\n"
     ]
    },
    {
     "name": "stdout",
     "output_type": "stream",
     "text": [
      "replays/Week 3/M1 PSG v TT/M1G2.replay\n",
      "['rattletrap-6.3.1-osx', 'rattletrap-6.3.1-windows.exe', 'rattletrap-6.3.1-linux']\n"
     ]
    },
    {
     "name": "stderr",
     "output_type": "stream",
     "text": [
      "Player RLCS Admin as player has no MatchScore.\n",
      "Score is not found for player\n",
      "Ignoring player: RLCS Admin as player has no team.\n",
      "Player RLCS Observer 2 as player has no MatchScore.\n",
      "Score is not found for player\n",
      "Ignoring player: RLCS Observer 2 as player has no team.\n",
      "Player RLCS Observer 1 as player has no MatchScore.\n",
      "Score is not found for player\n",
      "Ignoring player: RLCS Observer 1 as player has no team.\n",
      "Player RLCS Observer 3 as player has no MatchScore.\n",
      "Score is not found for player\n",
      "Ignoring player: RLCS Observer 3 as player has no team.\n",
      "Dropping these columns[('game', 'is_overtime')]\n"
     ]
    },
    {
     "name": "stdout",
     "output_type": "stream",
     "text": [
      "replays/Week 3/M1 SSG v NRG/M1G1.replay\n",
      "['rattletrap-6.3.1-osx', 'rattletrap-6.3.1-windows.exe', 'rattletrap-6.3.1-linux']\n"
     ]
    },
    {
     "name": "stderr",
     "output_type": "stream",
     "text": [
      "Player RLCS Admin as player has no MatchScore.\n",
      "Score is not found for player\n",
      "Ignoring player: RLCS Admin as player has no team.\n",
      "Player RLCS Observer 3 as player has no MatchScore.\n",
      "Score is not found for player\n",
      "Ignoring player: RLCS Observer 3 as player has no team.\n",
      "Player RLCS Observer 2 as player has no MatchScore.\n",
      "Score is not found for player\n",
      "Ignoring player: RLCS Observer 2 as player has no team.\n",
      "Player RLCS Observer 1 as player has no MatchScore.\n",
      "Score is not found for player\n",
      "Ignoring player: RLCS Observer 1 as player has no team.\n",
      "Dropping these columns[('game', 'is_overtime')]\n"
     ]
    },
    {
     "name": "stdout",
     "output_type": "stream",
     "text": [
      "replays/Week 3/M1 SSG v NRG/M1G3.replay\n",
      "['rattletrap-6.3.1-osx', 'rattletrap-6.3.1-windows.exe', 'rattletrap-6.3.1-linux']\n"
     ]
    },
    {
     "name": "stderr",
     "output_type": "stream",
     "text": [
      "Player RLCS Observer 2 as player has no MatchScore.\n",
      "Score is not found for player\n",
      "Ignoring player: RLCS Observer 2 as player has no team.\n",
      "Player RLCS Admin as player has no MatchScore.\n",
      "Score is not found for player\n",
      "Ignoring player: RLCS Admin as player has no team.\n",
      "Player RLCS Observer 1 as player has no MatchScore.\n",
      "Score is not found for player\n",
      "Ignoring player: RLCS Observer 1 as player has no team.\n",
      "Player RLCS Observer 3 as player has no MatchScore.\n",
      "Score is not found for player\n",
      "Ignoring player: RLCS Observer 3 as player has no team.\n",
      "Dropping these columns[('game', 'is_overtime')]\n"
     ]
    },
    {
     "name": "stdout",
     "output_type": "stream",
     "text": [
      "replays/Week 3/M1 SSG v NRG/M1G2.replay\n",
      "['rattletrap-6.3.1-osx', 'rattletrap-6.3.1-windows.exe', 'rattletrap-6.3.1-linux']\n"
     ]
    },
    {
     "name": "stderr",
     "output_type": "stream",
     "text": [
      "Player RLCS Admin as player has no MatchScore.\n",
      "Score is not found for player\n",
      "Ignoring player: RLCS Admin as player has no team.\n",
      "Player RLCS Observer 2 as player has no MatchScore.\n",
      "Score is not found for player\n",
      "Ignoring player: RLCS Observer 2 as player has no team.\n",
      "Player RLCS Observer 3 as player has no MatchScore.\n",
      "Score is not found for player\n",
      "Ignoring player: RLCS Observer 3 as player has no team.\n",
      "Player RLCS Observer 1 as player has no MatchScore.\n",
      "Score is not found for player\n",
      "Ignoring player: RLCS Observer 1 as player has no team.\n"
     ]
    },
    {
     "name": "stdout",
     "output_type": "stream",
     "text": [
      "replays/Week 3/M5 C9 v Rogue/M5G4.replay\n",
      "['rattletrap-6.3.1-osx', 'rattletrap-6.3.1-windows.exe', 'rattletrap-6.3.1-linux']\n"
     ]
    },
    {
     "name": "stderr",
     "output_type": "stream",
     "text": [
      "Player RLCS Admin as player has no MatchScore.\n",
      "Score is not found for player\n",
      "Could not find field_of_view in camera settings for RLCS Admin\n",
      "Could not find height in camera settings for RLCS Admin\n",
      "Could not find pitch in camera settings for RLCS Admin\n",
      "Could not find distance in camera settings for RLCS Admin\n",
      "Could not find stiffness in camera settings for RLCS Admin\n",
      "Could not find swivel_speed in camera settings for RLCS Admin\n",
      "Could not find transition_speed in camera settings for RLCS Admin\n",
      "Player RLCS Observer 3 as player has no MatchScore.\n",
      "Score is not found for player\n",
      "Ignoring player: RLCS Observer 3 as player has no team.\n",
      "Player RLCS Observer 1 as player has no MatchScore.\n",
      "Score is not found for player\n",
      "Ignoring player: RLCS Observer 1 as player has no team.\n",
      "Player RLCS Observer 2 as player has no MatchScore.\n",
      "Score is not found for player\n",
      "Ignoring player: RLCS Observer 2 as player has no team.\n",
      "Dropping these columns[('RLCS Admin', 'handbrake'), ('RLCS Admin', 'ball_cam'), ('game', 'is_overtime')]\n"
     ]
    },
    {
     "name": "stdout",
     "output_type": "stream",
     "text": [
      "replays/Week 3/M5 C9 v Rogue/M5G2.replay\n",
      "['rattletrap-6.3.1-osx', 'rattletrap-6.3.1-windows.exe', 'rattletrap-6.3.1-linux']\n"
     ]
    },
    {
     "name": "stderr",
     "output_type": "stream",
     "text": [
      "Player RLCS Admin as player has no MatchScore.\n",
      "Score is not found for player\n",
      "Ignoring player: RLCS Admin as player has no team.\n",
      "Player RLCS Observer 3 as player has no MatchScore.\n",
      "Score is not found for player\n",
      "Ignoring player: RLCS Observer 3 as player has no team.\n",
      "Player RLCS Observer 2 as player has no MatchScore.\n",
      "Score is not found for player\n",
      "Ignoring player: RLCS Observer 2 as player has no team.\n",
      "Player RLCS Observer 1 as player has no MatchScore.\n",
      "Score is not found for player\n",
      "Ignoring player: RLCS Observer 1 as player has no team.\n",
      "Dropping these columns[('game', 'is_overtime')]\n"
     ]
    },
    {
     "name": "stdout",
     "output_type": "stream",
     "text": [
      "replays/Week 3/M5 C9 v Rogue/M5G3.replay\n",
      "['rattletrap-6.3.1-osx', 'rattletrap-6.3.1-windows.exe', 'rattletrap-6.3.1-linux']\n"
     ]
    },
    {
     "name": "stderr",
     "output_type": "stream",
     "text": [
      "Player RLCS Admin as player has no MatchScore.\n",
      "Score is not found for player\n",
      "Ignoring player: RLCS Admin as player has no team.\n",
      "Player RLCS Observer 3 as player has no MatchScore.\n",
      "Score is not found for player\n",
      "Ignoring player: RLCS Observer 3 as player has no team.\n",
      "Player RLCS Observer 1 as player has no MatchScore.\n",
      "Score is not found for player\n",
      "Ignoring player: RLCS Observer 1 as player has no team.\n",
      "Player RLCS Observer 2 as player has no MatchScore.\n",
      "Score is not found for player\n",
      "Ignoring player: RLCS Observer 2 as player has no team.\n",
      "Dropping these columns[('game', 'is_overtime')]\n"
     ]
    },
    {
     "name": "stdout",
     "output_type": "stream",
     "text": [
      "replays/Week 3/M5 C9 v Rogue/M5G1.replay\n",
      "['rattletrap-6.3.1-osx', 'rattletrap-6.3.1-windows.exe', 'rattletrap-6.3.1-linux']\n"
     ]
    },
    {
     "name": "stderr",
     "output_type": "stream",
     "text": [
      "Player RLCS Admin as player has no MatchScore.\n",
      "Score is not found for player\n",
      "Ignoring player: RLCS Admin as player has no team.\n",
      "Player RLCS Observer 2 as player has no MatchScore.\n",
      "Score is not found for player\n",
      "Ignoring player: RLCS Observer 2 as player has no team.\n",
      "Player RLCS Observer 3 as player has no MatchScore.\n",
      "Score is not found for player\n",
      "Ignoring player: RLCS Observer 3 as player has no team.\n",
      "Player RLCS Observer 1 as player has no MatchScore.\n",
      "Score is not found for player\n",
      "Ignoring player: RLCS Observer 1 as player has no team.\n",
      "Dropping these columns[('game', 'is_overtime')]\n"
     ]
    },
    {
     "name": "stdout",
     "output_type": "stream",
     "text": [
      "replays/Week 3/M3 C9 v EG/M3G3.replay\n",
      "['rattletrap-6.3.1-osx', 'rattletrap-6.3.1-windows.exe', 'rattletrap-6.3.1-linux']\n"
     ]
    },
    {
     "name": "stderr",
     "output_type": "stream",
     "text": [
      "Player RLCS Admin as player has no MatchScore.\n",
      "Score is not found for player\n",
      "Ignoring player: RLCS Admin as player has no team.\n",
      "Player RLCS Observer 2 as player has no MatchScore.\n",
      "Score is not found for player\n",
      "Ignoring player: RLCS Observer 2 as player has no team.\n",
      "Player RLCS Observer 3 as player has no MatchScore.\n",
      "Score is not found for player\n",
      "Ignoring player: RLCS Observer 3 as player has no team.\n",
      "Player RLCS Observer 1 as player has no MatchScore.\n",
      "Score is not found for player\n",
      "Ignoring player: RLCS Observer 1 as player has no team.\n",
      "Goal is not shot: frame_number: 3456\n",
      "player_id {\n",
      "  id: \"76561198162102242\"\n",
      "}\n",
      "collision_distance: 169.09495544433594\n",
      "ball_data {\n",
      "  pos_x: -48.470001220703125\n",
      "  pos_y: 3045.429931640625\n",
      "  pos_z: 323.3299865722656\n",
      "}\n",
      "goal: true\n",
      "distance: 8074.5791015625\n",
      "distance_to_goal: 8229.1904296875\n",
      "previous_hit_frame_number: 3413\n",
      "next_hit_frame_number: 3532\n",
      "goal_number: 3\n",
      "is_kickoff: false\n",
      "\n",
      "Goal is not shot: frame_number: 11266\n",
      "player_id {\n",
      "  id: \"76561197992682099\"\n",
      "}\n",
      "collision_distance: 91.08985137939453\n",
      "ball_data {\n",
      "  pos_x: -549.7899780273438\n",
      "  pos_y: -659.8900146484375\n",
      "  pos_z: 1186.77001953125\n",
      "}\n",
      "goal: true\n",
      "aerial: true\n",
      "distance: 2373.871826171875\n",
      "distance_to_goal: 4493.46728515625\n",
      "previous_hit_frame_number: 11204\n",
      "next_hit_frame_number: 11337\n",
      "goal_number: -1\n",
      "is_kickoff: false\n",
      "\n"
     ]
    },
    {
     "name": "stdout",
     "output_type": "stream",
     "text": [
      "replays/Week 3/M3 C9 v EG/M3G1.replay\n",
      "['rattletrap-6.3.1-osx', 'rattletrap-6.3.1-windows.exe', 'rattletrap-6.3.1-linux']\n"
     ]
    },
    {
     "name": "stderr",
     "output_type": "stream",
     "text": [
      "Player RLCS Admin as player has no MatchScore.\n",
      "Score is not found for player\n",
      "Ignoring player: RLCS Admin as player has no team.\n",
      "Player RLCS Observer 1 as player has no MatchScore.\n",
      "Score is not found for player\n",
      "Ignoring player: RLCS Observer 1 as player has no team.\n",
      "Player RLCS Observer 2 as player has no MatchScore.\n",
      "Score is not found for player\n",
      "Ignoring player: RLCS Observer 2 as player has no team.\n",
      "Player RLCS Observer 3 as player has no MatchScore.\n",
      "Score is not found for player\n",
      "Ignoring player: RLCS Observer 3 as player has no team.\n",
      "Dropping these columns[('game', 'is_overtime')]\n"
     ]
    },
    {
     "name": "stdout",
     "output_type": "stream",
     "text": [
      "replays/Week 3/M3 C9 v EG/M3G4.replay\n",
      "['rattletrap-6.3.1-osx', 'rattletrap-6.3.1-windows.exe', 'rattletrap-6.3.1-linux']\n"
     ]
    },
    {
     "name": "stderr",
     "output_type": "stream",
     "text": [
      "Player RLCS Admin as player has no MatchScore.\n",
      "Score is not found for player\n",
      "Ignoring player: RLCS Admin as player has no team.\n",
      "Player RLCS Observer 2 as player has no MatchScore.\n",
      "Score is not found for player\n",
      "Ignoring player: RLCS Observer 2 as player has no team.\n",
      "Player RLCS Observer 1 as player has no MatchScore.\n",
      "Score is not found for player\n",
      "Ignoring player: RLCS Observer 1 as player has no team.\n",
      "Player RLCS Observer 3 as player has no MatchScore.\n",
      "Score is not found for player\n",
      "Ignoring player: RLCS Observer 3 as player has no team.\n",
      "Dropping these columns[('game', 'is_overtime')]\n"
     ]
    },
    {
     "name": "stdout",
     "output_type": "stream",
     "text": [
      "replays/Week 3/M3 C9 v EG/M3G2.replay\n",
      "['rattletrap-6.3.1-osx', 'rattletrap-6.3.1-windows.exe', 'rattletrap-6.3.1-linux']\n"
     ]
    },
    {
     "name": "stderr",
     "output_type": "stream",
     "text": [
      "Player RLCS Admin as player has no MatchScore.\n",
      "Score is not found for player\n",
      "Ignoring player: RLCS Admin as player has no team.\n",
      "Player RLCS Observer 1 as player has no MatchScore.\n",
      "Score is not found for player\n",
      "Ignoring player: RLCS Observer 1 as player has no team.\n",
      "Player RLCS Observer 3 as player has no MatchScore.\n",
      "Score is not found for player\n",
      "Ignoring player: RLCS Observer 3 as player has no team.\n",
      "Player RLCS Observer 2 as player has no MatchScore.\n",
      "Score is not found for player\n",
      "Ignoring player: RLCS Observer 2 as player has no team.\n",
      "Dropping these columns[('game', 'is_overtime')]\n"
     ]
    },
    {
     "name": "stdout",
     "output_type": "stream",
     "text": [
      "replays/Week 3/M2 Rogue v Splyce/M2G2.replay\n",
      "['rattletrap-6.3.1-osx', 'rattletrap-6.3.1-windows.exe', 'rattletrap-6.3.1-linux']\n"
     ]
    },
    {
     "name": "stderr",
     "output_type": "stream",
     "text": [
      "Player RLCS Admin as player has no MatchScore.\n",
      "Score is not found for player\n",
      "Ignoring player: RLCS Admin as player has no team.\n",
      "Player RLCS Observer 2 as player has no MatchScore.\n",
      "Score is not found for player\n",
      "Ignoring player: RLCS Observer 2 as player has no team.\n",
      "Player RLCS Observer 3 as player has no MatchScore.\n",
      "Score is not found for player\n",
      "Ignoring player: RLCS Observer 3 as player has no team.\n",
      "Player RLCS Observer 1 as player has no MatchScore.\n",
      "Score is not found for player\n",
      "Ignoring player: RLCS Observer 1 as player has no team.\n",
      "Dropping these columns[('game', 'is_overtime')]\n"
     ]
    },
    {
     "name": "stdout",
     "output_type": "stream",
     "text": [
      "replays/Week 3/M2 Rogue v Splyce/M2G3.replay\n",
      "['rattletrap-6.3.1-osx', 'rattletrap-6.3.1-windows.exe', 'rattletrap-6.3.1-linux']\n"
     ]
    },
    {
     "name": "stderr",
     "output_type": "stream",
     "text": [
      "Could not find field_of_view in camera settings for RLCS Admin\n",
      "Could not find height in camera settings for RLCS Admin\n",
      "Could not find pitch in camera settings for RLCS Admin\n",
      "Could not find distance in camera settings for RLCS Admin\n",
      "Could not find stiffness in camera settings for RLCS Admin\n",
      "Could not find swivel_speed in camera settings for RLCS Admin\n",
      "Could not find transition_speed in camera settings for RLCS Admin\n",
      "Player RLCS Observer 3 as player has no MatchScore.\n",
      "Score is not found for player\n",
      "Ignoring player: RLCS Observer 3 as player has no team.\n",
      "Player Wonder(2) as player has no MatchScore.\n",
      "Score is not found for player\n",
      "Ignoring player: Wonder(2) as player has no team.\n",
      "Player RLCS Observer 1 as player has no MatchScore.\n",
      "Score is not found for player\n",
      "Ignoring player: RLCS Observer 1 as player has no team.\n",
      "Player RLCS Observer 2 as player has no MatchScore.\n",
      "Score is not found for player\n",
      "Ignoring player: RLCS Observer 2 as player has no team.\n",
      "Dropping these columns[('RLCS Admin', 'steer'), ('RLCS Admin', 'handbrake'), ('game', 'is_overtime')]\n",
      "Player never pressed control 'steer'\n",
      "/usr/local/lib/python3.6/dist-packages/carball/analysis/stats/possession/ball_distances.py:64: FutureWarning: Sorting because non-concatenation axis is not aligned. A future version\n",
      "of pandas will change to not sort by default.\n",
      "\n",
      "To accept the future behavior, pass 'sort=False'.\n",
      "\n",
      "To retain the current behavior and silence the warning, pass 'sort=True'.\n",
      "\n",
      "  ], axis=1)\n"
     ]
    },
    {
     "name": "stdout",
     "output_type": "stream",
     "text": [
      "replays/Week 3/M2 Rogue v Splyce/M2G1.replay\n",
      "['rattletrap-6.3.1-osx', 'rattletrap-6.3.1-windows.exe', 'rattletrap-6.3.1-linux']\n"
     ]
    },
    {
     "name": "stderr",
     "output_type": "stream",
     "text": [
      "Player RLCS Admin as player has no MatchScore.\n",
      "Score is not found for player\n",
      "Ignoring player: RLCS Admin as player has no team.\n",
      "Player RLCS Observer 2 as player has no MatchScore.\n",
      "Score is not found for player\n",
      "Ignoring player: RLCS Observer 2 as player has no team.\n",
      "Player RLCS Observer 3 as player has no MatchScore.\n",
      "Score is not found for player\n",
      "Ignoring player: RLCS Observer 3 as player has no team.\n",
      "Player RLCS Observer 1 as player has no MatchScore.\n",
      "Score is not found for player\n",
      "Ignoring player: RLCS Observer 1 as player has no team.\n",
      "Dropping these columns[('game', 'is_overtime')]\n"
     ]
    },
    {
     "name": "stdout",
     "output_type": "stream",
     "text": [
      "replays/Week 3/M4 Dig v Mouz/M4G1.replay\n",
      "['rattletrap-6.3.1-osx', 'rattletrap-6.3.1-windows.exe', 'rattletrap-6.3.1-linux']\n"
     ]
    },
    {
     "name": "stderr",
     "output_type": "stream",
     "text": [
      "Player RLCS Admin as player has no MatchScore.\n",
      "Score is not found for player\n",
      "Ignoring player: RLCS Admin as player has no team.\n",
      "Player RLCS Observer 3 as player has no MatchScore.\n",
      "Score is not found for player\n",
      "Ignoring player: RLCS Observer 3 as player has no team.\n",
      "Player RLCS Observer 1 as player has no MatchScore.\n",
      "Score is not found for player\n",
      "Ignoring player: RLCS Observer 1 as player has no team.\n",
      "Player RLCS Observer 2 as player has no MatchScore.\n",
      "Score is not found for player\n",
      "Ignoring player: RLCS Observer 2 as player has no team.\n",
      "Dropping these columns[('game', 'is_overtime')]\n"
     ]
    },
    {
     "name": "stdout",
     "output_type": "stream",
     "text": [
      "replays/Week 3/M4 Dig v Mouz/M4G2.replay\n",
      "['rattletrap-6.3.1-osx', 'rattletrap-6.3.1-windows.exe', 'rattletrap-6.3.1-linux']\n"
     ]
    },
    {
     "name": "stderr",
     "output_type": "stream",
     "text": [
      "Player RLCS Admin as player has no MatchScore.\n",
      "Score is not found for player\n",
      "Ignoring player: RLCS Admin as player has no team.\n",
      "Player RLCS Observer 2 as player has no MatchScore.\n",
      "Score is not found for player\n",
      "Ignoring player: RLCS Observer 2 as player has no team.\n",
      "Player RLCS Observer 3 as player has no MatchScore.\n",
      "Score is not found for player\n",
      "Ignoring player: RLCS Observer 3 as player has no team.\n",
      "Player RLCS Observer 1 as player has no MatchScore.\n",
      "Score is not found for player\n",
      "Ignoring player: RLCS Observer 1 as player has no team.\n",
      "Dropping these columns[('game', 'is_overtime')]\n",
      "Goal is not shot: frame_number: 7777\n",
      "player_id {\n",
      "  id: \"76561198194977850\"\n",
      "}\n",
      "collision_distance: 209.17010498046875\n",
      "ball_data {\n",
      "  pos_x: 1201.719970703125\n",
      "  pos_y: -1633.8299560546875\n",
      "  pos_z: 299.1499938964844\n",
      "}\n",
      "goal: true\n",
      "distance: 2084.3671875\n",
      "distance_to_goal: 7091.2060546875\n",
      "previous_hit_frame_number: 7712\n",
      "goal_number: 3\n",
      "is_kickoff: false\n",
      "\n"
     ]
    },
    {
     "name": "stdout",
     "output_type": "stream",
     "text": [
      "replays/Week 3/M4 Dig v Mouz/M4G3.replay\n",
      "['rattletrap-6.3.1-osx', 'rattletrap-6.3.1-windows.exe', 'rattletrap-6.3.1-linux']\n"
     ]
    },
    {
     "name": "stderr",
     "output_type": "stream",
     "text": [
      "Player RLCS Admin as player has no MatchScore.\n",
      "Score is not found for player\n",
      "Ignoring player: RLCS Admin as player has no team.\n",
      "Player RLCS Observer 3 as player has no MatchScore.\n",
      "Score is not found for player\n",
      "Ignoring player: RLCS Observer 3 as player has no team.\n",
      "Player RLCS Observer 2 as player has no MatchScore.\n",
      "Score is not found for player\n",
      "Ignoring player: RLCS Observer 2 as player has no team.\n",
      "Player RLCS Observer 1 as player has no MatchScore.\n",
      "Score is not found for player\n",
      "Ignoring player: RLCS Observer 1 as player has no team.\n",
      "Dropping these columns[('game', 'is_overtime')]\n",
      "Goal is not shot: frame_number: 2326\n",
      "player_id {\n",
      "  id: \"76561198194977850\"\n",
      "}\n",
      "collision_distance: 140.54396057128906\n",
      "ball_data {\n",
      "  pos_x: 2172.139892578125\n",
      "  pos_y: -716.969970703125\n",
      "  pos_z: 1095.239990234375\n",
      "}\n",
      "pass_: true\n",
      "goal: true\n",
      "aerial: true\n",
      "distance: 4163.923828125\n",
      "distance_to_goal: 6611.92724609375\n",
      "previous_hit_frame_number: 2266\n",
      "next_hit_frame_number: 2395\n",
      "goal_number: 0\n",
      "is_kickoff: false\n",
      "\n"
     ]
    },
    {
     "name": "stdout",
     "output_type": "stream",
     "text": [
      "replays/Week 3/M2 Bricks v Vit/M2G2.replay\n",
      "['rattletrap-6.3.1-osx', 'rattletrap-6.3.1-windows.exe', 'rattletrap-6.3.1-linux']\n"
     ]
    },
    {
     "name": "stderr",
     "output_type": "stream",
     "text": [
      "Player RLCS Admin as player has no MatchScore.\n",
      "Score is not found for player\n",
      "Ignoring player: RLCS Admin as player has no team.\n",
      "Player RLCS Observer 3 as player has no MatchScore.\n",
      "Score is not found for player\n",
      "Ignoring player: RLCS Observer 3 as player has no team.\n",
      "Player RLCS Observer 1 as player has no MatchScore.\n",
      "Score is not found for player\n",
      "Ignoring player: RLCS Observer 1 as player has no team.\n",
      "Player RLCS Observer 2 as player has no MatchScore.\n",
      "Score is not found for player\n",
      "Ignoring player: RLCS Observer 2 as player has no team.\n",
      "Dropping these columns[('game', 'is_overtime')]\n",
      "Goal is not shot: frame_number: 3000\n",
      "player_id {\n",
      "  id: \"76561198089298636\"\n",
      "}\n",
      "collision_distance: 218.76583862304688\n",
      "ball_data {\n",
      "  pos_x: -1328.0\n",
      "  pos_y: -4937.2001953125\n",
      "  pos_z: 95.06999969482422\n",
      "}\n",
      "dribble_continuation: true\n",
      "goal: true\n",
      "assisted: true\n",
      "distance: 641.0197143554688\n",
      "distance_to_goal: 477.2335205078125\n",
      "previous_hit_frame_number: 2984\n",
      "next_hit_frame_number: 3018\n",
      "goal_number: 0\n",
      "is_kickoff: false\n",
      "\n"
     ]
    },
    {
     "name": "stdout",
     "output_type": "stream",
     "text": [
      "replays/Week 3/M2 Bricks v Vit/M2G3.replay\n",
      "['rattletrap-6.3.1-osx', 'rattletrap-6.3.1-windows.exe', 'rattletrap-6.3.1-linux']\n"
     ]
    },
    {
     "name": "stderr",
     "output_type": "stream",
     "text": [
      "Player RLCS Observer 2 as player has no MatchScore.\n",
      "Score is not found for player\n",
      "Ignoring player: RLCS Observer 2 as player has no team.\n",
      "Player RLCS Admin as player has no MatchScore.\n",
      "Score is not found for player\n",
      "Ignoring player: RLCS Admin as player has no team.\n",
      "Player RLCS Observer 1 as player has no MatchScore.\n",
      "Score is not found for player\n",
      "Ignoring player: RLCS Observer 1 as player has no team.\n",
      "Player RLCS Observer 3 as player has no MatchScore.\n",
      "Score is not found for player\n",
      "Ignoring player: RLCS Observer 3 as player has no team.\n",
      "Dropping these columns[('game', 'is_overtime')]\n"
     ]
    },
    {
     "name": "stdout",
     "output_type": "stream",
     "text": [
      "replays/Week 3/M2 Bricks v Vit/M2G1.replay\n",
      "['rattletrap-6.3.1-osx', 'rattletrap-6.3.1-windows.exe', 'rattletrap-6.3.1-linux']\n"
     ]
    },
    {
     "name": "stderr",
     "output_type": "stream",
     "text": [
      "Player RLCS Admin as player has no MatchScore.\n",
      "Score is not found for player\n",
      "Ignoring player: RLCS Admin as player has no team.\n",
      "Player RLCS Observer 3 as player has no MatchScore.\n",
      "Score is not found for player\n",
      "Ignoring player: RLCS Observer 3 as player has no team.\n",
      "Player RLCS Observer 1 as player has no MatchScore.\n",
      "Score is not found for player\n",
      "Ignoring player: RLCS Observer 1 as player has no team.\n",
      "Player RLCS Observer 2 as player has no MatchScore.\n",
      "Score is not found for player\n",
      "Ignoring player: RLCS Observer 2 as player has no team.\n"
     ]
    },
    {
     "name": "stdout",
     "output_type": "stream",
     "text": [
      "replays/Week 3/M3 TSM v FCB/M3G3.replay\n",
      "['rattletrap-6.3.1-osx', 'rattletrap-6.3.1-windows.exe', 'rattletrap-6.3.1-linux']\n"
     ]
    },
    {
     "name": "stderr",
     "output_type": "stream",
     "text": [
      "Player RLCS Admin as player has no MatchScore.\n",
      "Score is not found for player\n",
      "Ignoring player: RLCS Admin as player has no team.\n",
      "Player RLCS Observer 2 as player has no MatchScore.\n",
      "Score is not found for player\n",
      "Ignoring player: RLCS Observer 2 as player has no team.\n",
      "Player RLCS Observer 1 as player has no MatchScore.\n",
      "Score is not found for player\n",
      "Ignoring player: RLCS Observer 1 as player has no team.\n",
      "Player RLCS Observer 3 as player has no MatchScore.\n",
      "Score is not found for player\n",
      "Ignoring player: RLCS Observer 3 as player has no team.\n",
      "Dropping these columns[('game', 'is_overtime')]\n"
     ]
    },
    {
     "name": "stdout",
     "output_type": "stream",
     "text": [
      "replays/Week 3/M3 TSM v FCB/M3G1.replay\n",
      "['rattletrap-6.3.1-osx', 'rattletrap-6.3.1-windows.exe', 'rattletrap-6.3.1-linux']\n"
     ]
    },
    {
     "name": "stderr",
     "output_type": "stream",
     "text": [
      "Player RLCS Admin as player has no MatchScore.\n",
      "Score is not found for player\n",
      "Ignoring player: RLCS Admin as player has no team.\n",
      "Player RLCS Observer 2 as player has no MatchScore.\n",
      "Score is not found for player\n",
      "Ignoring player: RLCS Observer 2 as player has no team.\n",
      "Player RLCS Observer 3 as player has no MatchScore.\n",
      "Score is not found for player\n",
      "Ignoring player: RLCS Observer 3 as player has no team.\n",
      "Player RLCS Observer 1 as player has no MatchScore.\n",
      "Score is not found for player\n",
      "Ignoring player: RLCS Observer 1 as player has no team.\n",
      "Dropping these columns[('game', 'is_overtime')]\n"
     ]
    },
    {
     "name": "stdout",
     "output_type": "stream",
     "text": [
      "replays/Week 3/M3 TSM v FCB/M3G4.replay\n",
      "['rattletrap-6.3.1-osx', 'rattletrap-6.3.1-windows.exe', 'rattletrap-6.3.1-linux']\n"
     ]
    },
    {
     "name": "stderr",
     "output_type": "stream",
     "text": [
      "Player RLCS Observer 2 as player has no MatchScore.\n",
      "Score is not found for player\n",
      "Ignoring player: RLCS Observer 2 as player has no team.\n",
      "Player RLCS Admin as player has no MatchScore.\n",
      "Score is not found for player\n",
      "Ignoring player: RLCS Admin as player has no team.\n",
      "Player RLCS Observer 1 as player has no MatchScore.\n",
      "Score is not found for player\n",
      "Ignoring player: RLCS Observer 1 as player has no team.\n",
      "Player RLCS Observer 3 as player has no MatchScore.\n",
      "Score is not found for player\n",
      "Ignoring player: RLCS Observer 3 as player has no team.\n",
      "Dropping these columns[('game', 'is_overtime')]\n"
     ]
    },
    {
     "name": "stdout",
     "output_type": "stream",
     "text": [
      "replays/Week 3/M3 TSM v FCB/M3G2.replay\n",
      "['rattletrap-6.3.1-osx', 'rattletrap-6.3.1-windows.exe', 'rattletrap-6.3.1-linux']\n"
     ]
    },
    {
     "name": "stderr",
     "output_type": "stream",
     "text": [
      "Player RLCS Admin as player has no MatchScore.\n",
      "Score is not found for player\n",
      "Ignoring player: RLCS Admin as player has no team.\n",
      "Player RLCS Observer 2 as player has no MatchScore.\n",
      "Score is not found for player\n",
      "Ignoring player: RLCS Observer 2 as player has no team.\n",
      "Player RLCS Observer 1 as player has no MatchScore.\n",
      "Score is not found for player\n",
      "Ignoring player: RLCS Observer 1 as player has no team.\n",
      "Player RLCS Observer 3 as player has no MatchScore.\n",
      "Score is not found for player\n",
      "Ignoring player: RLCS Observer 3 as player has no team.\n",
      "Dropping these columns[('game', 'is_overtime')]\n"
     ]
    },
    {
     "name": "stdout",
     "output_type": "stream",
     "text": [
      "replays/Week 3/M3 TSM v FCB/M3G5.replay\n",
      "['rattletrap-6.3.1-osx', 'rattletrap-6.3.1-windows.exe', 'rattletrap-6.3.1-linux']\n"
     ]
    },
    {
     "name": "stderr",
     "output_type": "stream",
     "text": [
      "Player RLCS Admin as player has no MatchScore.\n",
      "Score is not found for player\n",
      "Ignoring player: RLCS Admin as player has no team.\n",
      "Player RLCS Observer 3 as player has no MatchScore.\n",
      "Score is not found for player\n",
      "Ignoring player: RLCS Observer 3 as player has no team.\n",
      "Player RLCS Observer 1 as player has no MatchScore.\n",
      "Score is not found for player\n",
      "Ignoring player: RLCS Observer 1 as player has no team.\n",
      "Player RLCS Observer 2 as player has no MatchScore.\n",
      "Score is not found for player\n",
      "Ignoring player: RLCS Observer 2 as player has no team.\n",
      "Dropping these columns[('game', 'is_overtime')]\n"
     ]
    },
    {
     "name": "stdout",
     "output_type": "stream",
     "text": [
      "replays/Week 3/M6 TSM v Vit/M6G3.replay\n",
      "['rattletrap-6.3.1-osx', 'rattletrap-6.3.1-windows.exe', 'rattletrap-6.3.1-linux']\n"
     ]
    },
    {
     "name": "stderr",
     "output_type": "stream",
     "text": [
      "Player RLCS Admin as player has no MatchScore.\n",
      "Score is not found for player\n",
      "Ignoring player: RLCS Admin as player has no team.\n",
      "Player RLCS Observer 2 as player has no MatchScore.\n",
      "Score is not found for player\n",
      "Ignoring player: RLCS Observer 2 as player has no team.\n",
      "Player RLCS Observer 1 as player has no MatchScore.\n",
      "Score is not found for player\n",
      "Ignoring player: RLCS Observer 1 as player has no team.\n",
      "Player RLCS Observer 3 as player has no MatchScore.\n",
      "Score is not found for player\n",
      "Ignoring player: RLCS Observer 3 as player has no team.\n",
      "Dropping these columns[('game', 'is_overtime')]\n"
     ]
    },
    {
     "name": "stdout",
     "output_type": "stream",
     "text": [
      "replays/Week 3/M6 TSM v Vit/M6G1.replay\n",
      "['rattletrap-6.3.1-osx', 'rattletrap-6.3.1-windows.exe', 'rattletrap-6.3.1-linux']\n"
     ]
    },
    {
     "name": "stderr",
     "output_type": "stream",
     "text": [
      "Player RLCS Admin as player has no MatchScore.\n",
      "Score is not found for player\n",
      "Ignoring player: RLCS Admin as player has no team.\n",
      "Player RLCS Observer 2 as player has no MatchScore.\n",
      "Score is not found for player\n",
      "Ignoring player: RLCS Observer 2 as player has no team.\n",
      "Player RLCS Observer 3 as player has no MatchScore.\n",
      "Score is not found for player\n",
      "Ignoring player: RLCS Observer 3 as player has no team.\n",
      "Player RLCS Observer 1 as player has no MatchScore.\n",
      "Score is not found for player\n",
      "Ignoring player: RLCS Observer 1 as player has no team.\n",
      "Dropping these columns[('game', 'is_overtime')]\n",
      "Goal is not shot: frame_number: 9268\n",
      "player_id {\n",
      "  id: \"76561198137996936\"\n",
      "}\n",
      "collision_distance: 118.1795883178711\n",
      "ball_data {\n",
      "  pos_x: 2780.669921875\n",
      "  pos_y: 3397.68994140625\n",
      "  pos_z: 264.79998779296875\n",
      "}\n",
      "dribble_continuation: true\n",
      "goal: true\n",
      "distance: 4397.4619140625\n",
      "distance_to_goal: 4068.60498046875\n",
      "previous_hit_frame_number: 9149\n",
      "goal_number: 4\n",
      "is_kickoff: false\n",
      "\n"
     ]
    },
    {
     "name": "stdout",
     "output_type": "stream",
     "text": [
      "replays/Week 3/M6 TSM v Vit/M6G2.replay\n",
      "['rattletrap-6.3.1-osx', 'rattletrap-6.3.1-windows.exe', 'rattletrap-6.3.1-linux']\n"
     ]
    },
    {
     "name": "stderr",
     "output_type": "stream",
     "text": [
      "Player RLCS Observer 3 as player has no MatchScore.\n",
      "Score is not found for player\n",
      "Ignoring player: RLCS Observer 3 as player has no team.\n",
      "Player RLCS Admin as player has no MatchScore.\n",
      "Score is not found for player\n",
      "Ignoring player: RLCS Admin as player has no team.\n",
      "Player RLCS Observer 2 as player has no MatchScore.\n",
      "Score is not found for player\n",
      "Ignoring player: RLCS Observer 2 as player has no team.\n",
      "Player RLCS Observer 1 as player has no MatchScore.\n",
      "Score is not found for player\n",
      "Ignoring player: RLCS Observer 1 as player has no team.\n",
      "Dropping these columns[('game', 'is_overtime')]\n"
     ]
    },
    {
     "name": "stdout",
     "output_type": "stream",
     "text": [
      "replays/Week 3/M6 TSM v Vit/M6G4.replay\n",
      "['rattletrap-6.3.1-osx', 'rattletrap-6.3.1-windows.exe', 'rattletrap-6.3.1-linux']\n"
     ]
    },
    {
     "name": "stderr",
     "output_type": "stream",
     "text": [
      "Player RLCS Admin as player has no MatchScore.\n",
      "Score is not found for player\n",
      "Ignoring player: RLCS Admin as player has no team.\n",
      "Player RLCS Observer 2 as player has no MatchScore.\n",
      "Score is not found for player\n",
      "Ignoring player: RLCS Observer 2 as player has no team.\n",
      "Player RLCS Observer 3 as player has no MatchScore.\n",
      "Score is not found for player\n",
      "Ignoring player: RLCS Observer 3 as player has no team.\n",
      "Player RLCS Observer 1 as player has no MatchScore.\n",
      "Score is not found for player\n",
      "Ignoring player: RLCS Observer 1 as player has no team.\n"
     ]
    },
    {
     "name": "stdout",
     "output_type": "stream",
     "text": [
      "replays/Week 1/M2 TSM v Mouse/M2G2.replay\n",
      "['rattletrap-6.3.1-osx', 'rattletrap-6.3.1-windows.exe', 'rattletrap-6.3.1-linux']\n"
     ]
    },
    {
     "name": "stderr",
     "output_type": "stream",
     "text": [
      "Player RLCS Admin as player has no MatchScore.\n",
      "Score is not found for player\n",
      "Ignoring player: RLCS Admin as player has no team.\n",
      "Player RLCS Observer 3 as player has no MatchScore.\n",
      "Score is not found for player\n",
      "Ignoring player: RLCS Observer 3 as player has no team.\n",
      "Player RLCS Observer 1 as player has no MatchScore.\n",
      "Score is not found for player\n",
      "Ignoring player: RLCS Observer 1 as player has no team.\n",
      "Player RLCS Observer 2 as player has no MatchScore.\n",
      "Score is not found for player\n",
      "Ignoring player: RLCS Observer 2 as player has no team.\n",
      "Dropping these columns[('game', 'is_overtime')]\n"
     ]
    },
    {
     "name": "stdout",
     "output_type": "stream",
     "text": [
      "replays/Week 1/M2 TSM v Mouse/M2G3.replay\n",
      "['rattletrap-6.3.1-osx', 'rattletrap-6.3.1-windows.exe', 'rattletrap-6.3.1-linux']\n"
     ]
    },
    {
     "name": "stderr",
     "output_type": "stream",
     "text": [
      "Player RLCS Admin as player has no MatchScore.\n",
      "Score is not found for player\n",
      "Ignoring player: RLCS Admin as player has no team.\n",
      "Player RLCS Observer 3 as player has no MatchScore.\n",
      "Score is not found for player\n",
      "Ignoring player: RLCS Observer 3 as player has no team.\n",
      "Player RLCS Observer 2 as player has no MatchScore.\n",
      "Score is not found for player\n",
      "Ignoring player: RLCS Observer 2 as player has no team.\n",
      "Player RLCS Observer 1 as player has no MatchScore.\n",
      "Score is not found for player\n",
      "Ignoring player: RLCS Observer 1 as player has no team.\n",
      "Dropping these columns[('game', 'is_overtime')]\n"
     ]
    },
    {
     "name": "stdout",
     "output_type": "stream",
     "text": [
      "replays/Week 1/M2 TSM v Mouse/M2G4.replay\n",
      "['rattletrap-6.3.1-osx', 'rattletrap-6.3.1-windows.exe', 'rattletrap-6.3.1-linux']\n"
     ]
    },
    {
     "name": "stderr",
     "output_type": "stream",
     "text": [
      "Player RLCS Admin as player has no MatchScore.\n",
      "Score is not found for player\n",
      "Ignoring player: RLCS Admin as player has no team.\n",
      "Player RLCS Observer 3 as player has no MatchScore.\n",
      "Score is not found for player\n",
      "Ignoring player: RLCS Observer 3 as player has no team.\n",
      "Player RLCS Observer 1 as player has no MatchScore.\n",
      "Score is not found for player\n",
      "Ignoring player: RLCS Observer 1 as player has no team.\n",
      "Player RLCS Observer 2 as player has no MatchScore.\n",
      "Score is not found for player\n",
      "Ignoring player: RLCS Observer 2 as player has no team.\n",
      "Dropping these columns[('game', 'is_overtime')]\n"
     ]
    },
    {
     "name": "stdout",
     "output_type": "stream",
     "text": [
      "replays/Week 1/M2 TSM v Mouse/M2G1.replay\n",
      "['rattletrap-6.3.1-osx', 'rattletrap-6.3.1-windows.exe', 'rattletrap-6.3.1-linux']\n"
     ]
    },
    {
     "name": "stderr",
     "output_type": "stream",
     "text": [
      "Player RLCS Admin as player has no MatchScore.\n",
      "Score is not found for player\n",
      "Ignoring player: RLCS Admin as player has no team.\n",
      "Player RLCS Observer 2 as player has no MatchScore.\n",
      "Score is not found for player\n",
      "Ignoring player: RLCS Observer 2 as player has no team.\n",
      "Player RLCS Observer 3 as player has no MatchScore.\n",
      "Score is not found for player\n",
      "Ignoring player: RLCS Observer 3 as player has no team.\n",
      "Player RLCS Observer 1 as player has no MatchScore.\n",
      "Score is not found for player\n",
      "Ignoring player: RLCS Observer 1 as player has no team.\n",
      "Dropping these columns[('game', 'is_overtime')]\n",
      "Goal is not shot: frame_number: 5163\n",
      "player_id {\n",
      "  id: \"76561198011715777\"\n",
      "}\n",
      "collision_distance: 149.76722717285156\n",
      "ball_data {\n",
      "  pos_x: -55.880001068115234\n",
      "  pos_y: 4831.52978515625\n",
      "  pos_z: 433.4100036621094\n",
      "}\n",
      "dribble_continuation: true\n",
      "goal: true\n",
      "assisted: true\n",
      "aerial: true\n",
      "distance: 221.77491760253906\n",
      "distance_to_goal: 894.9611206054688\n",
      "previous_hit_frame_number: 5134\n",
      "next_hit_frame_number: 5168\n",
      "goal_number: 2\n",
      "is_kickoff: false\n",
      "\n"
     ]
    },
    {
     "name": "stdout",
     "output_type": "stream",
     "text": [
      "replays/Week 1/M5 G2 v Spacestation/M5G4.replay\n",
      "['rattletrap-6.3.1-osx', 'rattletrap-6.3.1-windows.exe', 'rattletrap-6.3.1-linux']\n"
     ]
    },
    {
     "name": "stderr",
     "output_type": "stream",
     "text": [
      "Player RLCS Admin as player has no MatchScore.\n",
      "Score is not found for player\n",
      "Ignoring player: RLCS Admin as player has no team.\n",
      "Player RLCS Observer 1 as player has no MatchScore.\n",
      "Score is not found for player\n",
      "Ignoring player: RLCS Observer 1 as player has no team.\n",
      "Player RLCS Observer 3 as player has no MatchScore.\n",
      "Score is not found for player\n",
      "Ignoring player: RLCS Observer 3 as player has no team.\n",
      "Player RLCS Observer 2 as player has no MatchScore.\n",
      "Score is not found for player\n",
      "Ignoring player: RLCS Observer 2 as player has no team.\n",
      "Dropping these columns[('game', 'is_overtime')]\n",
      "Goal is not shot: frame_number: 8781\n",
      "player_id {\n",
      "  id: \"76561198149461762\"\n",
      "}\n",
      "collision_distance: 218.55178833007812\n",
      "ball_data {\n",
      "  pos_x: 1587.6500244140625\n",
      "  pos_y: -1611.239990234375\n",
      "  pos_z: 91.26000213623047\n",
      "}\n",
      "dribble_continuation: true\n",
      "goal: true\n",
      "distance: 2275.158447265625\n",
      "distance_to_goal: 4315.1669921875\n",
      "previous_hit_frame_number: 8736\n",
      "goal_number: 5\n",
      "is_kickoff: false\n",
      "\n"
     ]
    },
    {
     "name": "stdout",
     "output_type": "stream",
     "text": [
      "replays/Week 1/M5 G2 v Spacestation/M5G2.replay\n",
      "['rattletrap-6.3.1-osx', 'rattletrap-6.3.1-windows.exe', 'rattletrap-6.3.1-linux']\n"
     ]
    },
    {
     "name": "stderr",
     "output_type": "stream",
     "text": [
      "Player RLCS Admin as player has no MatchScore.\n",
      "Score is not found for player\n",
      "Ignoring player: RLCS Admin as player has no team.\n",
      "Player RLCS Observer 3 as player has no MatchScore.\n",
      "Score is not found for player\n",
      "Ignoring player: RLCS Observer 3 as player has no team.\n",
      "Player RLCS Observer 2 as player has no MatchScore.\n",
      "Score is not found for player\n",
      "Ignoring player: RLCS Observer 2 as player has no team.\n",
      "Player RLCS Observer 1 as player has no MatchScore.\n",
      "Score is not found for player\n",
      "Ignoring player: RLCS Observer 1 as player has no team.\n"
     ]
    },
    {
     "name": "stdout",
     "output_type": "stream",
     "text": [
      "replays/Week 1/M5 G2 v Spacestation/M5G5.replay\n",
      "['rattletrap-6.3.1-osx', 'rattletrap-6.3.1-windows.exe', 'rattletrap-6.3.1-linux']\n"
     ]
    },
    {
     "name": "stderr",
     "output_type": "stream",
     "text": [
      "Player RLCS Admin as player has no MatchScore.\n",
      "Score is not found for player\n",
      "Ignoring player: RLCS Admin as player has no team.\n",
      "Player RLCS Observer 2 as player has no MatchScore.\n",
      "Score is not found for player\n",
      "Ignoring player: RLCS Observer 2 as player has no team.\n",
      "Player RLCS Observer 3 as player has no MatchScore.\n",
      "Score is not found for player\n",
      "Ignoring player: RLCS Observer 3 as player has no team.\n",
      "Player RLCS Observer 1 as player has no MatchScore.\n",
      "Score is not found for player\n",
      "Ignoring player: RLCS Observer 1 as player has no team.\n",
      "Dropping these columns[('game', 'is_overtime')]\n"
     ]
    },
    {
     "name": "stdout",
     "output_type": "stream",
     "text": [
      "replays/Week 1/M5 G2 v Spacestation/M5G3.replay\n",
      "['rattletrap-6.3.1-osx', 'rattletrap-6.3.1-windows.exe', 'rattletrap-6.3.1-linux']\n"
     ]
    },
    {
     "name": "stderr",
     "output_type": "stream",
     "text": [
      "Player RLCS Admin as player has no MatchScore.\n",
      "Score is not found for player\n",
      "Ignoring player: RLCS Admin as player has no team.\n",
      "Player RLCS Observer 2 as player has no MatchScore.\n",
      "Score is not found for player\n",
      "Ignoring player: RLCS Observer 2 as player has no team.\n",
      "Player RLCS Observer 1 as player has no MatchScore.\n",
      "Score is not found for player\n",
      "Ignoring player: RLCS Observer 1 as player has no team.\n",
      "Player RLCS Observer 3 as player has no MatchScore.\n",
      "Score is not found for player\n",
      "Ignoring player: RLCS Observer 3 as player has no team.\n",
      "Dropping these columns[('game', 'is_overtime')]\n"
     ]
    },
    {
     "name": "stdout",
     "output_type": "stream",
     "text": [
      "replays/Week 1/M5 G2 v Spacestation/M5G1.replay\n",
      "['rattletrap-6.3.1-osx', 'rattletrap-6.3.1-windows.exe', 'rattletrap-6.3.1-linux']\n"
     ]
    },
    {
     "name": "stderr",
     "output_type": "stream",
     "text": [
      "Player RLCS Admin as player has no MatchScore.\n",
      "Score is not found for player\n",
      "Ignoring player: RLCS Admin as player has no team.\n",
      "Player RLCS Observer 3 as player has no MatchScore.\n",
      "Score is not found for player\n",
      "Ignoring player: RLCS Observer 3 as player has no team.\n",
      "Player RLCS Observer 2 as player has no MatchScore.\n",
      "Score is not found for player\n",
      "Ignoring player: RLCS Observer 2 as player has no team.\n",
      "Player RLCS Observer 1 as player has no MatchScore.\n",
      "Score is not found for player\n",
      "Ignoring player: RLCS Observer 1 as player has no team.\n",
      "Dropping these columns[('game', 'is_overtime')]\n"
     ]
    },
    {
     "name": "stdout",
     "output_type": "stream",
     "text": [
      "replays/Week 1/M4 Ghost v Splyce/M4G1.replay\n",
      "['rattletrap-6.3.1-osx', 'rattletrap-6.3.1-windows.exe', 'rattletrap-6.3.1-linux']\n"
     ]
    },
    {
     "name": "stderr",
     "output_type": "stream",
     "text": [
      "Player RLCS Admin as player has no MatchScore.\n",
      "Score is not found for player\n",
      "Ignoring player: RLCS Admin as player has no team.\n",
      "Player RLCS Observer 2 as player has no MatchScore.\n",
      "Score is not found for player\n",
      "Ignoring player: RLCS Observer 2 as player has no team.\n",
      "Player RLCS Observer 1 as player has no MatchScore.\n",
      "Score is not found for player\n",
      "Ignoring player: RLCS Observer 1 as player has no team.\n",
      "Player RLCS Observer 3 as player has no MatchScore.\n",
      "Score is not found for player\n",
      "Ignoring player: RLCS Observer 3 as player has no team.\n"
     ]
    },
    {
     "name": "stdout",
     "output_type": "stream",
     "text": [
      "replays/Week 1/M4 Ghost v Splyce/M4G2.replay\n",
      "['rattletrap-6.3.1-osx', 'rattletrap-6.3.1-windows.exe', 'rattletrap-6.3.1-linux']\n"
     ]
    },
    {
     "name": "stderr",
     "output_type": "stream",
     "text": [
      "Player RLCS Admin as player has no MatchScore.\n",
      "Score is not found for player\n",
      "Ignoring player: RLCS Admin as player has no team.\n",
      "Player RLCS Observer 3 as player has no MatchScore.\n",
      "Score is not found for player\n",
      "Ignoring player: RLCS Observer 3 as player has no team.\n",
      "Player RLCS Observer 1 as player has no MatchScore.\n",
      "Score is not found for player\n",
      "Ignoring player: RLCS Observer 1 as player has no team.\n",
      "Player RLCS Observer 2 as player has no MatchScore.\n",
      "Score is not found for player\n",
      "Ignoring player: RLCS Observer 2 as player has no team.\n",
      "Dropping these columns[('game', 'is_overtime')]\n"
     ]
    },
    {
     "name": "stdout",
     "output_type": "stream",
     "text": [
      "replays/Week 1/M4 Ghost v Splyce/M4G5.replay\n",
      "['rattletrap-6.3.1-osx', 'rattletrap-6.3.1-windows.exe', 'rattletrap-6.3.1-linux']\n"
     ]
    },
    {
     "name": "stderr",
     "output_type": "stream",
     "text": [
      "Player RLCS Admin as player has no MatchScore.\n",
      "Score is not found for player\n",
      "Ignoring player: RLCS Admin as player has no team.\n",
      "Player RLCS Observer 2 as player has no MatchScore.\n",
      "Score is not found for player\n",
      "Ignoring player: RLCS Observer 2 as player has no team.\n",
      "Player RLCS Observer 3 as player has no MatchScore.\n",
      "Score is not found for player\n",
      "Ignoring player: RLCS Observer 3 as player has no team.\n",
      "Player RLCS Observer 1 as player has no MatchScore.\n",
      "Score is not found for player\n",
      "Ignoring player: RLCS Observer 1 as player has no team.\n",
      "Dropping these columns[('game', 'is_overtime')]\n"
     ]
    },
    {
     "name": "stdout",
     "output_type": "stream",
     "text": [
      "replays/Week 1/M4 Ghost v Splyce/M4G4.replay\n",
      "['rattletrap-6.3.1-osx', 'rattletrap-6.3.1-windows.exe', 'rattletrap-6.3.1-linux']\n"
     ]
    },
    {
     "name": "stderr",
     "output_type": "stream",
     "text": [
      "Player RLCS Admin as player has no MatchScore.\n",
      "Score is not found for player\n",
      "Ignoring player: RLCS Admin as player has no team.\n",
      "Player RLCS Observer 3 as player has no MatchScore.\n",
      "Score is not found for player\n",
      "Ignoring player: RLCS Observer 3 as player has no team.\n",
      "Player RLCS Observer 2 as player has no MatchScore.\n",
      "Score is not found for player\n",
      "Ignoring player: RLCS Observer 2 as player has no team.\n",
      "Player RLCS Observer 1 as player has no MatchScore.\n",
      "Score is not found for player\n",
      "Ignoring player: RLCS Observer 1 as player has no team.\n",
      "Dropping these columns[('game', 'is_overtime')]\n"
     ]
    },
    {
     "name": "stdout",
     "output_type": "stream",
     "text": [
      "replays/Week 1/M4 Ghost v Splyce/M4G3.replay\n",
      "['rattletrap-6.3.1-osx', 'rattletrap-6.3.1-windows.exe', 'rattletrap-6.3.1-linux']\n"
     ]
    },
    {
     "name": "stderr",
     "output_type": "stream",
     "text": [
      "Player RLCS Admin as player has no MatchScore.\n",
      "Score is not found for player\n",
      "Ignoring player: RLCS Admin as player has no team.\n",
      "Player RLCS Observer 1 as player has no MatchScore.\n",
      "Score is not found for player\n",
      "Ignoring player: RLCS Observer 1 as player has no team.\n",
      "Player RLCS Observer 3 as player has no MatchScore.\n",
      "Score is not found for player\n",
      "Ignoring player: RLCS Observer 3 as player has no team.\n",
      "Player RLCS Observer 2 as player has no MatchScore.\n",
      "Score is not found for player\n",
      "Ignoring player: RLCS Observer 2 as player has no team.\n",
      "Dropping these columns[('game', 'is_overtime')]\n"
     ]
    },
    {
     "name": "stdout",
     "output_type": "stream",
     "text": [
      "replays/Week 1/M1 TT v Bricks/M1G1.replay\n",
      "['rattletrap-6.3.1-osx', 'rattletrap-6.3.1-windows.exe', 'rattletrap-6.3.1-linux']\n"
     ]
    },
    {
     "name": "stderr",
     "output_type": "stream",
     "text": [
      "Player RLCS Admin as player has no MatchScore.\n",
      "Score is not found for player\n",
      "Ignoring player: RLCS Admin as player has no team.\n",
      "Player RLCS Observer 1 as player has no MatchScore.\n",
      "Score is not found for player\n",
      "Ignoring player: RLCS Observer 1 as player has no team.\n",
      "Player RLCS Observer 2 as player has no MatchScore.\n",
      "Score is not found for player\n",
      "Ignoring player: RLCS Observer 2 as player has no team.\n",
      "Player RLCS Observer 3 as player has no MatchScore.\n",
      "Score is not found for player\n",
      "Ignoring player: RLCS Observer 3 as player has no team.\n",
      "Dropping these columns[('game', 'is_overtime')]\n"
     ]
    },
    {
     "name": "stdout",
     "output_type": "stream",
     "text": [
      "replays/Week 1/M1 TT v Bricks/M1G3.replay\n",
      "['rattletrap-6.3.1-osx', 'rattletrap-6.3.1-windows.exe', 'rattletrap-6.3.1-linux']\n"
     ]
    },
    {
     "name": "stderr",
     "output_type": "stream",
     "text": [
      "Player RLCS Admin as player has no MatchScore.\n",
      "Score is not found for player\n",
      "Ignoring player: RLCS Admin as player has no team.\n",
      "Player RLCS Observer 1 as player has no MatchScore.\n",
      "Score is not found for player\n",
      "Ignoring player: RLCS Observer 1 as player has no team.\n",
      "Player RLCS Observer 2 as player has no MatchScore.\n",
      "Score is not found for player\n",
      "Ignoring player: RLCS Observer 2 as player has no team.\n",
      "Player RLCS Observer 3 as player has no MatchScore.\n",
      "Score is not found for player\n",
      "Ignoring player: RLCS Observer 3 as player has no team.\n",
      "Dropping these columns[('game', 'is_overtime')]\n",
      "Goal is not shot: frame_number: 5518\n",
      "player_id {\n",
      "  id: \"76561198072696308\"\n",
      "}\n",
      "collision_distance: 79.90066528320312\n",
      "ball_data {\n",
      "  pos_x: 998.8099975585938\n",
      "  pos_y: -4895.52001953125\n",
      "  pos_z: 622.6099853515625\n",
      "}\n",
      "goal: true\n",
      "aerial: true\n",
      "distance: 1102.4267578125\n",
      "distance_to_goal: 1910.51708984375\n",
      "previous_hit_frame_number: 5466\n",
      "next_hit_frame_number: 5535\n",
      "goal_number: 1\n",
      "is_kickoff: false\n",
      "\n"
     ]
    },
    {
     "name": "stdout",
     "output_type": "stream",
     "text": [
      "replays/Week 1/M1 TT v Bricks/M1G5.replay\n",
      "['rattletrap-6.3.1-osx', 'rattletrap-6.3.1-windows.exe', 'rattletrap-6.3.1-linux']\n"
     ]
    },
    {
     "name": "stderr",
     "output_type": "stream",
     "text": [
      "Player RLCS Admin as player has no MatchScore.\n",
      "Score is not found for player\n",
      "Ignoring player: RLCS Admin as player has no team.\n",
      "Player RLCS Observer 2 as player has no MatchScore.\n",
      "Score is not found for player\n",
      "Ignoring player: RLCS Observer 2 as player has no team.\n",
      "Player RLCS Observer 1 as player has no MatchScore.\n",
      "Score is not found for player\n",
      "Ignoring player: RLCS Observer 1 as player has no team.\n",
      "Player RLCS Observer 3 as player has no MatchScore.\n",
      "Score is not found for player\n",
      "Ignoring player: RLCS Observer 3 as player has no team.\n"
     ]
    },
    {
     "name": "stdout",
     "output_type": "stream",
     "text": [
      "replays/Week 1/M1 TT v Bricks/M1G4.replay\n",
      "['rattletrap-6.3.1-osx', 'rattletrap-6.3.1-windows.exe', 'rattletrap-6.3.1-linux']\n"
     ]
    },
    {
     "name": "stderr",
     "output_type": "stream",
     "text": [
      "Player RLCS Admin as player has no MatchScore.\n",
      "Score is not found for player\n",
      "Ignoring player: RLCS Admin as player has no team.\n",
      "Player RLCS Observer 2 as player has no MatchScore.\n",
      "Score is not found for player\n",
      "Ignoring player: RLCS Observer 2 as player has no team.\n",
      "Player RLCS Observer 3 as player has no MatchScore.\n",
      "Score is not found for player\n",
      "Ignoring player: RLCS Observer 3 as player has no team.\n",
      "Player RLCS Observer 1 as player has no MatchScore.\n",
      "Score is not found for player\n",
      "Ignoring player: RLCS Observer 1 as player has no team.\n",
      "Dropping these columns[('game', 'is_overtime')]\n"
     ]
    },
    {
     "name": "stdout",
     "output_type": "stream",
     "text": [
      "replays/Week 1/M1 TT v Bricks/M1G2.replay\n",
      "['rattletrap-6.3.1-osx', 'rattletrap-6.3.1-windows.exe', 'rattletrap-6.3.1-linux']\n"
     ]
    },
    {
     "name": "stderr",
     "output_type": "stream",
     "text": [
      "Player RLCS Admin as player has no MatchScore.\n",
      "Score is not found for player\n",
      "Ignoring player: RLCS Admin as player has no team.\n",
      "Player RLCS Observer 1 as player has no MatchScore.\n",
      "Score is not found for player\n",
      "Ignoring player: RLCS Observer 1 as player has no team.\n",
      "Player RLCS Observer 2 as player has no MatchScore.\n",
      "Score is not found for player\n",
      "Ignoring player: RLCS Observer 2 as player has no team.\n",
      "Player RLCS Observer 3 as player has no MatchScore.\n",
      "Score is not found for player\n",
      "Ignoring player: RLCS Observer 3 as player has no team.\n"
     ]
    },
    {
     "name": "stdout",
     "output_type": "stream",
     "text": [
      "replays/Week 1/M2 C9 v Splyce/M2G2.replay\n",
      "['rattletrap-6.3.1-osx', 'rattletrap-6.3.1-windows.exe', 'rattletrap-6.3.1-linux']\n"
     ]
    },
    {
     "name": "stderr",
     "output_type": "stream",
     "text": [
      "Player RLCS Admin as player has no MatchScore.\n",
      "Score is not found for player\n",
      "Ignoring player: RLCS Admin as player has no team.\n",
      "Player RLCS Observer 1 as player has no MatchScore.\n",
      "Score is not found for player\n",
      "Ignoring player: RLCS Observer 1 as player has no team.\n",
      "Player RLCS Observer 2 as player has no MatchScore.\n",
      "Score is not found for player\n",
      "Ignoring player: RLCS Observer 2 as player has no team.\n",
      "Player RLCS Observer 3 as player has no MatchScore.\n",
      "Score is not found for player\n",
      "Ignoring player: RLCS Observer 3 as player has no team.\n"
     ]
    },
    {
     "name": "stdout",
     "output_type": "stream",
     "text": [
      "replays/Week 1/M2 C9 v Splyce/M2G3.replay\n",
      "['rattletrap-6.3.1-osx', 'rattletrap-6.3.1-windows.exe', 'rattletrap-6.3.1-linux']\n"
     ]
    },
    {
     "name": "stderr",
     "output_type": "stream",
     "text": [
      "Player RLCS Admin as player has no MatchScore.\n",
      "Score is not found for player\n",
      "Ignoring player: RLCS Admin as player has no team.\n",
      "Player RLCS Observer 2 as player has no MatchScore.\n",
      "Score is not found for player\n",
      "Ignoring player: RLCS Observer 2 as player has no team.\n",
      "Player RLCS Observer 3 as player has no MatchScore.\n",
      "Score is not found for player\n",
      "Ignoring player: RLCS Observer 3 as player has no team.\n",
      "Player RLCS Observer 1 as player has no MatchScore.\n",
      "Score is not found for player\n",
      "Ignoring player: RLCS Observer 1 as player has no team.\n",
      "Goal is not shot: frame_number: 4280\n",
      "player_id {\n",
      "  id: \"76561198053209198\"\n",
      "}\n",
      "collision_distance: 197.99417114257812\n",
      "ball_data {\n",
      "  pos_x: 2945.489990234375\n",
      "  pos_y: -1041.969970703125\n",
      "  pos_z: 575.8699951171875\n",
      "}\n",
      "goal: true\n",
      "aerial: true\n",
      "distance: 2949.390380859375\n",
      "distance_to_goal: 5617.0185546875\n",
      "previous_hit_frame_number: 4191\n",
      "next_hit_frame_number: 4323\n",
      "goal_number: 2\n",
      "is_kickoff: false\n",
      "\n"
     ]
    },
    {
     "name": "stdout",
     "output_type": "stream",
     "text": [
      "replays/Week 1/M4 TT v Mouse/M4G1.replay\n",
      "['rattletrap-6.3.1-osx', 'rattletrap-6.3.1-windows.exe', 'rattletrap-6.3.1-linux']\n"
     ]
    },
    {
     "name": "stderr",
     "output_type": "stream",
     "text": [
      "Player RLCS Admin as player has no MatchScore.\n",
      "Score is not found for player\n",
      "Ignoring player: RLCS Admin as player has no team.\n",
      "Player RLCS Observer 3 as player has no MatchScore.\n",
      "Score is not found for player\n",
      "Ignoring player: RLCS Observer 3 as player has no team.\n",
      "Player RLCS Observer 1 as player has no MatchScore.\n",
      "Score is not found for player\n",
      "Ignoring player: RLCS Observer 1 as player has no team.\n",
      "Player RLCS Observer 2 as player has no MatchScore.\n",
      "Score is not found for player\n",
      "Ignoring player: RLCS Observer 2 as player has no team.\n",
      "Dropping these columns[('game', 'is_overtime')]\n"
     ]
    },
    {
     "name": "stdout",
     "output_type": "stream",
     "text": [
      "replays/Week 1/M4 TT v Mouse/M4G2.replay\n",
      "['rattletrap-6.3.1-osx', 'rattletrap-6.3.1-windows.exe', 'rattletrap-6.3.1-linux']\n"
     ]
    },
    {
     "name": "stderr",
     "output_type": "stream",
     "text": [
      "Player RLCS Admin as player has no MatchScore.\n",
      "Score is not found for player\n",
      "Ignoring player: RLCS Admin as player has no team.\n",
      "Player RLCS Observer 2 as player has no MatchScore.\n",
      "Score is not found for player\n",
      "Ignoring player: RLCS Observer 2 as player has no team.\n",
      "Player RLCS Observer 1 as player has no MatchScore.\n",
      "Score is not found for player\n",
      "Ignoring player: RLCS Observer 1 as player has no team.\n",
      "Player RLCS Observer 3 as player has no MatchScore.\n",
      "Score is not found for player\n",
      "Ignoring player: RLCS Observer 3 as player has no team.\n",
      "Dropping these columns[('game', 'is_overtime')]\n"
     ]
    },
    {
     "name": "stdout",
     "output_type": "stream",
     "text": [
      "replays/Week 1/M4 TT v Mouse/M4G4.replay\n",
      "['rattletrap-6.3.1-osx', 'rattletrap-6.3.1-windows.exe', 'rattletrap-6.3.1-linux']\n"
     ]
    },
    {
     "name": "stderr",
     "output_type": "stream",
     "text": [
      "Player RLCS Admin as player has no MatchScore.\n",
      "Score is not found for player\n",
      "Ignoring player: RLCS Admin as player has no team.\n",
      "Player RLCS Observer 2 as player has no MatchScore.\n",
      "Score is not found for player\n",
      "Ignoring player: RLCS Observer 2 as player has no team.\n",
      "Player RLCS Observer 1 as player has no MatchScore.\n",
      "Score is not found for player\n",
      "Ignoring player: RLCS Observer 1 as player has no team.\n",
      "Player RLCS Observer 3 as player has no MatchScore.\n",
      "Score is not found for player\n",
      "Ignoring player: RLCS Observer 3 as player has no team.\n"
     ]
    },
    {
     "name": "stdout",
     "output_type": "stream",
     "text": [
      "replays/Week 1/M4 TT v Mouse/M4G3.replay\n",
      "['rattletrap-6.3.1-osx', 'rattletrap-6.3.1-windows.exe', 'rattletrap-6.3.1-linux']\n"
     ]
    },
    {
     "name": "stderr",
     "output_type": "stream",
     "text": [
      "Player RLCS Admin as player has no MatchScore.\n",
      "Score is not found for player\n",
      "Ignoring player: RLCS Admin as player has no team.\n",
      "Player RLCS Observer 2 as player has no MatchScore.\n",
      "Score is not found for player\n",
      "Ignoring player: RLCS Observer 2 as player has no team.\n",
      "Player RLCS Observer 3 as player has no MatchScore.\n",
      "Score is not found for player\n",
      "Ignoring player: RLCS Observer 3 as player has no team.\n",
      "Player RLCS Observer 1 as player has no MatchScore.\n",
      "Score is not found for player\n",
      "Ignoring player: RLCS Observer 1 as player has no team.\n"
     ]
    },
    {
     "name": "stdout",
     "output_type": "stream",
     "text": [
      "replays/Week 1/M1 Ghost v NRG/M1G1.replay\n",
      "['rattletrap-6.3.1-osx', 'rattletrap-6.3.1-windows.exe', 'rattletrap-6.3.1-linux']\n"
     ]
    },
    {
     "name": "stderr",
     "output_type": "stream",
     "text": [
      "Player RLCS Admin as player has no MatchScore.\n",
      "Score is not found for player\n",
      "Ignoring player: RLCS Admin as player has no team.\n",
      "Player RLCS Observer 2 as player has no MatchScore.\n",
      "Score is not found for player\n",
      "Ignoring player: RLCS Observer 2 as player has no team.\n",
      "Player RLCS Observer 1 as player has no MatchScore.\n",
      "Score is not found for player\n",
      "Ignoring player: RLCS Observer 1 as player has no team.\n",
      "Player RLCS Observer 3 as player has no MatchScore.\n",
      "Score is not found for player\n",
      "Ignoring player: RLCS Observer 3 as player has no team.\n",
      "Dropping these columns[('game', 'is_overtime')]\n",
      "Failure to write pandas [] to memory: 'latin-1' codec can't encode character '\\u30c4' in position 4632: ordinal not in range(256)\n",
      "Traceback (most recent call last):\n",
      "  File \"/usr/local/lib/python3.6/dist-packages/carball/analysis/utils/pandas_manager.py\", line 20, in safe_write_pandas_to_memory\n",
      "    return PandasManager.write_numpy_to_memory(df)\n",
      "  File \"/usr/local/lib/python3.6/dist-packages/carball/analysis/utils/pandas_manager.py\", line 35, in write_numpy_to_memory\n",
      "    write_array_to_file(compressed_array, numpy_array)\n",
      "  File \"/usr/local/lib/python3.6/dist-packages/carball/analysis/utils/numpy_manager.py\", line 17, in write_array_to_file\n",
      "    bytes = convert_numpy_array(array)\n",
      "  File \"/usr/local/lib/python3.6/dist-packages/carball/analysis/utils/numpy_manager.py\", line 30, in convert_numpy_array\n",
      "    np.save(compressed_array, numpy_array, allow_pickle=True, fix_imports=False)\n",
      "  File \"/home/jonah/.local/lib/python3.6/site-packages/numpy/lib/npyio.py\", line 529, in save\n",
      "    pickle_kwargs=pickle_kwargs)\n",
      "  File \"/home/jonah/.local/lib/python3.6/site-packages/numpy/lib/format.py\", line 608, in write_array\n",
      "    version)\n",
      "  File \"/home/jonah/.local/lib/python3.6/site-packages/numpy/lib/format.py\", line 351, in _write_array_header\n",
      "    header = asbytes(_filter_header(header))\n",
      "  File \"/home/jonah/.local/lib/python3.6/site-packages/numpy/compat/py3k.py\", line 36, in asbytes\n",
      "    return str(s).encode('latin1')\n",
      "UnicodeEncodeError: 'latin-1' codec can't encode character '\\u30c4' in position 4632: ordinal not in range(256)\n"
     ]
    },
    {
     "name": "stdout",
     "output_type": "stream",
     "text": [
      "replays/Week 1/M1 Ghost v NRG/M1G3.replay\n",
      "['rattletrap-6.3.1-osx', 'rattletrap-6.3.1-windows.exe', 'rattletrap-6.3.1-linux']\n"
     ]
    },
    {
     "name": "stderr",
     "output_type": "stream",
     "text": [
      "Player RLCS Admin as player has no MatchScore.\n",
      "Score is not found for player\n",
      "Ignoring player: RLCS Admin as player has no team.\n",
      "Player RLCS Observer 2 as player has no MatchScore.\n",
      "Score is not found for player\n",
      "Ignoring player: RLCS Observer 2 as player has no team.\n",
      "Player RLCS Observer 1 as player has no MatchScore.\n",
      "Score is not found for player\n",
      "Ignoring player: RLCS Observer 1 as player has no team.\n",
      "Player RLCS Observer 3 as player has no MatchScore.\n",
      "Score is not found for player\n",
      "Ignoring player: RLCS Observer 3 as player has no team.\n",
      "Dropping these columns[('game', 'is_overtime')]\n",
      "Failure to write pandas [] to memory: 'latin-1' codec can't encode character '\\u30c4' in position 4632: ordinal not in range(256)\n",
      "Traceback (most recent call last):\n",
      "  File \"/usr/local/lib/python3.6/dist-packages/carball/analysis/utils/pandas_manager.py\", line 20, in safe_write_pandas_to_memory\n",
      "    return PandasManager.write_numpy_to_memory(df)\n",
      "  File \"/usr/local/lib/python3.6/dist-packages/carball/analysis/utils/pandas_manager.py\", line 35, in write_numpy_to_memory\n",
      "    write_array_to_file(compressed_array, numpy_array)\n",
      "  File \"/usr/local/lib/python3.6/dist-packages/carball/analysis/utils/numpy_manager.py\", line 17, in write_array_to_file\n",
      "    bytes = convert_numpy_array(array)\n",
      "  File \"/usr/local/lib/python3.6/dist-packages/carball/analysis/utils/numpy_manager.py\", line 30, in convert_numpy_array\n",
      "    np.save(compressed_array, numpy_array, allow_pickle=True, fix_imports=False)\n",
      "  File \"/home/jonah/.local/lib/python3.6/site-packages/numpy/lib/npyio.py\", line 529, in save\n",
      "    pickle_kwargs=pickle_kwargs)\n",
      "  File \"/home/jonah/.local/lib/python3.6/site-packages/numpy/lib/format.py\", line 608, in write_array\n",
      "    version)\n",
      "  File \"/home/jonah/.local/lib/python3.6/site-packages/numpy/lib/format.py\", line 351, in _write_array_header\n",
      "    header = asbytes(_filter_header(header))\n",
      "  File \"/home/jonah/.local/lib/python3.6/site-packages/numpy/compat/py3k.py\", line 36, in asbytes\n",
      "    return str(s).encode('latin1')\n",
      "UnicodeEncodeError: 'latin-1' codec can't encode character '\\u30c4' in position 4632: ordinal not in range(256)\n"
     ]
    },
    {
     "name": "stdout",
     "output_type": "stream",
     "text": [
      "replays/Week 1/M1 Ghost v NRG/M1G4.replay\n",
      "['rattletrap-6.3.1-osx', 'rattletrap-6.3.1-windows.exe', 'rattletrap-6.3.1-linux']\n"
     ]
    },
    {
     "name": "stderr",
     "output_type": "stream",
     "text": [
      "Player RLCS Admin as player has no MatchScore.\n",
      "Score is not found for player\n",
      "Ignoring player: RLCS Admin as player has no team.\n",
      "Player RLCS Observer 1 as player has no MatchScore.\n",
      "Score is not found for player\n",
      "Ignoring player: RLCS Observer 1 as player has no team.\n",
      "Player RLCS Observer 3 as player has no MatchScore.\n",
      "Score is not found for player\n",
      "Ignoring player: RLCS Observer 3 as player has no team.\n",
      "Player RLCS Observer 2 as player has no MatchScore.\n",
      "Score is not found for player\n",
      "Ignoring player: RLCS Observer 2 as player has no team.\n",
      "Dropping these columns[('game', 'is_overtime')]\n",
      "Failure to write pandas [] to memory: 'latin-1' codec can't encode character '\\u30c4' in position 4632: ordinal not in range(256)\n",
      "Traceback (most recent call last):\n",
      "  File \"/usr/local/lib/python3.6/dist-packages/carball/analysis/utils/pandas_manager.py\", line 20, in safe_write_pandas_to_memory\n",
      "    return PandasManager.write_numpy_to_memory(df)\n",
      "  File \"/usr/local/lib/python3.6/dist-packages/carball/analysis/utils/pandas_manager.py\", line 35, in write_numpy_to_memory\n",
      "    write_array_to_file(compressed_array, numpy_array)\n",
      "  File \"/usr/local/lib/python3.6/dist-packages/carball/analysis/utils/numpy_manager.py\", line 17, in write_array_to_file\n",
      "    bytes = convert_numpy_array(array)\n",
      "  File \"/usr/local/lib/python3.6/dist-packages/carball/analysis/utils/numpy_manager.py\", line 30, in convert_numpy_array\n",
      "    np.save(compressed_array, numpy_array, allow_pickle=True, fix_imports=False)\n",
      "  File \"/home/jonah/.local/lib/python3.6/site-packages/numpy/lib/npyio.py\", line 529, in save\n",
      "    pickle_kwargs=pickle_kwargs)\n",
      "  File \"/home/jonah/.local/lib/python3.6/site-packages/numpy/lib/format.py\", line 608, in write_array\n",
      "    version)\n",
      "  File \"/home/jonah/.local/lib/python3.6/site-packages/numpy/lib/format.py\", line 351, in _write_array_header\n",
      "    header = asbytes(_filter_header(header))\n",
      "  File \"/home/jonah/.local/lib/python3.6/site-packages/numpy/compat/py3k.py\", line 36, in asbytes\n",
      "    return str(s).encode('latin1')\n",
      "UnicodeEncodeError: 'latin-1' codec can't encode character '\\u30c4' in position 4632: ordinal not in range(256)\n"
     ]
    },
    {
     "name": "stdout",
     "output_type": "stream",
     "text": [
      "replays/Week 1/M1 Ghost v NRG/M1G2.replay\n",
      "['rattletrap-6.3.1-osx', 'rattletrap-6.3.1-windows.exe', 'rattletrap-6.3.1-linux']\n"
     ]
    },
    {
     "name": "stderr",
     "output_type": "stream",
     "text": [
      "Player RLCS Admin as player has no MatchScore.\n",
      "Score is not found for player\n",
      "Ignoring player: RLCS Admin as player has no team.\n",
      "Player RLCS Observer 2 as player has no MatchScore.\n",
      "Score is not found for player\n",
      "Ignoring player: RLCS Observer 2 as player has no team.\n",
      "Player RLCS Observer 1 as player has no MatchScore.\n",
      "Score is not found for player\n",
      "Ignoring player: RLCS Observer 1 as player has no team.\n",
      "Player RLCS Observer 3 as player has no MatchScore.\n",
      "Score is not found for player\n",
      "Ignoring player: RLCS Observer 3 as player has no team.\n",
      "Failure to write pandas [] to memory: 'latin-1' codec can't encode character '\\u30c4' in position 4632: ordinal not in range(256)\n",
      "Traceback (most recent call last):\n",
      "  File \"/usr/local/lib/python3.6/dist-packages/carball/analysis/utils/pandas_manager.py\", line 20, in safe_write_pandas_to_memory\n",
      "    return PandasManager.write_numpy_to_memory(df)\n",
      "  File \"/usr/local/lib/python3.6/dist-packages/carball/analysis/utils/pandas_manager.py\", line 35, in write_numpy_to_memory\n",
      "    write_array_to_file(compressed_array, numpy_array)\n",
      "  File \"/usr/local/lib/python3.6/dist-packages/carball/analysis/utils/numpy_manager.py\", line 17, in write_array_to_file\n",
      "    bytes = convert_numpy_array(array)\n",
      "  File \"/usr/local/lib/python3.6/dist-packages/carball/analysis/utils/numpy_manager.py\", line 30, in convert_numpy_array\n",
      "    np.save(compressed_array, numpy_array, allow_pickle=True, fix_imports=False)\n",
      "  File \"/home/jonah/.local/lib/python3.6/site-packages/numpy/lib/npyio.py\", line 529, in save\n",
      "    pickle_kwargs=pickle_kwargs)\n",
      "  File \"/home/jonah/.local/lib/python3.6/site-packages/numpy/lib/format.py\", line 608, in write_array\n",
      "    version)\n",
      "  File \"/home/jonah/.local/lib/python3.6/site-packages/numpy/lib/format.py\", line 351, in _write_array_header\n",
      "    header = asbytes(_filter_header(header))\n",
      "  File \"/home/jonah/.local/lib/python3.6/site-packages/numpy/compat/py3k.py\", line 36, in asbytes\n",
      "    return str(s).encode('latin1')\n",
      "UnicodeEncodeError: 'latin-1' codec can't encode character '\\u30c4' in position 4632: ordinal not in range(256)\n"
     ]
    },
    {
     "name": "stdout",
     "output_type": "stream",
     "text": [
      "replays/Week 1/M3 EG v Rogue/M3G3.replay\n",
      "['rattletrap-6.3.1-osx', 'rattletrap-6.3.1-windows.exe', 'rattletrap-6.3.1-linux']\n"
     ]
    },
    {
     "name": "stderr",
     "output_type": "stream",
     "text": [
      "Player RLCS Admin as player has no MatchScore.\n",
      "Score is not found for player\n",
      "Ignoring player: RLCS Admin as player has no team.\n",
      "Player RLCS Observer 2 as player has no MatchScore.\n",
      "Score is not found for player\n",
      "Ignoring player: RLCS Observer 2 as player has no team.\n",
      "Player RLCS Observer 3 as player has no MatchScore.\n",
      "Score is not found for player\n",
      "Ignoring player: RLCS Observer 3 as player has no team.\n",
      "Player RLCS Observer 1 as player has no MatchScore.\n",
      "Score is not found for player\n",
      "Ignoring player: RLCS Observer 1 as player has no team.\n"
     ]
    },
    {
     "name": "stdout",
     "output_type": "stream",
     "text": [
      "replays/Week 1/M3 EG v Rogue/M3G1.replay\n",
      "['rattletrap-6.3.1-osx', 'rattletrap-6.3.1-windows.exe', 'rattletrap-6.3.1-linux']\n"
     ]
    },
    {
     "name": "stderr",
     "output_type": "stream",
     "text": [
      "Player RLCS Admin as player has no MatchScore.\n",
      "Score is not found for player\n",
      "Ignoring player: RLCS Admin as player has no team.\n",
      "Player RLCS Observer 1 as player has no MatchScore.\n",
      "Score is not found for player\n",
      "Ignoring player: RLCS Observer 1 as player has no team.\n",
      "Player RLCS Observer 3 as player has no MatchScore.\n",
      "Score is not found for player\n",
      "Ignoring player: RLCS Observer 3 as player has no team.\n",
      "Player RLCS Observer 2 as player has no MatchScore.\n",
      "Score is not found for player\n",
      "Ignoring player: RLCS Observer 2 as player has no team.\n",
      "Goal is not shot: frame_number: 2246\n",
      "player_id {\n",
      "  id: \"76561198076736523\"\n",
      "}\n",
      "collision_distance: 156.9142303466797\n",
      "ball_data {\n",
      "  pos_x: 2503.72998046875\n",
      "  pos_y: 2658.60009765625\n",
      "  pos_z: 197.1999969482422\n",
      "}\n",
      "dribble: true\n",
      "goal: true\n",
      "distance: 3633.422119140625\n",
      "distance_to_goal: 8507.427734375\n",
      "previous_hit_frame_number: 2187\n",
      "goal_number: 0\n",
      "is_kickoff: false\n",
      "\n"
     ]
    },
    {
     "name": "stdout",
     "output_type": "stream",
     "text": [
      "replays/Week 1/M3 EG v Rogue/M3G4.replay\n",
      "['rattletrap-6.3.1-osx', 'rattletrap-6.3.1-windows.exe', 'rattletrap-6.3.1-linux']\n"
     ]
    },
    {
     "name": "stderr",
     "output_type": "stream",
     "text": [
      "Player RLCS Admin as player has no MatchScore.\n",
      "Score is not found for player\n",
      "Ignoring player: RLCS Admin as player has no team.\n",
      "Player RLCS Observer 2 as player has no MatchScore.\n",
      "Score is not found for player\n",
      "Ignoring player: RLCS Observer 2 as player has no team.\n",
      "Player RLCS Observer 3 as player has no MatchScore.\n",
      "Score is not found for player\n",
      "Ignoring player: RLCS Observer 3 as player has no team.\n",
      "Player RLCS Observer 1 as player has no MatchScore.\n",
      "Score is not found for player\n",
      "Ignoring player: RLCS Observer 1 as player has no team.\n",
      "Dropping these columns[('game', 'is_overtime')]\n"
     ]
    },
    {
     "name": "stdout",
     "output_type": "stream",
     "text": [
      "replays/Week 1/M3 EG v Rogue/M3G2.replay\n",
      "['rattletrap-6.3.1-osx', 'rattletrap-6.3.1-windows.exe', 'rattletrap-6.3.1-linux']\n"
     ]
    },
    {
     "name": "stderr",
     "output_type": "stream",
     "text": [
      "Player RLCS Admin as player has no MatchScore.\n",
      "Score is not found for player\n",
      "Ignoring player: RLCS Admin as player has no team.\n",
      "Player AyyJayy as player has no MatchScore.\n"
     ]
    },
    {
     "name": "stdout",
     "output_type": "stream",
     "text": [
      "replays/Week 1/M3 EG v Rogue/M3G5.replay\n",
      "['rattletrap-6.3.1-osx', 'rattletrap-6.3.1-windows.exe', 'rattletrap-6.3.1-linux']\n"
     ]
    },
    {
     "name": "stderr",
     "output_type": "stream",
     "text": [
      "Player RLCS Admin as player has no MatchScore.\n",
      "Score is not found for player\n",
      "Ignoring player: RLCS Admin as player has no team.\n",
      "Player RLCS Observer 1 as player has no MatchScore.\n",
      "Score is not found for player\n",
      "Ignoring player: RLCS Observer 1 as player has no team.\n",
      "Player RLCS Observer 3 as player has no MatchScore.\n",
      "Score is not found for player\n",
      "Ignoring player: RLCS Observer 3 as player has no team.\n",
      "Player RLCS Observer 2 as player has no MatchScore.\n",
      "Score is not found for player\n",
      "Ignoring player: RLCS Observer 2 as player has no team.\n",
      "Dropping these columns[('game', 'is_overtime')]\n"
     ]
    },
    {
     "name": "stdout",
     "output_type": "stream",
     "text": [
      "replays/Week 1/M5 FCB v Dig/M5G4.replay\n",
      "['rattletrap-6.3.1-osx', 'rattletrap-6.3.1-windows.exe', 'rattletrap-6.3.1-linux']\n"
     ]
    },
    {
     "name": "stderr",
     "output_type": "stream",
     "text": [
      "Player RLCS Admin as player has no MatchScore.\n",
      "Score is not found for player\n",
      "Ignoring player: RLCS Admin as player has no team.\n",
      "Player RLCS Observer 2 as player has no MatchScore.\n",
      "Score is not found for player\n",
      "Ignoring player: RLCS Observer 2 as player has no team.\n",
      "Player RLCS Observer 1 as player has no MatchScore.\n",
      "Score is not found for player\n",
      "Ignoring player: RLCS Observer 1 as player has no team.\n",
      "Player RLCS Observer 3 as player has no MatchScore.\n",
      "Score is not found for player\n",
      "Ignoring player: RLCS Observer 3 as player has no team.\n",
      "Dropping these columns[('game', 'is_overtime')]\n",
      "Goal is not shot: frame_number: 4093\n",
      "player_id {\n",
      "  id: \"76561198194977850\"\n",
      "}\n",
      "collision_distance: 254.2095947265625\n",
      "ball_data {\n",
      "  pos_x: -3974.6201171875\n",
      "  pos_y: -1843.9599609375\n",
      "  pos_z: 174.92999267578125\n",
      "}\n",
      "goal: true\n",
      "distance: 195.45989990234375\n",
      "distance_to_goal: 4510.1865234375\n",
      "previous_hit_frame_number: 4024\n",
      "next_hit_frame_number: 4097\n",
      "goal_number: 1\n",
      "is_kickoff: false\n",
      "\n"
     ]
    },
    {
     "name": "stdout",
     "output_type": "stream",
     "text": [
      "replays/Week 1/M5 FCB v Dig/M5G2.replay\n",
      "['rattletrap-6.3.1-osx', 'rattletrap-6.3.1-windows.exe', 'rattletrap-6.3.1-linux']\n"
     ]
    },
    {
     "name": "stderr",
     "output_type": "stream",
     "text": [
      "Player RLCS Admin as player has no MatchScore.\n",
      "Score is not found for player\n",
      "Ignoring player: RLCS Admin as player has no team.\n",
      "Player RLCS Observer 1 as player has no MatchScore.\n",
      "Score is not found for player\n",
      "Ignoring player: RLCS Observer 1 as player has no team.\n",
      "Player RLCS Observer 2 as player has no MatchScore.\n",
      "Score is not found for player\n",
      "Ignoring player: RLCS Observer 2 as player has no team.\n",
      "Player RLCS Observer 3 as player has no MatchScore.\n",
      "Score is not found for player\n",
      "Ignoring player: RLCS Observer 3 as player has no team.\n",
      "Dropping these columns[('game', 'is_overtime')]\n"
     ]
    },
    {
     "name": "stdout",
     "output_type": "stream",
     "text": [
      "replays/Week 1/M5 FCB v Dig/M5G3.replay\n",
      "['rattletrap-6.3.1-osx', 'rattletrap-6.3.1-windows.exe', 'rattletrap-6.3.1-linux']\n"
     ]
    },
    {
     "name": "stderr",
     "output_type": "stream",
     "text": [
      "Player RLCS Admin as player has no MatchScore.\n",
      "Score is not found for player\n",
      "Ignoring player: RLCS Admin as player has no team.\n",
      "Player RLCS Observer 2 as player has no MatchScore.\n",
      "Score is not found for player\n",
      "Ignoring player: RLCS Observer 2 as player has no team.\n",
      "Player RLCS Observer 1 as player has no MatchScore.\n",
      "Score is not found for player\n",
      "Ignoring player: RLCS Observer 1 as player has no team.\n",
      "Player RLCS Observer 3 as player has no MatchScore.\n",
      "Score is not found for player\n",
      "Ignoring player: RLCS Observer 3 as player has no team.\n",
      "Dropping these columns[('game', 'is_overtime')]\n"
     ]
    },
    {
     "name": "stdout",
     "output_type": "stream",
     "text": [
      "replays/Week 1/M5 FCB v Dig/M5G1.replay\n",
      "['rattletrap-6.3.1-osx', 'rattletrap-6.3.1-windows.exe', 'rattletrap-6.3.1-linux']\n"
     ]
    },
    {
     "name": "stderr",
     "output_type": "stream",
     "text": [
      "Player RLCS Admin as player has no MatchScore.\n",
      "Score is not found for player\n",
      "Ignoring player: RLCS Admin as player has no team.\n",
      "Player RLCS Observer 2 as player has no MatchScore.\n",
      "Score is not found for player\n",
      "Ignoring player: RLCS Observer 2 as player has no team.\n",
      "Player RLCS Observer 1 as player has no MatchScore.\n",
      "Score is not found for player\n",
      "Ignoring player: RLCS Observer 1 as player has no team.\n",
      "Player RLCS Observer 3 as player has no MatchScore.\n",
      "Score is not found for player\n",
      "Ignoring player: RLCS Observer 3 as player has no team.\n"
     ]
    },
    {
     "name": "stdout",
     "output_type": "stream",
     "text": [
      "replays/Week 1/M3 PSG v Vitality/M3G3.replay\n",
      "['rattletrap-6.3.1-osx', 'rattletrap-6.3.1-windows.exe', 'rattletrap-6.3.1-linux']\n"
     ]
    },
    {
     "name": "stderr",
     "output_type": "stream",
     "text": [
      "Player RLCS Admin as player has no MatchScore.\n",
      "Score is not found for player\n",
      "Ignoring player: RLCS Admin as player has no team.\n",
      "Player RLCS Observer 3 as player has no MatchScore.\n",
      "Score is not found for player\n",
      "Ignoring player: RLCS Observer 3 as player has no team.\n",
      "Player RLCS Observer 1 as player has no MatchScore.\n",
      "Score is not found for player\n",
      "Ignoring player: RLCS Observer 1 as player has no team.\n",
      "Player RLCS Observer 2 as player has no MatchScore.\n",
      "Score is not found for player\n",
      "Ignoring player: RLCS Observer 2 as player has no team.\n",
      "Dropping these columns[('game', 'is_overtime')]\n"
     ]
    },
    {
     "name": "stdout",
     "output_type": "stream",
     "text": [
      "replays/Week 1/M3 PSG v Vitality/M3G1.replay\n",
      "['rattletrap-6.3.1-osx', 'rattletrap-6.3.1-windows.exe', 'rattletrap-6.3.1-linux']\n"
     ]
    },
    {
     "name": "stderr",
     "output_type": "stream",
     "text": [
      "Player RLCS Admin as player has no MatchScore.\n",
      "Score is not found for player\n",
      "Ignoring player: RLCS Admin as player has no team.\n",
      "Player RLCS Observer 3 as player has no MatchScore.\n",
      "Score is not found for player\n",
      "Ignoring player: RLCS Observer 3 as player has no team.\n",
      "Player RLCS Observer 1 as player has no MatchScore.\n",
      "Score is not found for player\n",
      "Ignoring player: RLCS Observer 1 as player has no team.\n",
      "Player RLCS Observer 2 as player has no MatchScore.\n",
      "Score is not found for player\n",
      "Ignoring player: RLCS Observer 2 as player has no team.\n",
      "Dropping these columns[('game', 'is_overtime')]\n"
     ]
    },
    {
     "name": "stdout",
     "output_type": "stream",
     "text": [
      "replays/Week 1/M3 PSG v Vitality/M3G4.replay\n",
      "['rattletrap-6.3.1-osx', 'rattletrap-6.3.1-windows.exe', 'rattletrap-6.3.1-linux']\n"
     ]
    },
    {
     "name": "stderr",
     "output_type": "stream",
     "text": [
      "Player RLCS Admin as player has no MatchScore.\n",
      "Score is not found for player\n",
      "Ignoring player: RLCS Admin as player has no team.\n",
      "Player RLCS Observer 3 as player has no MatchScore.\n",
      "Score is not found for player\n",
      "Ignoring player: RLCS Observer 3 as player has no team.\n",
      "Player RLCS Observer 1 as player has no MatchScore.\n",
      "Score is not found for player\n",
      "Ignoring player: RLCS Observer 1 as player has no team.\n",
      "Player RLCS Observer 2 as player has no MatchScore.\n",
      "Score is not found for player\n",
      "Ignoring player: RLCS Observer 2 as player has no team.\n",
      "Dropping these columns[('game', 'is_overtime')]\n"
     ]
    }
   ],
   "source": [
    "# build list of protobufs for each game, this takes a while\n",
    "\n",
    "protobufs = []\n",
    "for g in games:\n",
    "    print(g)\n",
    "    try:\n",
    "        protobufs.append(analyze_replay_file(g).protobuf_game)\n",
    "    except:\n",
    "        continue"
   ]
  },
  {
   "cell_type": "code",
   "execution_count": 307,
   "metadata": {
    "scrolled": true
   },
   "outputs": [],
   "source": [
    "# build list of all players from each game\n",
    "\n",
    "player_list = {}\n",
    "regions = {76561198070392546: 0, 76561198044109673: 0, 76561198061585314: 0, 76561198136523266: 0, 76561198293785594: 0, 76561198299709908: 0, 76561198323843523: 0, 76561198341071770: 0, 76561198073484045: 0, 76561198149461762: 0, 76561198085868465: 0, 76561198071944774: 0, 76561198183899729: 1, 76561198301423321: 1, 76561198306168245: 1, 76561198129290934: 1, 76561198010679645: 1, 76561198071457340: 1, 76561198015727607: 0, 76561198140386409: 0, 76561198128584479: 0, 76561198162102242: 0, 76561198053209198: 0, 76561197992682099: 0, 76561198011715777: 1, 76561198137996936: 1, 76561198080528613: 1, 76561198089298636: 1, 76561198285093463: 1, 76561198348804468: 1, 76561198213713880: 1, 76561198067659334: 1, 76561198112703866: 1, 76561198105072499: 0, 76561198076736523: 0, 76561198219259227: 0, 76561198066822605: 1, 76561198374703623: 1, 76561198194977850: 1, 76561198271971450: 1, 76561198404180097: 1, 76561198090715652: 1, 76561198064630547: 1, 76561198353133370: 1, 76561198072696308: 1, 76561198286759507: 0, 76561198148418720: 0, 76561198097285289: 0, 76561198960920514: 0}\n",
    "\n",
    "for proto_obj in protobufs:\n",
    "    for player in proto_obj.players:\n",
    "        # RLCS admin id lol\n",
    "        if player.id.id == '76561198812073410':\n",
    "            continue\n",
    "        # JWismont has 2 ids for some reason\n",
    "        if player.id.id == '76561198140386409':\n",
    "            player.id.id = '76561198960920514'\n",
    "            \n",
    "        if player.id.id not in player_list.keys():\n",
    "            p = Player()\n",
    "            stats = player.stats\n",
    "\n",
    "            p.name = player.name\n",
    "            p.player_id = player.id.id\n",
    "            p.boost_used = stats.boost.boost_usage\n",
    "            p.shots = stats.hit_counts.total_shots\n",
    "            p.attacking_time = stats.positional_tendencies.time_in_attacking_half\n",
    "            p.num_stolen_boosts = stats.boost.num_stolen_boosts\n",
    "            p.wasted_boost = stats.boost.wasted_small + stats.boost.wasted_big\n",
    "            p.games = 1\n",
    "            p.region = regions[int(player.id.id)]\n",
    "            p.ave_boost_level = stats.boost.average_boost_level/2.55\n",
    "            p.most_back_player = stats.relative_positioning.time_most_back_player\n",
    "\n",
    "            player_list[player.id.id] = p\n",
    "        else:\n",
    "            p = player_list[player.id.id]\n",
    "            stats = player.stats\n",
    "\n",
    "            p.boost_used += stats.boost.boost_usage\n",
    "            p.shots += stats.hit_counts.total_shots\n",
    "            p.attacking_time += stats.positional_tendencies.time_in_attacking_half\n",
    "            p.num_stolen_boosts += stats.boost.num_stolen_boosts\n",
    "            p.wasted_boost += stats.boost.wasted_small + stats.boost.wasted_big\n",
    "            p.games += 1\n",
    "            p.ave_boost_level += stats.boost.average_boost_level/2.55\n",
    "            p.most_back_player += stats.relative_positioning.time_most_back_player\n"
   ]
  },
  {
   "cell_type": "code",
   "execution_count": 308,
   "metadata": {},
   "outputs": [],
   "source": [
    "# save player list\n",
    "\n",
    "import pickle\n",
    "\n",
    "pickle.dump( player_list, open( \"player_list3\", \"wb\" ) )\n"
   ]
  },
  {
   "cell_type": "code",
   "execution_count": 2,
   "metadata": {},
   "outputs": [],
   "source": [
    "# load player list\n",
    "\n",
    "import pickle\n",
    "\n",
    "player_list = pickle.load(open( \"player_list3\", \"rb\" ))"
   ]
  },
  {
   "cell_type": "code",
   "execution_count": 232,
   "metadata": {
    "scrolled": true
   },
   "outputs": [
    {
     "name": "stdout",
     "output_type": "stream",
     "text": [
      "Fireburner 0 for NA, 1 for EU0\n",
      "Rizzo 0 for NA, 1 for EU0\n",
      "JKnaps 0 for NA, 1 for EU0\n",
      "GarrettG 0 for NA, 1 for EU0\n",
      "Chicago 0 for NA, 1 for EU0\n",
      "jstn. 0 for NA, 1 for EU0\n",
      "Sypical 0 for NA, 1 for EU0\n",
      "Allushin 0 for NA, 1 for EU0\n",
      "Memory 0 for NA, 1 for EU0\n",
      "Satthew 0 for NA, 1 for EU0\n",
      "Lethamyr 0 for NA, 1 for EU0\n",
      "AxB 0 for NA, 1 for EU0\n",
      "Chausette45 0 for NA, 1 for EU1\n",
      "Alex161 0 for NA, 1 for EU1\n",
      "Tigreee 0 for NA, 1 for EU1\n",
      "al0t 0 for NA, 1 for EU1\n",
      "fruity 0 for NA, 1 for EU1\n",
      "Ferra 0 for NA, 1 for EU1\n",
      "Karma 0 for NA, 1 for EU0\n",
      "JWismont 0 for NA, 1 for EU0\n",
      "KLASSUX 0 for NA, 1 for EU0\n",
      "Drippay 0 for NA, 1 for EU0\n",
      "DudeWithTheNose 0 for NA, 1 for EU0\n",
      "CorruptedG 0 for NA, 1 for EU0\n",
      "remkoe 0 for NA, 1 for EU1\n",
      "EyeIgnite 0 for NA, 1 for EU1\n",
      "Metsanauris 0 for NA, 1 for EU1\n",
      "Scrub Killa 0 for NA, 1 for EU1\n",
      "Kassio 0 for NA, 1 for EU1\n",
      "Tad 0 for NA, 1 for EU1\n",
      "Fairy Peak! 0 for NA, 1 for EU1\n",
      "Kaydop 0 for NA, 1 for EU1\n",
      "Ronaky 0 for NA, 1 for EU1\n",
      "AyyJayy 0 for NA, 1 for EU0\n",
      "Kronovi ^-^ 0 for NA, 1 for EU0\n",
      "Wonder 0 for NA, 1 for EU0\n",
      "ViolentPanda 0 for NA, 1 for EU1\n",
      "Yukeo 0 for NA, 1 for EU1\n",
      "Turbopolsa 0 for NA, 1 for EU1\n",
      "Deevo 0 for NA, 1 for EU1\n",
      "Speed 0 for NA, 1 for EU1\n",
      "Bluey 0 for NA, 1 for EU1\n",
      "miztik 0 for NA, 1 for EU1\n",
      "Alpha54 0 for NA, 1 for EU1\n",
      "kuxir97 0 for NA, 1 for EU1\n",
      "Squishy 0 for NA, 1 for EU0\n",
      "gimmick 0 for NA, 1 for EU0\n",
      "Torment 0 for NA, 1 for EU0\n",
      "JWismont 0 for NA, 1 for EU0\n",
      "{'76561198070392546': '0', '76561198044109673': '0', '76561198061585314': '0', '76561198136523266': '0', '76561198293785594': '0', '76561198299709908': '0', '76561198323843523': '0', '76561198341071770': '0', '76561198073484045': '0', '76561198149461762': '0', '76561198085868465': '0', '76561198071944774': '0', '76561198183899729': '1', '76561198301423321': '1', '76561198306168245': '1', '76561198129290934': '1', '76561198010679645': '1', '76561198071457340': '1', '76561198015727607': '0', '76561198140386409': '0', '76561198128584479': '0', '76561198162102242': '0', '76561198053209198': '0', '76561197992682099': '0', '76561198011715777': '1', '76561198137996936': '1', '76561198080528613': '1', '76561198089298636': '1', '76561198285093463': '1', '76561198348804468': '1', '76561198213713880': '1', '76561198067659334': '1', '76561198112703866': '1', '76561198105072499': '0', '76561198076736523': '0', '76561198219259227': '0', '76561198066822605': '1', '76561198374703623': '1', '76561198194977850': '1', '76561198271971450': '1', '76561198404180097': '1', '76561198090715652': '1', '76561198064630547': '1', '76561198353133370': '1', '76561198072696308': '1', '76561198286759507': '0', '76561198148418720': '0', '76561198097285289': '0', '76561198960920514': '0'}\n"
     ]
    }
   ],
   "source": [
    "# add regions to players with prompts\n",
    "# I hard coded this after running it so there is no need to rerun\n",
    "# This is stored in the regions dict when the player_list is build\n",
    "\n",
    "players = list(player_list.values())\n",
    "for pl in players:\n",
    "    region =  input(\"{0} 0 for NA, 1 for EU\".format(pl.name))\n",
    "    pl.region = region\n",
    "    \n",
    "region_dict = {pl.player_id:pl.region for pl in players}\n",
    "print(region_dict)"
   ]
  },
  {
   "cell_type": "code",
   "execution_count": 8,
   "metadata": {
    "scrolled": false
   },
   "outputs": [
    {
     "data": {
      "application/javascript": [
       "/* Put everything inside the global mpl namespace */\n",
       "window.mpl = {};\n",
       "\n",
       "\n",
       "mpl.get_websocket_type = function() {\n",
       "    if (typeof(WebSocket) !== 'undefined') {\n",
       "        return WebSocket;\n",
       "    } else if (typeof(MozWebSocket) !== 'undefined') {\n",
       "        return MozWebSocket;\n",
       "    } else {\n",
       "        alert('Your browser does not have WebSocket support.' +\n",
       "              'Please try Chrome, Safari or Firefox ≥ 6. ' +\n",
       "              'Firefox 4 and 5 are also supported but you ' +\n",
       "              'have to enable WebSockets in about:config.');\n",
       "    };\n",
       "}\n",
       "\n",
       "mpl.figure = function(figure_id, websocket, ondownload, parent_element) {\n",
       "    this.id = figure_id;\n",
       "\n",
       "    this.ws = websocket;\n",
       "\n",
       "    this.supports_binary = (this.ws.binaryType != undefined);\n",
       "\n",
       "    if (!this.supports_binary) {\n",
       "        var warnings = document.getElementById(\"mpl-warnings\");\n",
       "        if (warnings) {\n",
       "            warnings.style.display = 'block';\n",
       "            warnings.textContent = (\n",
       "                \"This browser does not support binary websocket messages. \" +\n",
       "                    \"Performance may be slow.\");\n",
       "        }\n",
       "    }\n",
       "\n",
       "    this.imageObj = new Image();\n",
       "\n",
       "    this.context = undefined;\n",
       "    this.message = undefined;\n",
       "    this.canvas = undefined;\n",
       "    this.rubberband_canvas = undefined;\n",
       "    this.rubberband_context = undefined;\n",
       "    this.format_dropdown = undefined;\n",
       "\n",
       "    this.image_mode = 'full';\n",
       "\n",
       "    this.root = $('<div/>');\n",
       "    this._root_extra_style(this.root)\n",
       "    this.root.attr('style', 'display: inline-block');\n",
       "\n",
       "    $(parent_element).append(this.root);\n",
       "\n",
       "    this._init_header(this);\n",
       "    this._init_canvas(this);\n",
       "    this._init_toolbar(this);\n",
       "\n",
       "    var fig = this;\n",
       "\n",
       "    this.waiting = false;\n",
       "\n",
       "    this.ws.onopen =  function () {\n",
       "            fig.send_message(\"supports_binary\", {value: fig.supports_binary});\n",
       "            fig.send_message(\"send_image_mode\", {});\n",
       "            if (mpl.ratio != 1) {\n",
       "                fig.send_message(\"set_dpi_ratio\", {'dpi_ratio': mpl.ratio});\n",
       "            }\n",
       "            fig.send_message(\"refresh\", {});\n",
       "        }\n",
       "\n",
       "    this.imageObj.onload = function() {\n",
       "            if (fig.image_mode == 'full') {\n",
       "                // Full images could contain transparency (where diff images\n",
       "                // almost always do), so we need to clear the canvas so that\n",
       "                // there is no ghosting.\n",
       "                fig.context.clearRect(0, 0, fig.canvas.width, fig.canvas.height);\n",
       "            }\n",
       "            fig.context.drawImage(fig.imageObj, 0, 0);\n",
       "        };\n",
       "\n",
       "    this.imageObj.onunload = function() {\n",
       "        fig.ws.close();\n",
       "    }\n",
       "\n",
       "    this.ws.onmessage = this._make_on_message_function(this);\n",
       "\n",
       "    this.ondownload = ondownload;\n",
       "}\n",
       "\n",
       "mpl.figure.prototype._init_header = function() {\n",
       "    var titlebar = $(\n",
       "        '<div class=\"ui-dialog-titlebar ui-widget-header ui-corner-all ' +\n",
       "        'ui-helper-clearfix\"/>');\n",
       "    var titletext = $(\n",
       "        '<div class=\"ui-dialog-title\" style=\"width: 100%; ' +\n",
       "        'text-align: center; padding: 3px;\"/>');\n",
       "    titlebar.append(titletext)\n",
       "    this.root.append(titlebar);\n",
       "    this.header = titletext[0];\n",
       "}\n",
       "\n",
       "\n",
       "\n",
       "mpl.figure.prototype._canvas_extra_style = function(canvas_div) {\n",
       "\n",
       "}\n",
       "\n",
       "\n",
       "mpl.figure.prototype._root_extra_style = function(canvas_div) {\n",
       "\n",
       "}\n",
       "\n",
       "mpl.figure.prototype._init_canvas = function() {\n",
       "    var fig = this;\n",
       "\n",
       "    var canvas_div = $('<div/>');\n",
       "\n",
       "    canvas_div.attr('style', 'position: relative; clear: both; outline: 0');\n",
       "\n",
       "    function canvas_keyboard_event(event) {\n",
       "        return fig.key_event(event, event['data']);\n",
       "    }\n",
       "\n",
       "    canvas_div.keydown('key_press', canvas_keyboard_event);\n",
       "    canvas_div.keyup('key_release', canvas_keyboard_event);\n",
       "    this.canvas_div = canvas_div\n",
       "    this._canvas_extra_style(canvas_div)\n",
       "    this.root.append(canvas_div);\n",
       "\n",
       "    var canvas = $('<canvas/>');\n",
       "    canvas.addClass('mpl-canvas');\n",
       "    canvas.attr('style', \"left: 0; top: 0; z-index: 0; outline: 0\")\n",
       "\n",
       "    this.canvas = canvas[0];\n",
       "    this.context = canvas[0].getContext(\"2d\");\n",
       "\n",
       "    var backingStore = this.context.backingStorePixelRatio ||\n",
       "\tthis.context.webkitBackingStorePixelRatio ||\n",
       "\tthis.context.mozBackingStorePixelRatio ||\n",
       "\tthis.context.msBackingStorePixelRatio ||\n",
       "\tthis.context.oBackingStorePixelRatio ||\n",
       "\tthis.context.backingStorePixelRatio || 1;\n",
       "\n",
       "    mpl.ratio = (window.devicePixelRatio || 1) / backingStore;\n",
       "\n",
       "    var rubberband = $('<canvas/>');\n",
       "    rubberband.attr('style', \"position: absolute; left: 0; top: 0; z-index: 1;\")\n",
       "\n",
       "    var pass_mouse_events = true;\n",
       "\n",
       "    canvas_div.resizable({\n",
       "        start: function(event, ui) {\n",
       "            pass_mouse_events = false;\n",
       "        },\n",
       "        resize: function(event, ui) {\n",
       "            fig.request_resize(ui.size.width, ui.size.height);\n",
       "        },\n",
       "        stop: function(event, ui) {\n",
       "            pass_mouse_events = true;\n",
       "            fig.request_resize(ui.size.width, ui.size.height);\n",
       "        },\n",
       "    });\n",
       "\n",
       "    function mouse_event_fn(event) {\n",
       "        if (pass_mouse_events)\n",
       "            return fig.mouse_event(event, event['data']);\n",
       "    }\n",
       "\n",
       "    rubberband.mousedown('button_press', mouse_event_fn);\n",
       "    rubberband.mouseup('button_release', mouse_event_fn);\n",
       "    // Throttle sequential mouse events to 1 every 20ms.\n",
       "    rubberband.mousemove('motion_notify', mouse_event_fn);\n",
       "\n",
       "    rubberband.mouseenter('figure_enter', mouse_event_fn);\n",
       "    rubberband.mouseleave('figure_leave', mouse_event_fn);\n",
       "\n",
       "    canvas_div.on(\"wheel\", function (event) {\n",
       "        event = event.originalEvent;\n",
       "        event['data'] = 'scroll'\n",
       "        if (event.deltaY < 0) {\n",
       "            event.step = 1;\n",
       "        } else {\n",
       "            event.step = -1;\n",
       "        }\n",
       "        mouse_event_fn(event);\n",
       "    });\n",
       "\n",
       "    canvas_div.append(canvas);\n",
       "    canvas_div.append(rubberband);\n",
       "\n",
       "    this.rubberband = rubberband;\n",
       "    this.rubberband_canvas = rubberband[0];\n",
       "    this.rubberband_context = rubberband[0].getContext(\"2d\");\n",
       "    this.rubberband_context.strokeStyle = \"#000000\";\n",
       "\n",
       "    this._resize_canvas = function(width, height) {\n",
       "        // Keep the size of the canvas, canvas container, and rubber band\n",
       "        // canvas in synch.\n",
       "        canvas_div.css('width', width)\n",
       "        canvas_div.css('height', height)\n",
       "\n",
       "        canvas.attr('width', width * mpl.ratio);\n",
       "        canvas.attr('height', height * mpl.ratio);\n",
       "        canvas.attr('style', 'width: ' + width + 'px; height: ' + height + 'px;');\n",
       "\n",
       "        rubberband.attr('width', width);\n",
       "        rubberband.attr('height', height);\n",
       "    }\n",
       "\n",
       "    // Set the figure to an initial 600x600px, this will subsequently be updated\n",
       "    // upon first draw.\n",
       "    this._resize_canvas(600, 600);\n",
       "\n",
       "    // Disable right mouse context menu.\n",
       "    $(this.rubberband_canvas).bind(\"contextmenu\",function(e){\n",
       "        return false;\n",
       "    });\n",
       "\n",
       "    function set_focus () {\n",
       "        canvas.focus();\n",
       "        canvas_div.focus();\n",
       "    }\n",
       "\n",
       "    window.setTimeout(set_focus, 100);\n",
       "}\n",
       "\n",
       "mpl.figure.prototype._init_toolbar = function() {\n",
       "    var fig = this;\n",
       "\n",
       "    var nav_element = $('<div/>')\n",
       "    nav_element.attr('style', 'width: 100%');\n",
       "    this.root.append(nav_element);\n",
       "\n",
       "    // Define a callback function for later on.\n",
       "    function toolbar_event(event) {\n",
       "        return fig.toolbar_button_onclick(event['data']);\n",
       "    }\n",
       "    function toolbar_mouse_event(event) {\n",
       "        return fig.toolbar_button_onmouseover(event['data']);\n",
       "    }\n",
       "\n",
       "    for(var toolbar_ind in mpl.toolbar_items) {\n",
       "        var name = mpl.toolbar_items[toolbar_ind][0];\n",
       "        var tooltip = mpl.toolbar_items[toolbar_ind][1];\n",
       "        var image = mpl.toolbar_items[toolbar_ind][2];\n",
       "        var method_name = mpl.toolbar_items[toolbar_ind][3];\n",
       "\n",
       "        if (!name) {\n",
       "            // put a spacer in here.\n",
       "            continue;\n",
       "        }\n",
       "        var button = $('<button/>');\n",
       "        button.addClass('ui-button ui-widget ui-state-default ui-corner-all ' +\n",
       "                        'ui-button-icon-only');\n",
       "        button.attr('role', 'button');\n",
       "        button.attr('aria-disabled', 'false');\n",
       "        button.click(method_name, toolbar_event);\n",
       "        button.mouseover(tooltip, toolbar_mouse_event);\n",
       "\n",
       "        var icon_img = $('<span/>');\n",
       "        icon_img.addClass('ui-button-icon-primary ui-icon');\n",
       "        icon_img.addClass(image);\n",
       "        icon_img.addClass('ui-corner-all');\n",
       "\n",
       "        var tooltip_span = $('<span/>');\n",
       "        tooltip_span.addClass('ui-button-text');\n",
       "        tooltip_span.html(tooltip);\n",
       "\n",
       "        button.append(icon_img);\n",
       "        button.append(tooltip_span);\n",
       "\n",
       "        nav_element.append(button);\n",
       "    }\n",
       "\n",
       "    var fmt_picker_span = $('<span/>');\n",
       "\n",
       "    var fmt_picker = $('<select/>');\n",
       "    fmt_picker.addClass('mpl-toolbar-option ui-widget ui-widget-content');\n",
       "    fmt_picker_span.append(fmt_picker);\n",
       "    nav_element.append(fmt_picker_span);\n",
       "    this.format_dropdown = fmt_picker[0];\n",
       "\n",
       "    for (var ind in mpl.extensions) {\n",
       "        var fmt = mpl.extensions[ind];\n",
       "        var option = $(\n",
       "            '<option/>', {selected: fmt === mpl.default_extension}).html(fmt);\n",
       "        fmt_picker.append(option)\n",
       "    }\n",
       "\n",
       "    // Add hover states to the ui-buttons\n",
       "    $( \".ui-button\" ).hover(\n",
       "        function() { $(this).addClass(\"ui-state-hover\");},\n",
       "        function() { $(this).removeClass(\"ui-state-hover\");}\n",
       "    );\n",
       "\n",
       "    var status_bar = $('<span class=\"mpl-message\"/>');\n",
       "    nav_element.append(status_bar);\n",
       "    this.message = status_bar[0];\n",
       "}\n",
       "\n",
       "mpl.figure.prototype.request_resize = function(x_pixels, y_pixels) {\n",
       "    // Request matplotlib to resize the figure. Matplotlib will then trigger a resize in the client,\n",
       "    // which will in turn request a refresh of the image.\n",
       "    this.send_message('resize', {'width': x_pixels, 'height': y_pixels});\n",
       "}\n",
       "\n",
       "mpl.figure.prototype.send_message = function(type, properties) {\n",
       "    properties['type'] = type;\n",
       "    properties['figure_id'] = this.id;\n",
       "    this.ws.send(JSON.stringify(properties));\n",
       "}\n",
       "\n",
       "mpl.figure.prototype.send_draw_message = function() {\n",
       "    if (!this.waiting) {\n",
       "        this.waiting = true;\n",
       "        this.ws.send(JSON.stringify({type: \"draw\", figure_id: this.id}));\n",
       "    }\n",
       "}\n",
       "\n",
       "\n",
       "mpl.figure.prototype.handle_save = function(fig, msg) {\n",
       "    var format_dropdown = fig.format_dropdown;\n",
       "    var format = format_dropdown.options[format_dropdown.selectedIndex].value;\n",
       "    fig.ondownload(fig, format);\n",
       "}\n",
       "\n",
       "\n",
       "mpl.figure.prototype.handle_resize = function(fig, msg) {\n",
       "    var size = msg['size'];\n",
       "    if (size[0] != fig.canvas.width || size[1] != fig.canvas.height) {\n",
       "        fig._resize_canvas(size[0], size[1]);\n",
       "        fig.send_message(\"refresh\", {});\n",
       "    };\n",
       "}\n",
       "\n",
       "mpl.figure.prototype.handle_rubberband = function(fig, msg) {\n",
       "    var x0 = msg['x0'] / mpl.ratio;\n",
       "    var y0 = (fig.canvas.height - msg['y0']) / mpl.ratio;\n",
       "    var x1 = msg['x1'] / mpl.ratio;\n",
       "    var y1 = (fig.canvas.height - msg['y1']) / mpl.ratio;\n",
       "    x0 = Math.floor(x0) + 0.5;\n",
       "    y0 = Math.floor(y0) + 0.5;\n",
       "    x1 = Math.floor(x1) + 0.5;\n",
       "    y1 = Math.floor(y1) + 0.5;\n",
       "    var min_x = Math.min(x0, x1);\n",
       "    var min_y = Math.min(y0, y1);\n",
       "    var width = Math.abs(x1 - x0);\n",
       "    var height = Math.abs(y1 - y0);\n",
       "\n",
       "    fig.rubberband_context.clearRect(\n",
       "        0, 0, fig.canvas.width, fig.canvas.height);\n",
       "\n",
       "    fig.rubberband_context.strokeRect(min_x, min_y, width, height);\n",
       "}\n",
       "\n",
       "mpl.figure.prototype.handle_figure_label = function(fig, msg) {\n",
       "    // Updates the figure title.\n",
       "    fig.header.textContent = msg['label'];\n",
       "}\n",
       "\n",
       "mpl.figure.prototype.handle_cursor = function(fig, msg) {\n",
       "    var cursor = msg['cursor'];\n",
       "    switch(cursor)\n",
       "    {\n",
       "    case 0:\n",
       "        cursor = 'pointer';\n",
       "        break;\n",
       "    case 1:\n",
       "        cursor = 'default';\n",
       "        break;\n",
       "    case 2:\n",
       "        cursor = 'crosshair';\n",
       "        break;\n",
       "    case 3:\n",
       "        cursor = 'move';\n",
       "        break;\n",
       "    }\n",
       "    fig.rubberband_canvas.style.cursor = cursor;\n",
       "}\n",
       "\n",
       "mpl.figure.prototype.handle_message = function(fig, msg) {\n",
       "    fig.message.textContent = msg['message'];\n",
       "}\n",
       "\n",
       "mpl.figure.prototype.handle_draw = function(fig, msg) {\n",
       "    // Request the server to send over a new figure.\n",
       "    fig.send_draw_message();\n",
       "}\n",
       "\n",
       "mpl.figure.prototype.handle_image_mode = function(fig, msg) {\n",
       "    fig.image_mode = msg['mode'];\n",
       "}\n",
       "\n",
       "mpl.figure.prototype.updated_canvas_event = function() {\n",
       "    // Called whenever the canvas gets updated.\n",
       "    this.send_message(\"ack\", {});\n",
       "}\n",
       "\n",
       "// A function to construct a web socket function for onmessage handling.\n",
       "// Called in the figure constructor.\n",
       "mpl.figure.prototype._make_on_message_function = function(fig) {\n",
       "    return function socket_on_message(evt) {\n",
       "        if (evt.data instanceof Blob) {\n",
       "            /* FIXME: We get \"Resource interpreted as Image but\n",
       "             * transferred with MIME type text/plain:\" errors on\n",
       "             * Chrome.  But how to set the MIME type?  It doesn't seem\n",
       "             * to be part of the websocket stream */\n",
       "            evt.data.type = \"image/png\";\n",
       "\n",
       "            /* Free the memory for the previous frames */\n",
       "            if (fig.imageObj.src) {\n",
       "                (window.URL || window.webkitURL).revokeObjectURL(\n",
       "                    fig.imageObj.src);\n",
       "            }\n",
       "\n",
       "            fig.imageObj.src = (window.URL || window.webkitURL).createObjectURL(\n",
       "                evt.data);\n",
       "            fig.updated_canvas_event();\n",
       "            fig.waiting = false;\n",
       "            return;\n",
       "        }\n",
       "        else if (typeof evt.data === 'string' && evt.data.slice(0, 21) == \"data:image/png;base64\") {\n",
       "            fig.imageObj.src = evt.data;\n",
       "            fig.updated_canvas_event();\n",
       "            fig.waiting = false;\n",
       "            return;\n",
       "        }\n",
       "\n",
       "        var msg = JSON.parse(evt.data);\n",
       "        var msg_type = msg['type'];\n",
       "\n",
       "        // Call the  \"handle_{type}\" callback, which takes\n",
       "        // the figure and JSON message as its only arguments.\n",
       "        try {\n",
       "            var callback = fig[\"handle_\" + msg_type];\n",
       "        } catch (e) {\n",
       "            console.log(\"No handler for the '\" + msg_type + \"' message type: \", msg);\n",
       "            return;\n",
       "        }\n",
       "\n",
       "        if (callback) {\n",
       "            try {\n",
       "                // console.log(\"Handling '\" + msg_type + \"' message: \", msg);\n",
       "                callback(fig, msg);\n",
       "            } catch (e) {\n",
       "                console.log(\"Exception inside the 'handler_\" + msg_type + \"' callback:\", e, e.stack, msg);\n",
       "            }\n",
       "        }\n",
       "    };\n",
       "}\n",
       "\n",
       "// from http://stackoverflow.com/questions/1114465/getting-mouse-location-in-canvas\n",
       "mpl.findpos = function(e) {\n",
       "    //this section is from http://www.quirksmode.org/js/events_properties.html\n",
       "    var targ;\n",
       "    if (!e)\n",
       "        e = window.event;\n",
       "    if (e.target)\n",
       "        targ = e.target;\n",
       "    else if (e.srcElement)\n",
       "        targ = e.srcElement;\n",
       "    if (targ.nodeType == 3) // defeat Safari bug\n",
       "        targ = targ.parentNode;\n",
       "\n",
       "    // jQuery normalizes the pageX and pageY\n",
       "    // pageX,Y are the mouse positions relative to the document\n",
       "    // offset() returns the position of the element relative to the document\n",
       "    var x = e.pageX - $(targ).offset().left;\n",
       "    var y = e.pageY - $(targ).offset().top;\n",
       "\n",
       "    return {\"x\": x, \"y\": y};\n",
       "};\n",
       "\n",
       "/*\n",
       " * return a copy of an object with only non-object keys\n",
       " * we need this to avoid circular references\n",
       " * http://stackoverflow.com/a/24161582/3208463\n",
       " */\n",
       "function simpleKeys (original) {\n",
       "  return Object.keys(original).reduce(function (obj, key) {\n",
       "    if (typeof original[key] !== 'object')\n",
       "        obj[key] = original[key]\n",
       "    return obj;\n",
       "  }, {});\n",
       "}\n",
       "\n",
       "mpl.figure.prototype.mouse_event = function(event, name) {\n",
       "    var canvas_pos = mpl.findpos(event)\n",
       "\n",
       "    if (name === 'button_press')\n",
       "    {\n",
       "        this.canvas.focus();\n",
       "        this.canvas_div.focus();\n",
       "    }\n",
       "\n",
       "    var x = canvas_pos.x * mpl.ratio;\n",
       "    var y = canvas_pos.y * mpl.ratio;\n",
       "\n",
       "    this.send_message(name, {x: x, y: y, button: event.button,\n",
       "                             step: event.step,\n",
       "                             guiEvent: simpleKeys(event)});\n",
       "\n",
       "    /* This prevents the web browser from automatically changing to\n",
       "     * the text insertion cursor when the button is pressed.  We want\n",
       "     * to control all of the cursor setting manually through the\n",
       "     * 'cursor' event from matplotlib */\n",
       "    event.preventDefault();\n",
       "    return false;\n",
       "}\n",
       "\n",
       "mpl.figure.prototype._key_event_extra = function(event, name) {\n",
       "    // Handle any extra behaviour associated with a key event\n",
       "}\n",
       "\n",
       "mpl.figure.prototype.key_event = function(event, name) {\n",
       "\n",
       "    // Prevent repeat events\n",
       "    if (name == 'key_press')\n",
       "    {\n",
       "        if (event.which === this._key)\n",
       "            return;\n",
       "        else\n",
       "            this._key = event.which;\n",
       "    }\n",
       "    if (name == 'key_release')\n",
       "        this._key = null;\n",
       "\n",
       "    var value = '';\n",
       "    if (event.ctrlKey && event.which != 17)\n",
       "        value += \"ctrl+\";\n",
       "    if (event.altKey && event.which != 18)\n",
       "        value += \"alt+\";\n",
       "    if (event.shiftKey && event.which != 16)\n",
       "        value += \"shift+\";\n",
       "\n",
       "    value += 'k';\n",
       "    value += event.which.toString();\n",
       "\n",
       "    this._key_event_extra(event, name);\n",
       "\n",
       "    this.send_message(name, {key: value,\n",
       "                             guiEvent: simpleKeys(event)});\n",
       "    return false;\n",
       "}\n",
       "\n",
       "mpl.figure.prototype.toolbar_button_onclick = function(name) {\n",
       "    if (name == 'download') {\n",
       "        this.handle_save(this, null);\n",
       "    } else {\n",
       "        this.send_message(\"toolbar_button\", {name: name});\n",
       "    }\n",
       "};\n",
       "\n",
       "mpl.figure.prototype.toolbar_button_onmouseover = function(tooltip) {\n",
       "    this.message.textContent = tooltip;\n",
       "};\n",
       "mpl.toolbar_items = [[\"Home\", \"Reset original view\", \"fa fa-home icon-home\", \"home\"], [\"Back\", \"Back to previous view\", \"fa fa-arrow-left icon-arrow-left\", \"back\"], [\"Forward\", \"Forward to next view\", \"fa fa-arrow-right icon-arrow-right\", \"forward\"], [\"\", \"\", \"\", \"\"], [\"Pan\", \"Pan axes with left mouse, zoom with right\", \"fa fa-arrows icon-move\", \"pan\"], [\"Zoom\", \"Zoom to rectangle\", \"fa fa-square-o icon-check-empty\", \"zoom\"], [\"\", \"\", \"\", \"\"], [\"Download\", \"Download plot\", \"fa fa-floppy-o icon-save\", \"download\"]];\n",
       "\n",
       "mpl.extensions = [\"eps\", \"jpeg\", \"pdf\", \"png\", \"ps\", \"raw\", \"svg\", \"tif\"];\n",
       "\n",
       "mpl.default_extension = \"png\";var comm_websocket_adapter = function(comm) {\n",
       "    // Create a \"websocket\"-like object which calls the given IPython comm\n",
       "    // object with the appropriate methods. Currently this is a non binary\n",
       "    // socket, so there is still some room for performance tuning.\n",
       "    var ws = {};\n",
       "\n",
       "    ws.close = function() {\n",
       "        comm.close()\n",
       "    };\n",
       "    ws.send = function(m) {\n",
       "        //console.log('sending', m);\n",
       "        comm.send(m);\n",
       "    };\n",
       "    // Register the callback with on_msg.\n",
       "    comm.on_msg(function(msg) {\n",
       "        //console.log('receiving', msg['content']['data'], msg);\n",
       "        // Pass the mpl event to the overridden (by mpl) onmessage function.\n",
       "        ws.onmessage(msg['content']['data'])\n",
       "    });\n",
       "    return ws;\n",
       "}\n",
       "\n",
       "mpl.mpl_figure_comm = function(comm, msg) {\n",
       "    // This is the function which gets called when the mpl process\n",
       "    // starts-up an IPython Comm through the \"matplotlib\" channel.\n",
       "\n",
       "    var id = msg.content.data.id;\n",
       "    // Get hold of the div created by the display call when the Comm\n",
       "    // socket was opened in Python.\n",
       "    var element = $(\"#\" + id);\n",
       "    var ws_proxy = comm_websocket_adapter(comm)\n",
       "\n",
       "    function ondownload(figure, format) {\n",
       "        window.open(figure.imageObj.src);\n",
       "    }\n",
       "\n",
       "    var fig = new mpl.figure(id, ws_proxy,\n",
       "                           ondownload,\n",
       "                           element.get(0));\n",
       "\n",
       "    // Call onopen now - mpl needs it, as it is assuming we've passed it a real\n",
       "    // web socket which is closed, not our websocket->open comm proxy.\n",
       "    ws_proxy.onopen();\n",
       "\n",
       "    fig.parent_element = element.get(0);\n",
       "    fig.cell_info = mpl.find_output_cell(\"<div id='\" + id + \"'></div>\");\n",
       "    if (!fig.cell_info) {\n",
       "        console.error(\"Failed to find cell for figure\", id, fig);\n",
       "        return;\n",
       "    }\n",
       "\n",
       "    var output_index = fig.cell_info[2]\n",
       "    var cell = fig.cell_info[0];\n",
       "\n",
       "};\n",
       "\n",
       "mpl.figure.prototype.handle_close = function(fig, msg) {\n",
       "    var width = fig.canvas.width/mpl.ratio\n",
       "    fig.root.unbind('remove')\n",
       "\n",
       "    // Update the output cell to use the data from the current canvas.\n",
       "    fig.push_to_output();\n",
       "    var dataURL = fig.canvas.toDataURL();\n",
       "    // Re-enable the keyboard manager in IPython - without this line, in FF,\n",
       "    // the notebook keyboard shortcuts fail.\n",
       "    IPython.keyboard_manager.enable()\n",
       "    $(fig.parent_element).html('<img src=\"' + dataURL + '\" width=\"' + width + '\">');\n",
       "    fig.close_ws(fig, msg);\n",
       "}\n",
       "\n",
       "mpl.figure.prototype.close_ws = function(fig, msg){\n",
       "    fig.send_message('closing', msg);\n",
       "    // fig.ws.close()\n",
       "}\n",
       "\n",
       "mpl.figure.prototype.push_to_output = function(remove_interactive) {\n",
       "    // Turn the data on the canvas into data in the output cell.\n",
       "    var width = this.canvas.width/mpl.ratio\n",
       "    var dataURL = this.canvas.toDataURL();\n",
       "    this.cell_info[1]['text/html'] = '<img src=\"' + dataURL + '\" width=\"' + width + '\">';\n",
       "}\n",
       "\n",
       "mpl.figure.prototype.updated_canvas_event = function() {\n",
       "    // Tell IPython that the notebook contents must change.\n",
       "    IPython.notebook.set_dirty(true);\n",
       "    this.send_message(\"ack\", {});\n",
       "    var fig = this;\n",
       "    // Wait a second, then push the new image to the DOM so\n",
       "    // that it is saved nicely (might be nice to debounce this).\n",
       "    setTimeout(function () { fig.push_to_output() }, 1000);\n",
       "}\n",
       "\n",
       "mpl.figure.prototype._init_toolbar = function() {\n",
       "    var fig = this;\n",
       "\n",
       "    var nav_element = $('<div/>')\n",
       "    nav_element.attr('style', 'width: 100%');\n",
       "    this.root.append(nav_element);\n",
       "\n",
       "    // Define a callback function for later on.\n",
       "    function toolbar_event(event) {\n",
       "        return fig.toolbar_button_onclick(event['data']);\n",
       "    }\n",
       "    function toolbar_mouse_event(event) {\n",
       "        return fig.toolbar_button_onmouseover(event['data']);\n",
       "    }\n",
       "\n",
       "    for(var toolbar_ind in mpl.toolbar_items){\n",
       "        var name = mpl.toolbar_items[toolbar_ind][0];\n",
       "        var tooltip = mpl.toolbar_items[toolbar_ind][1];\n",
       "        var image = mpl.toolbar_items[toolbar_ind][2];\n",
       "        var method_name = mpl.toolbar_items[toolbar_ind][3];\n",
       "\n",
       "        if (!name) { continue; };\n",
       "\n",
       "        var button = $('<button class=\"btn btn-default\" href=\"#\" title=\"' + name + '\"><i class=\"fa ' + image + ' fa-lg\"></i></button>');\n",
       "        button.click(method_name, toolbar_event);\n",
       "        button.mouseover(tooltip, toolbar_mouse_event);\n",
       "        nav_element.append(button);\n",
       "    }\n",
       "\n",
       "    // Add the status bar.\n",
       "    var status_bar = $('<span class=\"mpl-message\" style=\"text-align:right; float: right;\"/>');\n",
       "    nav_element.append(status_bar);\n",
       "    this.message = status_bar[0];\n",
       "\n",
       "    // Add the close button to the window.\n",
       "    var buttongrp = $('<div class=\"btn-group inline pull-right\"></div>');\n",
       "    var button = $('<button class=\"btn btn-mini btn-primary\" href=\"#\" title=\"Stop Interaction\"><i class=\"fa fa-power-off icon-remove icon-large\"></i></button>');\n",
       "    button.click(function (evt) { fig.handle_close(fig, {}); } );\n",
       "    button.mouseover('Stop Interaction', toolbar_mouse_event);\n",
       "    buttongrp.append(button);\n",
       "    var titlebar = this.root.find($('.ui-dialog-titlebar'));\n",
       "    titlebar.prepend(buttongrp);\n",
       "}\n",
       "\n",
       "mpl.figure.prototype._root_extra_style = function(el){\n",
       "    var fig = this\n",
       "    el.on(\"remove\", function(){\n",
       "\tfig.close_ws(fig, {});\n",
       "    });\n",
       "}\n",
       "\n",
       "mpl.figure.prototype._canvas_extra_style = function(el){\n",
       "    // this is important to make the div 'focusable\n",
       "    el.attr('tabindex', 0)\n",
       "    // reach out to IPython and tell the keyboard manager to turn it's self\n",
       "    // off when our div gets focus\n",
       "\n",
       "    // location in version 3\n",
       "    if (IPython.notebook.keyboard_manager) {\n",
       "        IPython.notebook.keyboard_manager.register_events(el);\n",
       "    }\n",
       "    else {\n",
       "        // location in version 2\n",
       "        IPython.keyboard_manager.register_events(el);\n",
       "    }\n",
       "\n",
       "}\n",
       "\n",
       "mpl.figure.prototype._key_event_extra = function(event, name) {\n",
       "    var manager = IPython.notebook.keyboard_manager;\n",
       "    if (!manager)\n",
       "        manager = IPython.keyboard_manager;\n",
       "\n",
       "    // Check for shift+enter\n",
       "    if (event.shiftKey && event.which == 13) {\n",
       "        this.canvas_div.blur();\n",
       "        event.shiftKey = false;\n",
       "        // Send a \"J\" for go to next cell\n",
       "        event.which = 74;\n",
       "        event.keyCode = 74;\n",
       "        manager.command_mode();\n",
       "        manager.handle_keydown(event);\n",
       "    }\n",
       "}\n",
       "\n",
       "mpl.figure.prototype.handle_save = function(fig, msg) {\n",
       "    fig.ondownload(fig, null);\n",
       "}\n",
       "\n",
       "\n",
       "mpl.find_output_cell = function(html_output) {\n",
       "    // Return the cell and output element which can be found *uniquely* in the notebook.\n",
       "    // Note - this is a bit hacky, but it is done because the \"notebook_saving.Notebook\"\n",
       "    // IPython event is triggered only after the cells have been serialised, which for\n",
       "    // our purposes (turning an active figure into a static one), is too late.\n",
       "    var cells = IPython.notebook.get_cells();\n",
       "    var ncells = cells.length;\n",
       "    for (var i=0; i<ncells; i++) {\n",
       "        var cell = cells[i];\n",
       "        if (cell.cell_type === 'code'){\n",
       "            for (var j=0; j<cell.output_area.outputs.length; j++) {\n",
       "                var data = cell.output_area.outputs[j];\n",
       "                if (data.data) {\n",
       "                    // IPython >= 3 moved mimebundle to data attribute of output\n",
       "                    data = data.data;\n",
       "                }\n",
       "                if (data['text/html'] == html_output) {\n",
       "                    return [cell, data, j];\n",
       "                }\n",
       "            }\n",
       "        }\n",
       "    }\n",
       "}\n",
       "\n",
       "// Register the function which deals with the matplotlib target/channel.\n",
       "// The kernel may be null if the page has been refreshed.\n",
       "if (IPython.notebook.kernel != null) {\n",
       "    IPython.notebook.kernel.comm_manager.register_target('matplotlib', mpl.mpl_figure_comm);\n",
       "}\n"
      ],
      "text/plain": [
       "<IPython.core.display.Javascript object>"
      ]
     },
     "metadata": {},
     "output_type": "display_data"
    },
    {
     "data": {
      "text/html": [
       "<img src=\"data:image/png;base64,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\" width=\"3000\">"
      ],
      "text/plain": [
       "<IPython.core.display.HTML object>"
      ]
     },
     "metadata": {},
     "output_type": "display_data"
    }
   ],
   "source": [
    "# perform visualization\n",
    "%matplotlib notebook\n",
    "import numpy as np\n",
    "import matplotlib.pyplot as plt\n",
    "from pylab import rcParams\n",
    "\n",
    "font = {'family': 'lucide console',\n",
    "        'color':  'black',\n",
    "        'weight': 'normal',\n",
    "        'size': 8,\n",
    "        }\n",
    "\n",
    "rcParams['figure.figsize'] = 30, 50\n",
    "\n",
    "players = list(player_list.values())\n",
    "\n",
    "shots = list(map(lambda x: x.shots/x.games, players))\n",
    "boost = list(map(lambda x: x.boost_used/x.games, players))\n",
    "aggressiveness = list(map(lambda x: x.attacking_time/x.games, players))\n",
    "names = list(map(lambda x: x.name, players))\n",
    "regions = list(map(lambda x: x.region, players))\n",
    "boost_eff = list(map(lambda x: 1-x.wasted_boost/x.boost_used, players))\n",
    "num_stolen_boosts = list(map(lambda x: x.num_stolen_boosts/x.games, players))\n",
    "time_last = list(map(lambda x: x.most_back_player/x.games, players))\n",
    "ave_boost = list(map(lambda x: x.ave_boost_level/x.games, players))\n",
    "\n",
    "fig, (ax1, ax2, ax3) = plt.subplots(3)\n",
    "plt.subplots_adjust(left=0.05, bottom=None, right=None, top=None, wspace=None, hspace=0.2)\n",
    "\n",
    "ax1.scatter(shots, boost, c='r', alpha=0.5)\n",
    "ax1.set_title('Boost Usage vs Shots')\n",
    "ax1.set_xlabel('Shots')\n",
    "ax1.set_ylabel('Boost Usage')\n",
    "\n",
    "for i, name in enumerate(names):\n",
    "    reg = int(regions[i])\n",
    "    colors = ['red', 'blue']\n",
    "    ax1.annotate(name, (shots[i], boost[i]),color=colors[reg])\n",
    "\n",
    "ax2.scatter(num_stolen_boosts, aggressiveness, c='r', alpha=0.5)\n",
    "ax2.set_title('Aggressiveness vs Boost Stolen')\n",
    "ax2.set_xlabel('Boost Stolen')\n",
    "ax2.set_ylabel('Aggressiveness')\n",
    "\n",
    "for i, name in enumerate(names):\n",
    "    reg = int(regions[i])\n",
    "    colors = ['red', 'blue']\n",
    "    ax2.annotate(name, (num_stolen_boosts[i], aggressiveness[i]),color=colors[reg])\n",
    "    \n",
    "ax3.scatter(boost_eff, ave_boost, c='r', alpha=0.5)\n",
    "ax3.set_title('Average Boost Level vs Boost Efficiency')\n",
    "ax3.set_xlabel('Boost Efficiency')\n",
    "ax3.set_ylabel('Average Boosts Level')\n",
    "\n",
    "for i, name in enumerate(names):\n",
    "    reg = int(regions[i])\n",
    "    colors = ['red', 'blue']\n",
    "    ax3.annotate(name, (boost_eff[i], ave_boost[i]),color=colors[reg])\n",
    "    \n",
    "\n",
    "fig.show()\n"
   ]
  }
 ],
 "metadata": {
  "kernelspec": {
   "display_name": "Python 3",
   "language": "python",
   "name": "python3"
  },
  "language_info": {
   "codemirror_mode": {
    "name": "ipython",
    "version": 3
   },
   "file_extension": ".py",
   "mimetype": "text/x-python",
   "name": "python",
   "nbconvert_exporter": "python",
   "pygments_lexer": "ipython3",
   "version": "3.6.8"
  }
 },
 "nbformat": 4,
 "nbformat_minor": 2
}
